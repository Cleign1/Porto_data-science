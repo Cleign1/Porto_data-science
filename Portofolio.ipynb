{
 "cells": [
  {
   "cell_type": "markdown",
   "id": "e520184c-44c4-41cb-9203-319f75ff9027",
   "metadata": {},
   "source": [
    "## Nama : Muhamad Ibnu Khaidar Hafiz\n",
    "### -  Kelas : 4IA15\n",
    "### - NPM : 50421867"
   ]
  },
  {
   "cell_type": "markdown",
   "id": "9ff59875-a774-4e1d-8b74-e44af8e95df2",
   "metadata": {},
   "source": [
    "## latihan portofolio\n",
    "\n",
    "menggunakan pendekatan crisp-dm"
   ]
  },
  {
   "cell_type": "markdown",
   "id": "3f57c28e-298a-49a2-8d68-62fa4f1dc08f",
   "metadata": {},
   "source": [
    "### Todo\n",
    "1. Data Understanding\n",
    "2. Data Preparation\n",
    "3. Modelling\n",
    "4. Evaluasi\n",
    "5. Deployment"
   ]
  },
  {
   "cell_type": "code",
   "execution_count": 1,
   "id": "f480b77d-26ab-4207-a388-5b9f32ca6db2",
   "metadata": {},
   "outputs": [],
   "source": [
    "# import packages\n",
    "import pandas as pd\n",
    "import numpy as np\n",
    "import matplotlib.pyplot as plt\n",
    "import seaborn as sns"
   ]
  }
 ],
 "metadata": {
  "kernelspec": {
   "display_name": "Python 3 (ipykernel)",
   "language": "python",
   "name": "python3"
  },
  "language_info": {
   "codemirror_mode": {
    "name": "ipython",
    "version": 3
   },
   "file_extension": ".py",
   "mimetype": "text/x-python",
   "name": "python",
   "nbconvert_exporter": "python",
   "pygments_lexer": "ipython3",
   "version": "3.10.12"
  }
 },
 "nbformat": 4,
 "nbformat_minor": 5
}
