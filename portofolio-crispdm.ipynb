{
 "cells": [
  {
   "cell_type": "markdown",
   "id": "4b8444e0-316c-4af0-bd71-3bdf828aae42",
   "metadata": {},
   "source": [
    "## Nama : Muhamad Ibnu Khaidar Hafiz\n",
    "### -  Kelas : 4IA15\n",
    "### - NPM : 50421867"
   ]
  },
  {
   "cell_type": "markdown",
   "id": "204e8c1a-7faa-4b69-873d-888a2bebb186",
   "metadata": {},
   "source": [
    "## latihan portofolio\n",
    "\n",
    "menggunakan pendekatan crisp-dm"
   ]
  },
  {
   "cell_type": "markdown",
   "id": "5fb65cf4-f85d-4221-a755-8b516dd76b68",
   "metadata": {},
   "source": [
    "### Todo\n",
    "1. Data Understanding\n",
    "2. Data Preparation\n",
    "3. Modelling\n",
    "4. Evaluasi\n",
    "5. Deployment"
   ]
  },
  {
   "cell_type": "code",
   "execution_count": 1,
   "id": "468455c9-2b5b-4826-847a-5aaafcb9b913",
   "metadata": {},
   "outputs": [],
   "source": [
    "# import packages\n",
    "import pandas as pd\n",
    "import numpy as np\n",
    "import matplotlib.pyplot as plt\n",
    "import seaborn as sns"
   ]
  },
  {
   "cell_type": "markdown",
   "id": "297b5954-9590-45a1-934b-5720c90eb18d",
   "metadata": {},
   "source": [
    "## 1. Data Understanding"
   ]
  },
  {
   "cell_type": "markdown",
   "id": "62895dca-cca8-45cd-af81-2d6521321808",
   "metadata": {},
   "source": [
    "### Import data and load data"
   ]
  },
  {
   "cell_type": "code",
   "execution_count": 3,
   "id": "c8015f59-dbcb-4067-8906-bc34a1698148",
   "metadata": {},
   "outputs": [
    {
     "data": {
      "text/html": [
       "<div>\n",
       "<style scoped>\n",
       "    .dataframe tbody tr th:only-of-type {\n",
       "        vertical-align: middle;\n",
       "    }\n",
       "\n",
       "    .dataframe tbody tr th {\n",
       "        vertical-align: top;\n",
       "    }\n",
       "\n",
       "    .dataframe thead th {\n",
       "        text-align: right;\n",
       "    }\n",
       "</style>\n",
       "<table border=\"1\" class=\"dataframe\">\n",
       "  <thead>\n",
       "    <tr style=\"text-align: right;\">\n",
       "      <th></th>\n",
       "      <th>price</th>\n",
       "      <th>nav-link</th>\n",
       "      <th>description</th>\n",
       "      <th>listing-location</th>\n",
       "      <th>bed</th>\n",
       "      <th>bath</th>\n",
       "      <th>carport</th>\n",
       "      <th>surface_area</th>\n",
       "      <th>building_area</th>\n",
       "    </tr>\n",
       "  </thead>\n",
       "  <tbody>\n",
       "    <tr>\n",
       "      <th>0</th>\n",
       "      <td>Rp 1,79 Miliar</td>\n",
       "      <td>https://www.rumah123.com/properti/sleman/hos17...</td>\n",
       "      <td>Rumah 2 Lantai Baru  di jalan Palagan Sleman Y...</td>\n",
       "      <td>Ngaglik, Sleman</td>\n",
       "      <td>3.0</td>\n",
       "      <td>3.0</td>\n",
       "      <td>2.0</td>\n",
       "      <td>120 m²</td>\n",
       "      <td>110 m²</td>\n",
       "    </tr>\n",
       "    <tr>\n",
       "      <th>1</th>\n",
       "      <td>Rp 170 Juta</td>\n",
       "      <td>https://www.rumah123.com/properti/sleman/hos17...</td>\n",
       "      <td>RUMAH BARU DEKAT AL AZHAR DAN UGM</td>\n",
       "      <td>Jombor, Sleman</td>\n",
       "      <td>3.0</td>\n",
       "      <td>2.0</td>\n",
       "      <td>1.0</td>\n",
       "      <td>102 m²</td>\n",
       "      <td>126 m²</td>\n",
       "    </tr>\n",
       "    <tr>\n",
       "      <th>2</th>\n",
       "      <td>Rp 695 Juta</td>\n",
       "      <td>https://www.rumah123.com/properti/sleman/hos17...</td>\n",
       "      <td>RUMAH ASRI DAN SEJUK DI BERBAH SLEMAN DEKAT PA...</td>\n",
       "      <td>Berbah, Sleman</td>\n",
       "      <td>2.0</td>\n",
       "      <td>2.0</td>\n",
       "      <td>1.0</td>\n",
       "      <td>100 m²</td>\n",
       "      <td>100 m²</td>\n",
       "    </tr>\n",
       "    <tr>\n",
       "      <th>3</th>\n",
       "      <td>Rp 560 Juta</td>\n",
       "      <td>https://www.rumah123.com/properti/sleman/hos17...</td>\n",
       "      <td>Rumah Murah 5 Menit Dari Candi Prambanan Tersi...</td>\n",
       "      <td>Prambanan, Sleman</td>\n",
       "      <td>3.0</td>\n",
       "      <td>1.0</td>\n",
       "      <td>1.0</td>\n",
       "      <td>109 m²</td>\n",
       "      <td>67 m²</td>\n",
       "    </tr>\n",
       "    <tr>\n",
       "      <th>4</th>\n",
       "      <td>Rp 200 Juta</td>\n",
       "      <td>https://www.rumah123.com/properti/sleman/hos17...</td>\n",
       "      <td>Rumah Murah Cicilan 1jt Di Moyudan Sleman</td>\n",
       "      <td>Moyudan, Sleman</td>\n",
       "      <td>2.0</td>\n",
       "      <td>1.0</td>\n",
       "      <td>1.0</td>\n",
       "      <td>60 m²</td>\n",
       "      <td>30 m²</td>\n",
       "    </tr>\n",
       "  </tbody>\n",
       "</table>\n",
       "</div>"
      ],
      "text/plain": [
       "            price                                           nav-link  \\\n",
       "0  Rp 1,79 Miliar  https://www.rumah123.com/properti/sleman/hos17...   \n",
       "1     Rp 170 Juta  https://www.rumah123.com/properti/sleman/hos17...   \n",
       "2     Rp 695 Juta  https://www.rumah123.com/properti/sleman/hos17...   \n",
       "3     Rp 560 Juta  https://www.rumah123.com/properti/sleman/hos17...   \n",
       "4     Rp 200 Juta  https://www.rumah123.com/properti/sleman/hos17...   \n",
       "\n",
       "                                         description   listing-location  bed  \\\n",
       "0  Rumah 2 Lantai Baru  di jalan Palagan Sleman Y...    Ngaglik, Sleman  3.0   \n",
       "1                  RUMAH BARU DEKAT AL AZHAR DAN UGM     Jombor, Sleman  3.0   \n",
       "2  RUMAH ASRI DAN SEJUK DI BERBAH SLEMAN DEKAT PA...     Berbah, Sleman  2.0   \n",
       "3  Rumah Murah 5 Menit Dari Candi Prambanan Tersi...  Prambanan, Sleman  3.0   \n",
       "4          Rumah Murah Cicilan 1jt Di Moyudan Sleman    Moyudan, Sleman  2.0   \n",
       "\n",
       "   bath  carport surface_area building_area  \n",
       "0   3.0      2.0       120 m²        110 m²  \n",
       "1   2.0      1.0       102 m²        126 m²  \n",
       "2   2.0      1.0       100 m²        100 m²  \n",
       "3   1.0      1.0       109 m²         67 m²  \n",
       "4   1.0      1.0        60 m²         30 m²  "
      ]
     },
     "execution_count": 3,
     "metadata": {},
     "output_type": "execute_result"
    }
   ],
   "source": [
    "df = pd.read_csv('rumah123_yogya_unfiltered.csv')\n",
    "df.head()"
   ]
  },
  {
   "cell_type": "markdown",
   "id": "7970a75a-a8ba-4113-b98f-c6a960675ba5",
   "metadata": {},
   "source": [
    "### Cek Shape"
   ]
  },
  {
   "cell_type": "code",
   "execution_count": 5,
   "id": "55a4968b-791c-4609-8cf6-446c0f054b2d",
   "metadata": {},
   "outputs": [
    {
     "data": {
      "text/plain": [
       "(2020, 9)"
      ]
     },
     "execution_count": 5,
     "metadata": {},
     "output_type": "execute_result"
    }
   ],
   "source": [
    "df.shape"
   ]
  },
  {
   "cell_type": "markdown",
   "id": "f4c132af-5f8d-4316-8fcb-1c79bb871c56",
   "metadata": {},
   "source": [
    "### Cek tipe data"
   ]
  },
  {
   "cell_type": "code",
   "execution_count": 6,
   "id": "88a2ad09-39ba-4147-bdf5-35b2e84e54b5",
   "metadata": {},
   "outputs": [
    {
     "data": {
      "text/plain": [
       "price                object\n",
       "nav-link             object\n",
       "description          object\n",
       "listing-location     object\n",
       "bed                 float64\n",
       "bath                float64\n",
       "carport             float64\n",
       "surface_area         object\n",
       "building_area        object\n",
       "dtype: object"
      ]
     },
     "execution_count": 6,
     "metadata": {},
     "output_type": "execute_result"
    }
   ],
   "source": [
    "df.dtypes"
   ]
  },
  {
   "cell_type": "code",
   "execution_count": 10,
   "id": "430cdeb3-cb12-4aa4-afd7-95ed6801a03a",
   "metadata": {},
   "outputs": [
    {
     "name": "stdout",
     "output_type": "stream",
     "text": [
      "<class 'pandas.core.frame.DataFrame'>\n",
      "RangeIndex: 2020 entries, 0 to 2019\n",
      "Data columns (total 9 columns):\n",
      " #   Column            Non-Null Count  Dtype  \n",
      "---  ------            --------------  -----  \n",
      " 0   price             2020 non-null   object \n",
      " 1   nav-link          2020 non-null   object \n",
      " 2   description       2020 non-null   object \n",
      " 3   listing-location  2020 non-null   object \n",
      " 4   bed               2001 non-null   float64\n",
      " 5   bath              1999 non-null   float64\n",
      " 6   carport           1713 non-null   float64\n",
      " 7   surface_area      2019 non-null   object \n",
      " 8   building_area     2019 non-null   object \n",
      "dtypes: float64(3), object(6)\n",
      "memory usage: 142.2+ KB\n"
     ]
    }
   ],
   "source": [
    "# cek tipe data secara detailed\n",
    "df.info()"
   ]
  },
  {
   "cell_type": "markdown",
   "id": "058dc090-de4f-4fa6-93ee-f07f421bffce",
   "metadata": {},
   "source": [
    "### Statisika Dasar"
   ]
  },
  {
   "cell_type": "code",
   "execution_count": 12,
   "id": "0e09dead-65bb-42e7-9955-7a0fe8915601",
   "metadata": {},
   "outputs": [
    {
     "data": {
      "text/html": [
       "<div>\n",
       "<style scoped>\n",
       "    .dataframe tbody tr th:only-of-type {\n",
       "        vertical-align: middle;\n",
       "    }\n",
       "\n",
       "    .dataframe tbody tr th {\n",
       "        vertical-align: top;\n",
       "    }\n",
       "\n",
       "    .dataframe thead th {\n",
       "        text-align: right;\n",
       "    }\n",
       "</style>\n",
       "<table border=\"1\" class=\"dataframe\">\n",
       "  <thead>\n",
       "    <tr style=\"text-align: right;\">\n",
       "      <th></th>\n",
       "      <th>bed</th>\n",
       "      <th>bath</th>\n",
       "      <th>carport</th>\n",
       "    </tr>\n",
       "  </thead>\n",
       "  <tbody>\n",
       "    <tr>\n",
       "      <th>count</th>\n",
       "      <td>2001.000000</td>\n",
       "      <td>1999.000000</td>\n",
       "      <td>1713.000000</td>\n",
       "    </tr>\n",
       "    <tr>\n",
       "      <th>mean</th>\n",
       "      <td>3.969015</td>\n",
       "      <td>2.941971</td>\n",
       "      <td>1.559253</td>\n",
       "    </tr>\n",
       "    <tr>\n",
       "      <th>std</th>\n",
       "      <td>3.671654</td>\n",
       "      <td>3.517671</td>\n",
       "      <td>1.283030</td>\n",
       "    </tr>\n",
       "    <tr>\n",
       "      <th>min</th>\n",
       "      <td>1.000000</td>\n",
       "      <td>1.000000</td>\n",
       "      <td>1.000000</td>\n",
       "    </tr>\n",
       "    <tr>\n",
       "      <th>25%</th>\n",
       "      <td>2.000000</td>\n",
       "      <td>1.000000</td>\n",
       "      <td>1.000000</td>\n",
       "    </tr>\n",
       "    <tr>\n",
       "      <th>50%</th>\n",
       "      <td>3.000000</td>\n",
       "      <td>2.000000</td>\n",
       "      <td>1.000000</td>\n",
       "    </tr>\n",
       "    <tr>\n",
       "      <th>75%</th>\n",
       "      <td>4.000000</td>\n",
       "      <td>3.000000</td>\n",
       "      <td>2.000000</td>\n",
       "    </tr>\n",
       "    <tr>\n",
       "      <th>max</th>\n",
       "      <td>49.000000</td>\n",
       "      <td>49.000000</td>\n",
       "      <td>15.000000</td>\n",
       "    </tr>\n",
       "  </tbody>\n",
       "</table>\n",
       "</div>"
      ],
      "text/plain": [
       "               bed         bath      carport\n",
       "count  2001.000000  1999.000000  1713.000000\n",
       "mean      3.969015     2.941971     1.559253\n",
       "std       3.671654     3.517671     1.283030\n",
       "min       1.000000     1.000000     1.000000\n",
       "25%       2.000000     1.000000     1.000000\n",
       "50%       3.000000     2.000000     1.000000\n",
       "75%       4.000000     3.000000     2.000000\n",
       "max      49.000000    49.000000    15.000000"
      ]
     },
     "execution_count": 12,
     "metadata": {},
     "output_type": "execute_result"
    }
   ],
   "source": [
    "df.describe()"
   ]
  },
  {
   "cell_type": "code",
   "execution_count": 13,
   "id": "c77a988c-e7fe-4e11-8d55-35e98525d991",
   "metadata": {},
   "outputs": [
    {
     "data": {
      "text/html": [
       "<div>\n",
       "<style scoped>\n",
       "    .dataframe tbody tr th:only-of-type {\n",
       "        vertical-align: middle;\n",
       "    }\n",
       "\n",
       "    .dataframe tbody tr th {\n",
       "        vertical-align: top;\n",
       "    }\n",
       "\n",
       "    .dataframe thead th {\n",
       "        text-align: right;\n",
       "    }\n",
       "</style>\n",
       "<table border=\"1\" class=\"dataframe\">\n",
       "  <thead>\n",
       "    <tr style=\"text-align: right;\">\n",
       "      <th></th>\n",
       "      <th>bed</th>\n",
       "      <th>bath</th>\n",
       "      <th>carport</th>\n",
       "    </tr>\n",
       "  </thead>\n",
       "  <tbody>\n",
       "    <tr>\n",
       "      <th>count</th>\n",
       "      <td>2001.000000</td>\n",
       "      <td>1999.000000</td>\n",
       "      <td>1713.000000</td>\n",
       "    </tr>\n",
       "    <tr>\n",
       "      <th>mean</th>\n",
       "      <td>3.969015</td>\n",
       "      <td>2.941971</td>\n",
       "      <td>1.559253</td>\n",
       "    </tr>\n",
       "    <tr>\n",
       "      <th>std</th>\n",
       "      <td>3.671654</td>\n",
       "      <td>3.517671</td>\n",
       "      <td>1.283030</td>\n",
       "    </tr>\n",
       "    <tr>\n",
       "      <th>min</th>\n",
       "      <td>1.000000</td>\n",
       "      <td>1.000000</td>\n",
       "      <td>1.000000</td>\n",
       "    </tr>\n",
       "    <tr>\n",
       "      <th>25%</th>\n",
       "      <td>2.000000</td>\n",
       "      <td>1.000000</td>\n",
       "      <td>1.000000</td>\n",
       "    </tr>\n",
       "    <tr>\n",
       "      <th>50%</th>\n",
       "      <td>3.000000</td>\n",
       "      <td>2.000000</td>\n",
       "      <td>1.000000</td>\n",
       "    </tr>\n",
       "    <tr>\n",
       "      <th>75%</th>\n",
       "      <td>4.000000</td>\n",
       "      <td>3.000000</td>\n",
       "      <td>2.000000</td>\n",
       "    </tr>\n",
       "    <tr>\n",
       "      <th>max</th>\n",
       "      <td>49.000000</td>\n",
       "      <td>49.000000</td>\n",
       "      <td>15.000000</td>\n",
       "    </tr>\n",
       "  </tbody>\n",
       "</table>\n",
       "</div>"
      ],
      "text/plain": [
       "               bed         bath      carport\n",
       "count  2001.000000  1999.000000  1713.000000\n",
       "mean      3.969015     2.941971     1.559253\n",
       "std       3.671654     3.517671     1.283030\n",
       "min       1.000000     1.000000     1.000000\n",
       "25%       2.000000     1.000000     1.000000\n",
       "50%       3.000000     2.000000     1.000000\n",
       "75%       4.000000     3.000000     2.000000\n",
       "max      49.000000    49.000000    15.000000"
      ]
     },
     "execution_count": 13,
     "metadata": {},
     "output_type": "execute_result"
    }
   ],
   "source": [
    "df.describe(exclude='object')"
   ]
  },
  {
   "cell_type": "code",
   "execution_count": 14,
   "id": "9954fc99-0888-4ef3-aac9-2503183677d7",
   "metadata": {},
   "outputs": [
    {
     "data": {
      "text/html": [
       "<div>\n",
       "<style scoped>\n",
       "    .dataframe tbody tr th:only-of-type {\n",
       "        vertical-align: middle;\n",
       "    }\n",
       "\n",
       "    .dataframe tbody tr th {\n",
       "        vertical-align: top;\n",
       "    }\n",
       "\n",
       "    .dataframe thead th {\n",
       "        text-align: right;\n",
       "    }\n",
       "</style>\n",
       "<table border=\"1\" class=\"dataframe\">\n",
       "  <thead>\n",
       "    <tr style=\"text-align: right;\">\n",
       "      <th></th>\n",
       "      <th>price</th>\n",
       "      <th>nav-link</th>\n",
       "      <th>description</th>\n",
       "      <th>listing-location</th>\n",
       "      <th>bed</th>\n",
       "      <th>bath</th>\n",
       "      <th>carport</th>\n",
       "      <th>surface_area</th>\n",
       "      <th>building_area</th>\n",
       "    </tr>\n",
       "  </thead>\n",
       "  <tbody>\n",
       "    <tr>\n",
       "      <th>count</th>\n",
       "      <td>2020</td>\n",
       "      <td>2020</td>\n",
       "      <td>2020</td>\n",
       "      <td>2020</td>\n",
       "      <td>2001.000000</td>\n",
       "      <td>1999.000000</td>\n",
       "      <td>1713.000000</td>\n",
       "      <td>2019</td>\n",
       "      <td>2019</td>\n",
       "    </tr>\n",
       "    <tr>\n",
       "      <th>unique</th>\n",
       "      <td>401</td>\n",
       "      <td>2020</td>\n",
       "      <td>1923</td>\n",
       "      <td>69</td>\n",
       "      <td>NaN</td>\n",
       "      <td>NaN</td>\n",
       "      <td>NaN</td>\n",
       "      <td>343</td>\n",
       "      <td>228</td>\n",
       "    </tr>\n",
       "    <tr>\n",
       "      <th>top</th>\n",
       "      <td>Rp 1,5 Miliar</td>\n",
       "      <td>https://www.rumah123.com/properti/sleman/hos17...</td>\n",
       "      <td>Rumah Dijual di Yogyakarta</td>\n",
       "      <td>Ngaglik, Sleman</td>\n",
       "      <td>NaN</td>\n",
       "      <td>NaN</td>\n",
       "      <td>NaN</td>\n",
       "      <td>100 m²</td>\n",
       "      <td>36 m²</td>\n",
       "    </tr>\n",
       "    <tr>\n",
       "      <th>freq</th>\n",
       "      <td>36</td>\n",
       "      <td>1</td>\n",
       "      <td>18</td>\n",
       "      <td>303</td>\n",
       "      <td>NaN</td>\n",
       "      <td>NaN</td>\n",
       "      <td>NaN</td>\n",
       "      <td>62</td>\n",
       "      <td>116</td>\n",
       "    </tr>\n",
       "    <tr>\n",
       "      <th>mean</th>\n",
       "      <td>NaN</td>\n",
       "      <td>NaN</td>\n",
       "      <td>NaN</td>\n",
       "      <td>NaN</td>\n",
       "      <td>3.969015</td>\n",
       "      <td>2.941971</td>\n",
       "      <td>1.559253</td>\n",
       "      <td>NaN</td>\n",
       "      <td>NaN</td>\n",
       "    </tr>\n",
       "    <tr>\n",
       "      <th>std</th>\n",
       "      <td>NaN</td>\n",
       "      <td>NaN</td>\n",
       "      <td>NaN</td>\n",
       "      <td>NaN</td>\n",
       "      <td>3.671654</td>\n",
       "      <td>3.517671</td>\n",
       "      <td>1.283030</td>\n",
       "      <td>NaN</td>\n",
       "      <td>NaN</td>\n",
       "    </tr>\n",
       "    <tr>\n",
       "      <th>min</th>\n",
       "      <td>NaN</td>\n",
       "      <td>NaN</td>\n",
       "      <td>NaN</td>\n",
       "      <td>NaN</td>\n",
       "      <td>1.000000</td>\n",
       "      <td>1.000000</td>\n",
       "      <td>1.000000</td>\n",
       "      <td>NaN</td>\n",
       "      <td>NaN</td>\n",
       "    </tr>\n",
       "    <tr>\n",
       "      <th>25%</th>\n",
       "      <td>NaN</td>\n",
       "      <td>NaN</td>\n",
       "      <td>NaN</td>\n",
       "      <td>NaN</td>\n",
       "      <td>2.000000</td>\n",
       "      <td>1.000000</td>\n",
       "      <td>1.000000</td>\n",
       "      <td>NaN</td>\n",
       "      <td>NaN</td>\n",
       "    </tr>\n",
       "    <tr>\n",
       "      <th>50%</th>\n",
       "      <td>NaN</td>\n",
       "      <td>NaN</td>\n",
       "      <td>NaN</td>\n",
       "      <td>NaN</td>\n",
       "      <td>3.000000</td>\n",
       "      <td>2.000000</td>\n",
       "      <td>1.000000</td>\n",
       "      <td>NaN</td>\n",
       "      <td>NaN</td>\n",
       "    </tr>\n",
       "    <tr>\n",
       "      <th>75%</th>\n",
       "      <td>NaN</td>\n",
       "      <td>NaN</td>\n",
       "      <td>NaN</td>\n",
       "      <td>NaN</td>\n",
       "      <td>4.000000</td>\n",
       "      <td>3.000000</td>\n",
       "      <td>2.000000</td>\n",
       "      <td>NaN</td>\n",
       "      <td>NaN</td>\n",
       "    </tr>\n",
       "    <tr>\n",
       "      <th>max</th>\n",
       "      <td>NaN</td>\n",
       "      <td>NaN</td>\n",
       "      <td>NaN</td>\n",
       "      <td>NaN</td>\n",
       "      <td>49.000000</td>\n",
       "      <td>49.000000</td>\n",
       "      <td>15.000000</td>\n",
       "      <td>NaN</td>\n",
       "      <td>NaN</td>\n",
       "    </tr>\n",
       "  </tbody>\n",
       "</table>\n",
       "</div>"
      ],
      "text/plain": [
       "                price                                           nav-link  \\\n",
       "count            2020                                               2020   \n",
       "unique            401                                               2020   \n",
       "top     Rp 1,5 Miliar  https://www.rumah123.com/properti/sleman/hos17...   \n",
       "freq               36                                                  1   \n",
       "mean              NaN                                                NaN   \n",
       "std               NaN                                                NaN   \n",
       "min               NaN                                                NaN   \n",
       "25%               NaN                                                NaN   \n",
       "50%               NaN                                                NaN   \n",
       "75%               NaN                                                NaN   \n",
       "max               NaN                                                NaN   \n",
       "\n",
       "                       description listing-location          bed         bath  \\\n",
       "count                         2020             2020  2001.000000  1999.000000   \n",
       "unique                        1923               69          NaN          NaN   \n",
       "top     Rumah Dijual di Yogyakarta  Ngaglik, Sleman          NaN          NaN   \n",
       "freq                            18              303          NaN          NaN   \n",
       "mean                           NaN              NaN     3.969015     2.941971   \n",
       "std                            NaN              NaN     3.671654     3.517671   \n",
       "min                            NaN              NaN     1.000000     1.000000   \n",
       "25%                            NaN              NaN     2.000000     1.000000   \n",
       "50%                            NaN              NaN     3.000000     2.000000   \n",
       "75%                            NaN              NaN     4.000000     3.000000   \n",
       "max                            NaN              NaN    49.000000    49.000000   \n",
       "\n",
       "            carport surface_area building_area  \n",
       "count   1713.000000         2019          2019  \n",
       "unique          NaN          343           228  \n",
       "top             NaN       100 m²         36 m²  \n",
       "freq            NaN           62           116  \n",
       "mean       1.559253          NaN           NaN  \n",
       "std        1.283030          NaN           NaN  \n",
       "min        1.000000          NaN           NaN  \n",
       "25%        1.000000          NaN           NaN  \n",
       "50%        1.000000          NaN           NaN  \n",
       "75%        2.000000          NaN           NaN  \n",
       "max       15.000000          NaN           NaN  "
      ]
     },
     "execution_count": 14,
     "metadata": {},
     "output_type": "execute_result"
    }
   ],
   "source": [
    "df.describe(include='all')"
   ]
  },
  {
   "cell_type": "markdown",
   "id": "27c16ace-51e0-4767-8a9b-f58056113728",
   "metadata": {},
   "source": [
    "### Mendeteksi outlier\n",
    "dengan boxplot"
   ]
  },
  {
   "cell_type": "code",
   "execution_count": 15,
   "id": "cc8a3488-7e82-442a-9e73-50d3e2dc7bed",
   "metadata": {},
   "outputs": [
    {
     "data": {
      "image/png": "[encoded data removed]",
      "text/plain": [
       "<Figure size 2000x200 with 1 Axes>"
      ]
     },
     "metadata": {},
     "output_type": "display_data"
    },
    {
     "data": {
      "image/png": "[encoded data removed]",
      "text/plain": [
       "<Figure size 2000x200 with 1 Axes>"
      ]
     },
     "metadata": {},
     "output_type": "display_data"
    },
    {
     "data": {
      "image/png": "[encoded data removed]",
      "text/plain": [
       "<Figure size 2000x200 with 1 Axes>"
      ]
     },
     "metadata": {},
     "output_type": "display_data"
    }
   ],
   "source": [
    "# Mencari Outliers - Boxplot\n",
    "df_outlier = df.select_dtypes(exclude=['object'])\n",
    "for column in df_outlier:\n",
    "    plt.figure(figsize=(20,2))\n",
    "    sns.boxplot(data=df_outlier, x=column)"
   ]
  },
  {
   "cell_type": "markdown",
   "id": "1740ba60-bbaa-4521-b691-c75bde03a028",
   "metadata": {},
   "source": [
    "dari boxplot diatas bisa dikatakan bahwa ada outlier"
   ]
  },
  {
   "cell_type": "markdown",
   "id": "4b34a977-db41-4c03-8cd7-b7dff87d495f",
   "metadata": {},
   "source": [
    "### Menghitung Persentase Outlier"
   ]
  },
  {
   "cell_type": "code",
   "execution_count": 17,
   "id": "9d4b036b-2120-4b3a-9547-6352fb877532",
   "metadata": {},
   "outputs": [
    {
     "data": {
      "text/plain": [
       "bed        2.0\n",
       "bath       2.0\n",
       "carport    1.0\n",
       "dtype: float64"
      ]
     },
     "execution_count": 17,
     "metadata": {},
     "output_type": "execute_result"
    }
   ],
   "source": [
    "# membuat kuartil 1 dan 3, dengan mengeluarkan tipe data objek dan menunjuk kuantil 0.25 untuk Q1 dan kuantil 0.75 untuk Q3\n",
    "q1 = df.select_dtypes(exclude=['object']).quantile (0.25)\n",
    "q3 = df.select_dtypes(exclude=['object']).quantile (0.75)\n",
    "iqr = q3-q1\n",
    "iqr"
   ]
  },
  {
   "cell_type": "code",
   "execution_count": 18,
   "id": "46719a88-341a-4214-9260-ff41264b1de4",
   "metadata": {},
   "outputs": [
    {
     "data": {
      "text/html": [
       "<div>\n",
       "<style scoped>\n",
       "    .dataframe tbody tr th:only-of-type {\n",
       "        vertical-align: middle;\n",
       "    }\n",
       "\n",
       "    .dataframe tbody tr th {\n",
       "        vertical-align: top;\n",
       "    }\n",
       "\n",
       "    .dataframe thead th {\n",
       "        text-align: right;\n",
       "    }\n",
       "</style>\n",
       "<table border=\"1\" class=\"dataframe\">\n",
       "  <thead>\n",
       "    <tr style=\"text-align: right;\">\n",
       "      <th></th>\n",
       "      <th>bed</th>\n",
       "      <th>bath</th>\n",
       "      <th>carport</th>\n",
       "    </tr>\n",
       "  </thead>\n",
       "  <tbody>\n",
       "    <tr>\n",
       "      <th>0</th>\n",
       "      <td>False</td>\n",
       "      <td>False</td>\n",
       "      <td>False</td>\n",
       "    </tr>\n",
       "    <tr>\n",
       "      <th>1</th>\n",
       "      <td>False</td>\n",
       "      <td>False</td>\n",
       "      <td>False</td>\n",
       "    </tr>\n",
       "    <tr>\n",
       "      <th>2</th>\n",
       "      <td>False</td>\n",
       "      <td>False</td>\n",
       "      <td>False</td>\n",
       "    </tr>\n",
       "    <tr>\n",
       "      <th>3</th>\n",
       "      <td>False</td>\n",
       "      <td>False</td>\n",
       "      <td>False</td>\n",
       "    </tr>\n",
       "    <tr>\n",
       "      <th>4</th>\n",
       "      <td>False</td>\n",
       "      <td>False</td>\n",
       "      <td>False</td>\n",
       "    </tr>\n",
       "    <tr>\n",
       "      <th>...</th>\n",
       "      <td>...</td>\n",
       "      <td>...</td>\n",
       "      <td>...</td>\n",
       "    </tr>\n",
       "    <tr>\n",
       "      <th>2015</th>\n",
       "      <td>False</td>\n",
       "      <td>False</td>\n",
       "      <td>False</td>\n",
       "    </tr>\n",
       "    <tr>\n",
       "      <th>2016</th>\n",
       "      <td>False</td>\n",
       "      <td>False</td>\n",
       "      <td>False</td>\n",
       "    </tr>\n",
       "    <tr>\n",
       "      <th>2017</th>\n",
       "      <td>False</td>\n",
       "      <td>False</td>\n",
       "      <td>False</td>\n",
       "    </tr>\n",
       "    <tr>\n",
       "      <th>2018</th>\n",
       "      <td>False</td>\n",
       "      <td>False</td>\n",
       "      <td>False</td>\n",
       "    </tr>\n",
       "    <tr>\n",
       "      <th>2019</th>\n",
       "      <td>False</td>\n",
       "      <td>False</td>\n",
       "      <td>False</td>\n",
       "    </tr>\n",
       "  </tbody>\n",
       "</table>\n",
       "<p>2020 rows × 3 columns</p>\n",
       "</div>"
      ],
      "text/plain": [
       "        bed   bath  carport\n",
       "0     False  False    False\n",
       "1     False  False    False\n",
       "2     False  False    False\n",
       "3     False  False    False\n",
       "4     False  False    False\n",
       "...     ...    ...      ...\n",
       "2015  False  False    False\n",
       "2016  False  False    False\n",
       "2017  False  False    False\n",
       "2018  False  False    False\n",
       "2019  False  False    False\n",
       "\n",
       "[2020 rows x 3 columns]"
      ]
     },
     "execution_count": 18,
     "metadata": {},
     "output_type": "execute_result"
    }
   ],
   "source": [
    "# Filter outlier pada dataset\n",
    "outlier_filter = (df.select_dtypes(exclude=['object']) < q1 - 1.5 * iqr) | (df.select_dtypes(exclude=['object']) > q3 + 1.5 * iqr)\n",
    "outlier_filter"
   ]
  }
 ],
 "metadata": {
  "kernelspec": {
   "display_name": "Python 3 (ipykernel)",
   "language": "python",
   "name": "python3"
  },
  "language_info": {
   "codemirror_mode": {
    "name": "ipython",
    "version": 3
   },
   "file_extension": ".py",
   "mimetype": "text/x-python",
   "name": "python",
   "nbconvert_exporter": "python",
   "pygments_lexer": "ipython3",
   "version": "3.10.12"
  }
 },
 "nbformat": 4,
 "nbformat_minor": 5
}
