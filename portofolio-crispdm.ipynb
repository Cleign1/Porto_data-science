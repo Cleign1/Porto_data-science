{
 "cells": [
  {
   "cell_type": "markdown",
   "id": "4b8444e0-316c-4af0-bd71-3bdf828aae42",
   "metadata": {},
   "source": [
    "## Nama : Muhamad Ibnu Khaidar Hafiz\n",
    "### -  Kelas : 4IA15\n",
    "### - NPM : 50421867"
   ]
  },
  {
   "cell_type": "markdown",
   "id": "204e8c1a-7faa-4b69-873d-888a2bebb186",
   "metadata": {},
   "source": [
    "## latihan portofolio\n",
    "\n",
    "menggunakan pendekatan crisp-dm"
   ]
  },
  {
   "cell_type": "markdown",
   "id": "5fb65cf4-f85d-4221-a755-8b516dd76b68",
   "metadata": {},
   "source": [
    "### Todo\n",
    "1. Data Understanding\n",
    "2. Data Preparation\n",
    "3. Modelling\n",
    "4. Evaluasi\n",
    "5. Deployment"
   ]
  },
  {
   "cell_type": "code",
   "execution_count": 1,
   "id": "468455c9-2b5b-4826-847a-5aaafcb9b913",
   "metadata": {},
   "outputs": [],
   "source": [
    "# import packages\n",
    "import pandas as pd\n",
    "import numpy as np\n",
    "import matplotlib.pyplot as plt\n",
    "import seaborn as sns"
   ]
  },
  {
   "cell_type": "markdown",
   "id": "297b5954-9590-45a1-934b-5720c90eb18d",
   "metadata": {},
   "source": [
    "## Data Understanding"
   ]
  },
  {
   "cell_type": "markdown",
   "id": "62895dca-cca8-45cd-af81-2d6521321808",
   "metadata": {},
   "source": [
    "### Import data and load data"
   ]
  },
  {
   "cell_type": "code",
   "execution_count": 2,
   "id": "3a9c6752-5fb3-4d58-a2a0-841ed6b4c371",
   "metadata": {},
   "outputs": [
    {
     "data": {
      "text/html": [
       "<div>\n",
       "<style scoped>\n",
       "    .dataframe tbody tr th:only-of-type {\n",
       "        vertical-align: middle;\n",
       "    }\n",
       "\n",
       "    .dataframe tbody tr th {\n",
       "        vertical-align: top;\n",
       "    }\n",
       "\n",
       "    .dataframe thead th {\n",
       "        text-align: right;\n",
       "    }\n",
       "</style>\n",
       "<table border=\"1\" class=\"dataframe\">\n",
       "  <thead>\n",
       "    <tr style=\"text-align: right;\">\n",
       "      <th></th>\n",
       "      <th>price</th>\n",
       "      <th>nav-link</th>\n",
       "      <th>description</th>\n",
       "      <th>listing-location</th>\n",
       "      <th>bed</th>\n",
       "      <th>bath</th>\n",
       "      <th>carport</th>\n",
       "      <th>surface_area</th>\n",
       "      <th>building_area</th>\n",
       "    </tr>\n",
       "  </thead>\n",
       "  <tbody>\n",
       "    <tr>\n",
       "      <th>0</th>\n",
       "      <td>Rp 1,79 Miliar</td>\n",
       "      <td>https://www.rumah123.com/properti/sleman/hos17...</td>\n",
       "      <td>Rumah 2 Lantai Baru  di jalan Palagan Sleman Y...</td>\n",
       "      <td>Ngaglik, Sleman</td>\n",
       "      <td>3.0</td>\n",
       "      <td>3.0</td>\n",
       "      <td>2.0</td>\n",
       "      <td>120 m²</td>\n",
       "      <td>110 m²</td>\n",
       "    </tr>\n",
       "    <tr>\n",
       "      <th>1</th>\n",
       "      <td>Rp 170 Juta</td>\n",
       "      <td>https://www.rumah123.com/properti/sleman/hos17...</td>\n",
       "      <td>RUMAH BARU DEKAT AL AZHAR DAN UGM</td>\n",
       "      <td>Jombor, Sleman</td>\n",
       "      <td>3.0</td>\n",
       "      <td>2.0</td>\n",
       "      <td>1.0</td>\n",
       "      <td>102 m²</td>\n",
       "      <td>126 m²</td>\n",
       "    </tr>\n",
       "    <tr>\n",
       "      <th>2</th>\n",
       "      <td>Rp 695 Juta</td>\n",
       "      <td>https://www.rumah123.com/properti/sleman/hos17...</td>\n",
       "      <td>RUMAH ASRI DAN SEJUK DI BERBAH SLEMAN DEKAT PA...</td>\n",
       "      <td>Berbah, Sleman</td>\n",
       "      <td>2.0</td>\n",
       "      <td>2.0</td>\n",
       "      <td>1.0</td>\n",
       "      <td>100 m²</td>\n",
       "      <td>100 m²</td>\n",
       "    </tr>\n",
       "    <tr>\n",
       "      <th>3</th>\n",
       "      <td>Rp 560 Juta</td>\n",
       "      <td>https://www.rumah123.com/properti/sleman/hos17...</td>\n",
       "      <td>Rumah Murah 5 Menit Dari Candi Prambanan Tersi...</td>\n",
       "      <td>Prambanan, Sleman</td>\n",
       "      <td>3.0</td>\n",
       "      <td>1.0</td>\n",
       "      <td>1.0</td>\n",
       "      <td>109 m²</td>\n",
       "      <td>67 m²</td>\n",
       "    </tr>\n",
       "    <tr>\n",
       "      <th>4</th>\n",
       "      <td>Rp 200 Juta</td>\n",
       "      <td>https://www.rumah123.com/properti/sleman/hos17...</td>\n",
       "      <td>Rumah Murah Cicilan 1jt Di Moyudan Sleman</td>\n",
       "      <td>Moyudan, Sleman</td>\n",
       "      <td>2.0</td>\n",
       "      <td>1.0</td>\n",
       "      <td>1.0</td>\n",
       "      <td>60 m²</td>\n",
       "      <td>30 m²</td>\n",
       "    </tr>\n",
       "  </tbody>\n",
       "</table>\n",
       "</div>"
      ],
      "text/plain": [
       "            price                                           nav-link  \\\n",
       "0  Rp 1,79 Miliar  https://www.rumah123.com/properti/sleman/hos17...   \n",
       "1     Rp 170 Juta  https://www.rumah123.com/properti/sleman/hos17...   \n",
       "2     Rp 695 Juta  https://www.rumah123.com/properti/sleman/hos17...   \n",
       "3     Rp 560 Juta  https://www.rumah123.com/properti/sleman/hos17...   \n",
       "4     Rp 200 Juta  https://www.rumah123.com/properti/sleman/hos17...   \n",
       "\n",
       "                                         description   listing-location  bed  \\\n",
       "0  Rumah 2 Lantai Baru  di jalan Palagan Sleman Y...    Ngaglik, Sleman  3.0   \n",
       "1                  RUMAH BARU DEKAT AL AZHAR DAN UGM     Jombor, Sleman  3.0   \n",
       "2  RUMAH ASRI DAN SEJUK DI BERBAH SLEMAN DEKAT PA...     Berbah, Sleman  2.0   \n",
       "3  Rumah Murah 5 Menit Dari Candi Prambanan Tersi...  Prambanan, Sleman  3.0   \n",
       "4          Rumah Murah Cicilan 1jt Di Moyudan Sleman    Moyudan, Sleman  2.0   \n",
       "\n",
       "   bath  carport surface_area building_area  \n",
       "0   3.0      2.0       120 m²        110 m²  \n",
       "1   2.0      1.0       102 m²        126 m²  \n",
       "2   2.0      1.0       100 m²        100 m²  \n",
       "3   1.0      1.0       109 m²         67 m²  \n",
       "4   1.0      1.0        60 m²         30 m²  "
      ]
     },
     "execution_count": 2,
     "metadata": {},
     "output_type": "execute_result"
    }
   ],
   "source": [
    "df = pd.read_csv('rumah123_yogya_unfiltered.csv')\n",
    "df.head()"
   ]
  },
  {
   "cell_type": "markdown",
   "id": "3de496e6-850d-41f2-993f-4161872ca203",
   "metadata": {},
   "source": [
    "### Cek Shape"
   ]
  },
  {
   "cell_type": "code",
   "execution_count": 3,
   "id": "2c456634-942b-4603-8658-33bde74dfe8c",
   "metadata": {},
   "outputs": [
    {
     "data": {
      "text/plain": [
       "(2020, 9)"
      ]
     },
     "execution_count": 3,
     "metadata": {},
     "output_type": "execute_result"
    }
   ],
   "source": [
    "df.shape"
   ]
  },
  {
   "cell_type": "markdown",
   "id": "48b98e72-3eec-4a02-811e-de996fd28713",
   "metadata": {},
   "source": [
    "### Cek Tipe Data"
   ]
  },
  {
   "cell_type": "code",
   "execution_count": 4,
   "id": "b3739bc0-8e07-4e19-9e57-d4a85994f5ee",
   "metadata": {},
   "outputs": [
    {
     "data": {
      "text/plain": [
       "price                object\n",
       "nav-link             object\n",
       "description          object\n",
       "listing-location     object\n",
       "bed                 float64\n",
       "bath                float64\n",
       "carport             float64\n",
       "surface_area         object\n",
       "building_area        object\n",
       "dtype: object"
      ]
     },
     "execution_count": 4,
     "metadata": {},
     "output_type": "execute_result"
    }
   ],
   "source": [
    "df.dtypes"
   ]
  },
  {
   "cell_type": "code",
   "execution_count": 5,
   "id": "82423189-ee4d-4f34-b1c5-f23754d63a7d",
   "metadata": {},
   "outputs": [
    {
     "name": "stdout",
     "output_type": "stream",
     "text": [
      "<class 'pandas.core.frame.DataFrame'>\n",
      "RangeIndex: 2020 entries, 0 to 2019\n",
      "Data columns (total 9 columns):\n",
      " #   Column            Non-Null Count  Dtype  \n",
      "---  ------            --------------  -----  \n",
      " 0   price             2020 non-null   object \n",
      " 1   nav-link          2020 non-null   object \n",
      " 2   description       2020 non-null   object \n",
      " 3   listing-location  2020 non-null   object \n",
      " 4   bed               2001 non-null   float64\n",
      " 5   bath              1999 non-null   float64\n",
      " 6   carport           1713 non-null   float64\n",
      " 7   surface_area      2019 non-null   object \n",
      " 8   building_area     2019 non-null   object \n",
      "dtypes: float64(3), object(6)\n",
      "memory usage: 142.2+ KB\n"
     ]
    }
   ],
   "source": [
    "df.info()"
   ]
  },
  {
   "cell_type": "markdown",
   "id": "dcc6b428-0da8-46cd-8ac3-a63b5472fbce",
   "metadata": {},
   "source": [
    "ternyata kolom `price` itu sebagai objek dan juga `surface_area` yaitu luas tanah dan `building_area` luas bangunan akan diubah menjadi float"
   ]
  },
  {
   "cell_type": "markdown",
   "id": "ae5a238a-68d7-48e1-92d3-da4be8c350f2",
   "metadata": {},
   "source": [
    "### Statistika Dasar"
   ]
  },
  {
   "cell_type": "code",
   "execution_count": 6,
   "id": "2ef91e3c-10b2-4552-808e-1e1c450c8337",
   "metadata": {},
   "outputs": [
    {
     "data": {
      "text/html": [
       "<div>\n",
       "<style scoped>\n",
       "    .dataframe tbody tr th:only-of-type {\n",
       "        vertical-align: middle;\n",
       "    }\n",
       "\n",
       "    .dataframe tbody tr th {\n",
       "        vertical-align: top;\n",
       "    }\n",
       "\n",
       "    .dataframe thead th {\n",
       "        text-align: right;\n",
       "    }\n",
       "</style>\n",
       "<table border=\"1\" class=\"dataframe\">\n",
       "  <thead>\n",
       "    <tr style=\"text-align: right;\">\n",
       "      <th></th>\n",
       "      <th>bed</th>\n",
       "      <th>bath</th>\n",
       "      <th>carport</th>\n",
       "    </tr>\n",
       "  </thead>\n",
       "  <tbody>\n",
       "    <tr>\n",
       "      <th>count</th>\n",
       "      <td>2001.000000</td>\n",
       "      <td>1999.000000</td>\n",
       "      <td>1713.000000</td>\n",
       "    </tr>\n",
       "    <tr>\n",
       "      <th>mean</th>\n",
       "      <td>3.969015</td>\n",
       "      <td>2.941971</td>\n",
       "      <td>1.559253</td>\n",
       "    </tr>\n",
       "    <tr>\n",
       "      <th>std</th>\n",
       "      <td>3.671654</td>\n",
       "      <td>3.517671</td>\n",
       "      <td>1.283030</td>\n",
       "    </tr>\n",
       "    <tr>\n",
       "      <th>min</th>\n",
       "      <td>1.000000</td>\n",
       "      <td>1.000000</td>\n",
       "      <td>1.000000</td>\n",
       "    </tr>\n",
       "    <tr>\n",
       "      <th>25%</th>\n",
       "      <td>2.000000</td>\n",
       "      <td>1.000000</td>\n",
       "      <td>1.000000</td>\n",
       "    </tr>\n",
       "    <tr>\n",
       "      <th>50%</th>\n",
       "      <td>3.000000</td>\n",
       "      <td>2.000000</td>\n",
       "      <td>1.000000</td>\n",
       "    </tr>\n",
       "    <tr>\n",
       "      <th>75%</th>\n",
       "      <td>4.000000</td>\n",
       "      <td>3.000000</td>\n",
       "      <td>2.000000</td>\n",
       "    </tr>\n",
       "    <tr>\n",
       "      <th>max</th>\n",
       "      <td>49.000000</td>\n",
       "      <td>49.000000</td>\n",
       "      <td>15.000000</td>\n",
       "    </tr>\n",
       "  </tbody>\n",
       "</table>\n",
       "</div>"
      ],
      "text/plain": [
       "               bed         bath      carport\n",
       "count  2001.000000  1999.000000  1713.000000\n",
       "mean      3.969015     2.941971     1.559253\n",
       "std       3.671654     3.517671     1.283030\n",
       "min       1.000000     1.000000     1.000000\n",
       "25%       2.000000     1.000000     1.000000\n",
       "50%       3.000000     2.000000     1.000000\n",
       "75%       4.000000     3.000000     2.000000\n",
       "max      49.000000    49.000000    15.000000"
      ]
     },
     "execution_count": 6,
     "metadata": {},
     "output_type": "execute_result"
    }
   ],
   "source": [
    "df.describe()"
   ]
  },
  {
   "cell_type": "code",
   "execution_count": 7,
   "id": "1607321e-2dfe-48c7-8036-2204731e457b",
   "metadata": {},
   "outputs": [
    {
     "data": {
      "text/html": [
       "<div>\n",
       "<style scoped>\n",
       "    .dataframe tbody tr th:only-of-type {\n",
       "        vertical-align: middle;\n",
       "    }\n",
       "\n",
       "    .dataframe tbody tr th {\n",
       "        vertical-align: top;\n",
       "    }\n",
       "\n",
       "    .dataframe thead th {\n",
       "        text-align: right;\n",
       "    }\n",
       "</style>\n",
       "<table border=\"1\" class=\"dataframe\">\n",
       "  <thead>\n",
       "    <tr style=\"text-align: right;\">\n",
       "      <th></th>\n",
       "      <th>price</th>\n",
       "      <th>nav-link</th>\n",
       "      <th>description</th>\n",
       "      <th>listing-location</th>\n",
       "      <th>bed</th>\n",
       "      <th>bath</th>\n",
       "      <th>carport</th>\n",
       "      <th>surface_area</th>\n",
       "      <th>building_area</th>\n",
       "    </tr>\n",
       "  </thead>\n",
       "  <tbody>\n",
       "    <tr>\n",
       "      <th>count</th>\n",
       "      <td>2020</td>\n",
       "      <td>2020</td>\n",
       "      <td>2020</td>\n",
       "      <td>2020</td>\n",
       "      <td>2001.000000</td>\n",
       "      <td>1999.000000</td>\n",
       "      <td>1713.000000</td>\n",
       "      <td>2019</td>\n",
       "      <td>2019</td>\n",
       "    </tr>\n",
       "    <tr>\n",
       "      <th>unique</th>\n",
       "      <td>401</td>\n",
       "      <td>2020</td>\n",
       "      <td>1923</td>\n",
       "      <td>69</td>\n",
       "      <td>NaN</td>\n",
       "      <td>NaN</td>\n",
       "      <td>NaN</td>\n",
       "      <td>343</td>\n",
       "      <td>228</td>\n",
       "    </tr>\n",
       "    <tr>\n",
       "      <th>top</th>\n",
       "      <td>Rp 1,5 Miliar</td>\n",
       "      <td>https://www.rumah123.com/properti/sleman/hos17...</td>\n",
       "      <td>Rumah Dijual di Yogyakarta</td>\n",
       "      <td>Ngaglik, Sleman</td>\n",
       "      <td>NaN</td>\n",
       "      <td>NaN</td>\n",
       "      <td>NaN</td>\n",
       "      <td>100 m²</td>\n",
       "      <td>36 m²</td>\n",
       "    </tr>\n",
       "    <tr>\n",
       "      <th>freq</th>\n",
       "      <td>36</td>\n",
       "      <td>1</td>\n",
       "      <td>18</td>\n",
       "      <td>303</td>\n",
       "      <td>NaN</td>\n",
       "      <td>NaN</td>\n",
       "      <td>NaN</td>\n",
       "      <td>62</td>\n",
       "      <td>116</td>\n",
       "    </tr>\n",
       "    <tr>\n",
       "      <th>mean</th>\n",
       "      <td>NaN</td>\n",
       "      <td>NaN</td>\n",
       "      <td>NaN</td>\n",
       "      <td>NaN</td>\n",
       "      <td>3.969015</td>\n",
       "      <td>2.941971</td>\n",
       "      <td>1.559253</td>\n",
       "      <td>NaN</td>\n",
       "      <td>NaN</td>\n",
       "    </tr>\n",
       "    <tr>\n",
       "      <th>std</th>\n",
       "      <td>NaN</td>\n",
       "      <td>NaN</td>\n",
       "      <td>NaN</td>\n",
       "      <td>NaN</td>\n",
       "      <td>3.671654</td>\n",
       "      <td>3.517671</td>\n",
       "      <td>1.283030</td>\n",
       "      <td>NaN</td>\n",
       "      <td>NaN</td>\n",
       "    </tr>\n",
       "    <tr>\n",
       "      <th>min</th>\n",
       "      <td>NaN</td>\n",
       "      <td>NaN</td>\n",
       "      <td>NaN</td>\n",
       "      <td>NaN</td>\n",
       "      <td>1.000000</td>\n",
       "      <td>1.000000</td>\n",
       "      <td>1.000000</td>\n",
       "      <td>NaN</td>\n",
       "      <td>NaN</td>\n",
       "    </tr>\n",
       "    <tr>\n",
       "      <th>25%</th>\n",
       "      <td>NaN</td>\n",
       "      <td>NaN</td>\n",
       "      <td>NaN</td>\n",
       "      <td>NaN</td>\n",
       "      <td>2.000000</td>\n",
       "      <td>1.000000</td>\n",
       "      <td>1.000000</td>\n",
       "      <td>NaN</td>\n",
       "      <td>NaN</td>\n",
       "    </tr>\n",
       "    <tr>\n",
       "      <th>50%</th>\n",
       "      <td>NaN</td>\n",
       "      <td>NaN</td>\n",
       "      <td>NaN</td>\n",
       "      <td>NaN</td>\n",
       "      <td>3.000000</td>\n",
       "      <td>2.000000</td>\n",
       "      <td>1.000000</td>\n",
       "      <td>NaN</td>\n",
       "      <td>NaN</td>\n",
       "    </tr>\n",
       "    <tr>\n",
       "      <th>75%</th>\n",
       "      <td>NaN</td>\n",
       "      <td>NaN</td>\n",
       "      <td>NaN</td>\n",
       "      <td>NaN</td>\n",
       "      <td>4.000000</td>\n",
       "      <td>3.000000</td>\n",
       "      <td>2.000000</td>\n",
       "      <td>NaN</td>\n",
       "      <td>NaN</td>\n",
       "    </tr>\n",
       "    <tr>\n",
       "      <th>max</th>\n",
       "      <td>NaN</td>\n",
       "      <td>NaN</td>\n",
       "      <td>NaN</td>\n",
       "      <td>NaN</td>\n",
       "      <td>49.000000</td>\n",
       "      <td>49.000000</td>\n",
       "      <td>15.000000</td>\n",
       "      <td>NaN</td>\n",
       "      <td>NaN</td>\n",
       "    </tr>\n",
       "  </tbody>\n",
       "</table>\n",
       "</div>"
      ],
      "text/plain": [
       "                price                                           nav-link  \\\n",
       "count            2020                                               2020   \n",
       "unique            401                                               2020   \n",
       "top     Rp 1,5 Miliar  https://www.rumah123.com/properti/sleman/hos17...   \n",
       "freq               36                                                  1   \n",
       "mean              NaN                                                NaN   \n",
       "std               NaN                                                NaN   \n",
       "min               NaN                                                NaN   \n",
       "25%               NaN                                                NaN   \n",
       "50%               NaN                                                NaN   \n",
       "75%               NaN                                                NaN   \n",
       "max               NaN                                                NaN   \n",
       "\n",
       "                       description listing-location          bed         bath  \\\n",
       "count                         2020             2020  2001.000000  1999.000000   \n",
       "unique                        1923               69          NaN          NaN   \n",
       "top     Rumah Dijual di Yogyakarta  Ngaglik, Sleman          NaN          NaN   \n",
       "freq                            18              303          NaN          NaN   \n",
       "mean                           NaN              NaN     3.969015     2.941971   \n",
       "std                            NaN              NaN     3.671654     3.517671   \n",
       "min                            NaN              NaN     1.000000     1.000000   \n",
       "25%                            NaN              NaN     2.000000     1.000000   \n",
       "50%                            NaN              NaN     3.000000     2.000000   \n",
       "75%                            NaN              NaN     4.000000     3.000000   \n",
       "max                            NaN              NaN    49.000000    49.000000   \n",
       "\n",
       "            carport surface_area building_area  \n",
       "count   1713.000000         2019          2019  \n",
       "unique          NaN          343           228  \n",
       "top             NaN       100 m²         36 m²  \n",
       "freq            NaN           62           116  \n",
       "mean       1.559253          NaN           NaN  \n",
       "std        1.283030          NaN           NaN  \n",
       "min        1.000000          NaN           NaN  \n",
       "25%        1.000000          NaN           NaN  \n",
       "50%        1.000000          NaN           NaN  \n",
       "75%        2.000000          NaN           NaN  \n",
       "max       15.000000          NaN           NaN  "
      ]
     },
     "execution_count": 7,
     "metadata": {},
     "output_type": "execute_result"
    }
   ],
   "source": [
    "df.describe(include='all')"
   ]
  },
  {
   "cell_type": "markdown",
   "id": "b9ec961d-2bb8-4d47-8b85-28eeb95e4cff",
   "metadata": {},
   "source": [
    "## Data Preparation"
   ]
  },
  {
   "cell_type": "markdown",
   "id": "5662c6bb-fe97-4852-8339-41080ec37994",
   "metadata": {},
   "source": [
    "### Cek Missing Value"
   ]
  },
  {
   "cell_type": "code",
   "execution_count": 8,
   "id": "ff50ba4d-e130-46b7-a92a-ebbcb59cfa6e",
   "metadata": {},
   "outputs": [
    {
     "data": {
      "text/plain": [
       "price               False\n",
       "nav-link            False\n",
       "description         False\n",
       "listing-location    False\n",
       "bed                  True\n",
       "bath                 True\n",
       "carport              True\n",
       "surface_area         True\n",
       "building_area        True\n",
       "dtype: bool"
      ]
     },
     "execution_count": 8,
     "metadata": {},
     "output_type": "execute_result"
    }
   ],
   "source": [
    "df.isna().any()"
   ]
  },
  {
   "cell_type": "markdown",
   "id": "c33ca165-e559-46e7-8319-89fb76a18c44",
   "metadata": {},
   "source": [
    "terdapat missing value di `bed`, `bath`, `carport`, `surface_area`, dan `building_area`"
   ]
  },
  {
   "cell_type": "code",
   "execution_count": 9,
   "id": "0f7b155f-3412-4a6d-b9e2-932945abe9b8",
   "metadata": {},
   "outputs": [
    {
     "data": {
      "text/plain": [
       "price                 0\n",
       "nav-link              0\n",
       "description           0\n",
       "listing-location      0\n",
       "bed                  19\n",
       "bath                 21\n",
       "carport             307\n",
       "surface_area          1\n",
       "building_area         1\n",
       "dtype: int64"
      ]
     },
     "execution_count": 9,
     "metadata": {},
     "output_type": "execute_result"
    }
   ],
   "source": [
    "df.isna().sum()"
   ]
  },
  {
   "cell_type": "markdown",
   "id": "3e4c75f9-3d7a-4de1-bb1c-e63c0aca88e6",
   "metadata": {},
   "source": [
    "### Konversi Miliar ke juta"
   ]
  },
  {
   "cell_type": "code",
   "execution_count": 10,
   "id": "7fbe7ee1-acf6-407b-a806-01910100e33c",
   "metadata": {},
   "outputs": [
    {
     "data": {
      "text/html": [
       "<div>\n",
       "<style scoped>\n",
       "    .dataframe tbody tr th:only-of-type {\n",
       "        vertical-align: middle;\n",
       "    }\n",
       "\n",
       "    .dataframe tbody tr th {\n",
       "        vertical-align: top;\n",
       "    }\n",
       "\n",
       "    .dataframe thead th {\n",
       "        text-align: right;\n",
       "    }\n",
       "</style>\n",
       "<table border=\"1\" class=\"dataframe\">\n",
       "  <thead>\n",
       "    <tr style=\"text-align: right;\">\n",
       "      <th></th>\n",
       "      <th>price</th>\n",
       "      <th>nav-link</th>\n",
       "      <th>description</th>\n",
       "      <th>listing-location</th>\n",
       "      <th>bed</th>\n",
       "      <th>bath</th>\n",
       "      <th>carport</th>\n",
       "      <th>surface_area</th>\n",
       "      <th>building_area</th>\n",
       "    </tr>\n",
       "  </thead>\n",
       "  <tbody>\n",
       "    <tr>\n",
       "      <th>0</th>\n",
       "      <td>Rp 1,79 Miliar</td>\n",
       "      <td>https://www.rumah123.com/properti/sleman/hos17...</td>\n",
       "      <td>Rumah 2 Lantai Baru  di jalan Palagan Sleman Y...</td>\n",
       "      <td>Ngaglik, Sleman</td>\n",
       "      <td>3.0</td>\n",
       "      <td>3.0</td>\n",
       "      <td>2.0</td>\n",
       "      <td>120 m²</td>\n",
       "      <td>110 m²</td>\n",
       "    </tr>\n",
       "    <tr>\n",
       "      <th>1</th>\n",
       "      <td>Rp 170 Juta</td>\n",
       "      <td>https://www.rumah123.com/properti/sleman/hos17...</td>\n",
       "      <td>RUMAH BARU DEKAT AL AZHAR DAN UGM</td>\n",
       "      <td>Jombor, Sleman</td>\n",
       "      <td>3.0</td>\n",
       "      <td>2.0</td>\n",
       "      <td>1.0</td>\n",
       "      <td>102 m²</td>\n",
       "      <td>126 m²</td>\n",
       "    </tr>\n",
       "    <tr>\n",
       "      <th>2</th>\n",
       "      <td>Rp 695 Juta</td>\n",
       "      <td>https://www.rumah123.com/properti/sleman/hos17...</td>\n",
       "      <td>RUMAH ASRI DAN SEJUK DI BERBAH SLEMAN DEKAT PA...</td>\n",
       "      <td>Berbah, Sleman</td>\n",
       "      <td>2.0</td>\n",
       "      <td>2.0</td>\n",
       "      <td>1.0</td>\n",
       "      <td>100 m²</td>\n",
       "      <td>100 m²</td>\n",
       "    </tr>\n",
       "    <tr>\n",
       "      <th>3</th>\n",
       "      <td>Rp 560 Juta</td>\n",
       "      <td>https://www.rumah123.com/properti/sleman/hos17...</td>\n",
       "      <td>Rumah Murah 5 Menit Dari Candi Prambanan Tersi...</td>\n",
       "      <td>Prambanan, Sleman</td>\n",
       "      <td>3.0</td>\n",
       "      <td>1.0</td>\n",
       "      <td>1.0</td>\n",
       "      <td>109 m²</td>\n",
       "      <td>67 m²</td>\n",
       "    </tr>\n",
       "    <tr>\n",
       "      <th>4</th>\n",
       "      <td>Rp 200 Juta</td>\n",
       "      <td>https://www.rumah123.com/properti/sleman/hos17...</td>\n",
       "      <td>Rumah Murah Cicilan 1jt Di Moyudan Sleman</td>\n",
       "      <td>Moyudan, Sleman</td>\n",
       "      <td>2.0</td>\n",
       "      <td>1.0</td>\n",
       "      <td>1.0</td>\n",
       "      <td>60 m²</td>\n",
       "      <td>30 m²</td>\n",
       "    </tr>\n",
       "  </tbody>\n",
       "</table>\n",
       "</div>"
      ],
      "text/plain": [
       "            price                                           nav-link  \\\n",
       "0  Rp 1,79 Miliar  https://www.rumah123.com/properti/sleman/hos17...   \n",
       "1     Rp 170 Juta  https://www.rumah123.com/properti/sleman/hos17...   \n",
       "2     Rp 695 Juta  https://www.rumah123.com/properti/sleman/hos17...   \n",
       "3     Rp 560 Juta  https://www.rumah123.com/properti/sleman/hos17...   \n",
       "4     Rp 200 Juta  https://www.rumah123.com/properti/sleman/hos17...   \n",
       "\n",
       "                                         description   listing-location  bed  \\\n",
       "0  Rumah 2 Lantai Baru  di jalan Palagan Sleman Y...    Ngaglik, Sleman  3.0   \n",
       "1                  RUMAH BARU DEKAT AL AZHAR DAN UGM     Jombor, Sleman  3.0   \n",
       "2  RUMAH ASRI DAN SEJUK DI BERBAH SLEMAN DEKAT PA...     Berbah, Sleman  2.0   \n",
       "3  Rumah Murah 5 Menit Dari Candi Prambanan Tersi...  Prambanan, Sleman  3.0   \n",
       "4          Rumah Murah Cicilan 1jt Di Moyudan Sleman    Moyudan, Sleman  2.0   \n",
       "\n",
       "   bath  carport surface_area building_area  \n",
       "0   3.0      2.0       120 m²        110 m²  \n",
       "1   2.0      1.0       102 m²        126 m²  \n",
       "2   2.0      1.0       100 m²        100 m²  \n",
       "3   1.0      1.0       109 m²         67 m²  \n",
       "4   1.0      1.0        60 m²         30 m²  "
      ]
     },
     "execution_count": 10,
     "metadata": {},
     "output_type": "execute_result"
    }
   ],
   "source": [
    "df.head()"
   ]
  },
  {
   "cell_type": "code",
   "execution_count": 11,
   "id": "d92ea583-a983-4e0c-a91f-5b39bcc29487",
   "metadata": {},
   "outputs": [],
   "source": [
    "def convert_to_juta(price):\n",
    "    price = price.replace(\"Rp \", \"\").replace(\",\", \".\")\n",
    "    if \"Miliar\" in price:\n",
    "        price = float(price.replace(\" Miliar\", \"\")) * 1000\n",
    "    elif \"Juta\" in price:\n",
    "        price = float(price.replace(\" Juta\", \"\"))\n",
    "    return price"
   ]
  },
  {
   "cell_type": "code",
   "execution_count": 12,
   "id": "cc7b27d2-5b83-4626-bfa3-69d1242a0c02",
   "metadata": {},
   "outputs": [
    {
     "data": {
      "text/html": [
       "<div>\n",
       "<style scoped>\n",
       "    .dataframe tbody tr th:only-of-type {\n",
       "        vertical-align: middle;\n",
       "    }\n",
       "\n",
       "    .dataframe tbody tr th {\n",
       "        vertical-align: top;\n",
       "    }\n",
       "\n",
       "    .dataframe thead th {\n",
       "        text-align: right;\n",
       "    }\n",
       "</style>\n",
       "<table border=\"1\" class=\"dataframe\">\n",
       "  <thead>\n",
       "    <tr style=\"text-align: right;\">\n",
       "      <th></th>\n",
       "      <th>price</th>\n",
       "      <th>nav-link</th>\n",
       "      <th>description</th>\n",
       "      <th>listing-location</th>\n",
       "      <th>bed</th>\n",
       "      <th>bath</th>\n",
       "      <th>carport</th>\n",
       "      <th>surface_area</th>\n",
       "      <th>building_area</th>\n",
       "      <th>harga_juta</th>\n",
       "    </tr>\n",
       "  </thead>\n",
       "  <tbody>\n",
       "    <tr>\n",
       "      <th>0</th>\n",
       "      <td>Rp 1,79 Miliar</td>\n",
       "      <td>https://www.rumah123.com/properti/sleman/hos17...</td>\n",
       "      <td>Rumah 2 Lantai Baru  di jalan Palagan Sleman Y...</td>\n",
       "      <td>Ngaglik, Sleman</td>\n",
       "      <td>3.0</td>\n",
       "      <td>3.0</td>\n",
       "      <td>2.0</td>\n",
       "      <td>120 m²</td>\n",
       "      <td>110 m²</td>\n",
       "      <td>1790.0</td>\n",
       "    </tr>\n",
       "    <tr>\n",
       "      <th>1</th>\n",
       "      <td>Rp 170 Juta</td>\n",
       "      <td>https://www.rumah123.com/properti/sleman/hos17...</td>\n",
       "      <td>RUMAH BARU DEKAT AL AZHAR DAN UGM</td>\n",
       "      <td>Jombor, Sleman</td>\n",
       "      <td>3.0</td>\n",
       "      <td>2.0</td>\n",
       "      <td>1.0</td>\n",
       "      <td>102 m²</td>\n",
       "      <td>126 m²</td>\n",
       "      <td>170.0</td>\n",
       "    </tr>\n",
       "    <tr>\n",
       "      <th>2</th>\n",
       "      <td>Rp 695 Juta</td>\n",
       "      <td>https://www.rumah123.com/properti/sleman/hos17...</td>\n",
       "      <td>RUMAH ASRI DAN SEJUK DI BERBAH SLEMAN DEKAT PA...</td>\n",
       "      <td>Berbah, Sleman</td>\n",
       "      <td>2.0</td>\n",
       "      <td>2.0</td>\n",
       "      <td>1.0</td>\n",
       "      <td>100 m²</td>\n",
       "      <td>100 m²</td>\n",
       "      <td>695.0</td>\n",
       "    </tr>\n",
       "    <tr>\n",
       "      <th>3</th>\n",
       "      <td>Rp 560 Juta</td>\n",
       "      <td>https://www.rumah123.com/properti/sleman/hos17...</td>\n",
       "      <td>Rumah Murah 5 Menit Dari Candi Prambanan Tersi...</td>\n",
       "      <td>Prambanan, Sleman</td>\n",
       "      <td>3.0</td>\n",
       "      <td>1.0</td>\n",
       "      <td>1.0</td>\n",
       "      <td>109 m²</td>\n",
       "      <td>67 m²</td>\n",
       "      <td>560.0</td>\n",
       "    </tr>\n",
       "    <tr>\n",
       "      <th>4</th>\n",
       "      <td>Rp 200 Juta</td>\n",
       "      <td>https://www.rumah123.com/properti/sleman/hos17...</td>\n",
       "      <td>Rumah Murah Cicilan 1jt Di Moyudan Sleman</td>\n",
       "      <td>Moyudan, Sleman</td>\n",
       "      <td>2.0</td>\n",
       "      <td>1.0</td>\n",
       "      <td>1.0</td>\n",
       "      <td>60 m²</td>\n",
       "      <td>30 m²</td>\n",
       "      <td>200.0</td>\n",
       "    </tr>\n",
       "  </tbody>\n",
       "</table>\n",
       "</div>"
      ],
      "text/plain": [
       "            price                                           nav-link  \\\n",
       "0  Rp 1,79 Miliar  https://www.rumah123.com/properti/sleman/hos17...   \n",
       "1     Rp 170 Juta  https://www.rumah123.com/properti/sleman/hos17...   \n",
       "2     Rp 695 Juta  https://www.rumah123.com/properti/sleman/hos17...   \n",
       "3     Rp 560 Juta  https://www.rumah123.com/properti/sleman/hos17...   \n",
       "4     Rp 200 Juta  https://www.rumah123.com/properti/sleman/hos17...   \n",
       "\n",
       "                                         description   listing-location  bed  \\\n",
       "0  Rumah 2 Lantai Baru  di jalan Palagan Sleman Y...    Ngaglik, Sleman  3.0   \n",
       "1                  RUMAH BARU DEKAT AL AZHAR DAN UGM     Jombor, Sleman  3.0   \n",
       "2  RUMAH ASRI DAN SEJUK DI BERBAH SLEMAN DEKAT PA...     Berbah, Sleman  2.0   \n",
       "3  Rumah Murah 5 Menit Dari Candi Prambanan Tersi...  Prambanan, Sleman  3.0   \n",
       "4          Rumah Murah Cicilan 1jt Di Moyudan Sleman    Moyudan, Sleman  2.0   \n",
       "\n",
       "   bath  carport surface_area building_area  harga_juta  \n",
       "0   3.0      2.0       120 m²        110 m²      1790.0  \n",
       "1   2.0      1.0       102 m²        126 m²       170.0  \n",
       "2   2.0      1.0       100 m²        100 m²       695.0  \n",
       "3   1.0      1.0       109 m²         67 m²       560.0  \n",
       "4   1.0      1.0        60 m²         30 m²       200.0  "
      ]
     },
     "execution_count": 12,
     "metadata": {},
     "output_type": "execute_result"
    }
   ],
   "source": [
    "df['harga_juta'] = df['price'].apply(convert_to_juta)\n",
    "df.head()"
   ]
  },
  {
   "cell_type": "markdown",
   "id": "62582b9c-ec74-4c0e-8783-00b627a0ed33",
   "metadata": {},
   "source": [
    "### Menghapus Simbol\n",
    "Menghapus simbol meter persegi"
   ]
  },
  {
   "cell_type": "code",
   "execution_count": 13,
   "id": "4c13dc19-c697-437f-ae08-16da9fb6a8bd",
   "metadata": {},
   "outputs": [],
   "source": [
    "def hapus_meter_persegi(area):\n",
    "    if isinstance(area, str):\n",
    "        return area.replace(\" m²\", \"\").strip()\n",
    "    return area"
   ]
  },
  {
   "cell_type": "code",
   "execution_count": 14,
   "id": "13948e5e-fab5-471c-b4bb-60445a6f7294",
   "metadata": {},
   "outputs": [
    {
     "data": {
      "text/html": [
       "<div>\n",
       "<style scoped>\n",
       "    .dataframe tbody tr th:only-of-type {\n",
       "        vertical-align: middle;\n",
       "    }\n",
       "\n",
       "    .dataframe tbody tr th {\n",
       "        vertical-align: top;\n",
       "    }\n",
       "\n",
       "    .dataframe thead th {\n",
       "        text-align: right;\n",
       "    }\n",
       "</style>\n",
       "<table border=\"1\" class=\"dataframe\">\n",
       "  <thead>\n",
       "    <tr style=\"text-align: right;\">\n",
       "      <th></th>\n",
       "      <th>price</th>\n",
       "      <th>nav-link</th>\n",
       "      <th>description</th>\n",
       "      <th>listing-location</th>\n",
       "      <th>bed</th>\n",
       "      <th>bath</th>\n",
       "      <th>carport</th>\n",
       "      <th>surface_area</th>\n",
       "      <th>building_area</th>\n",
       "      <th>harga_juta</th>\n",
       "      <th>luas_tanah</th>\n",
       "      <th>luas_bangunan</th>\n",
       "    </tr>\n",
       "  </thead>\n",
       "  <tbody>\n",
       "    <tr>\n",
       "      <th>0</th>\n",
       "      <td>Rp 1,79 Miliar</td>\n",
       "      <td>https://www.rumah123.com/properti/sleman/hos17...</td>\n",
       "      <td>Rumah 2 Lantai Baru  di jalan Palagan Sleman Y...</td>\n",
       "      <td>Ngaglik, Sleman</td>\n",
       "      <td>3.0</td>\n",
       "      <td>3.0</td>\n",
       "      <td>2.0</td>\n",
       "      <td>120 m²</td>\n",
       "      <td>110 m²</td>\n",
       "      <td>1790.0</td>\n",
       "      <td>120</td>\n",
       "      <td>110</td>\n",
       "    </tr>\n",
       "    <tr>\n",
       "      <th>1</th>\n",
       "      <td>Rp 170 Juta</td>\n",
       "      <td>https://www.rumah123.com/properti/sleman/hos17...</td>\n",
       "      <td>RUMAH BARU DEKAT AL AZHAR DAN UGM</td>\n",
       "      <td>Jombor, Sleman</td>\n",
       "      <td>3.0</td>\n",
       "      <td>2.0</td>\n",
       "      <td>1.0</td>\n",
       "      <td>102 m²</td>\n",
       "      <td>126 m²</td>\n",
       "      <td>170.0</td>\n",
       "      <td>102</td>\n",
       "      <td>126</td>\n",
       "    </tr>\n",
       "    <tr>\n",
       "      <th>2</th>\n",
       "      <td>Rp 695 Juta</td>\n",
       "      <td>https://www.rumah123.com/properti/sleman/hos17...</td>\n",
       "      <td>RUMAH ASRI DAN SEJUK DI BERBAH SLEMAN DEKAT PA...</td>\n",
       "      <td>Berbah, Sleman</td>\n",
       "      <td>2.0</td>\n",
       "      <td>2.0</td>\n",
       "      <td>1.0</td>\n",
       "      <td>100 m²</td>\n",
       "      <td>100 m²</td>\n",
       "      <td>695.0</td>\n",
       "      <td>100</td>\n",
       "      <td>100</td>\n",
       "    </tr>\n",
       "    <tr>\n",
       "      <th>3</th>\n",
       "      <td>Rp 560 Juta</td>\n",
       "      <td>https://www.rumah123.com/properti/sleman/hos17...</td>\n",
       "      <td>Rumah Murah 5 Menit Dari Candi Prambanan Tersi...</td>\n",
       "      <td>Prambanan, Sleman</td>\n",
       "      <td>3.0</td>\n",
       "      <td>1.0</td>\n",
       "      <td>1.0</td>\n",
       "      <td>109 m²</td>\n",
       "      <td>67 m²</td>\n",
       "      <td>560.0</td>\n",
       "      <td>109</td>\n",
       "      <td>67</td>\n",
       "    </tr>\n",
       "    <tr>\n",
       "      <th>4</th>\n",
       "      <td>Rp 200 Juta</td>\n",
       "      <td>https://www.rumah123.com/properti/sleman/hos17...</td>\n",
       "      <td>Rumah Murah Cicilan 1jt Di Moyudan Sleman</td>\n",
       "      <td>Moyudan, Sleman</td>\n",
       "      <td>2.0</td>\n",
       "      <td>1.0</td>\n",
       "      <td>1.0</td>\n",
       "      <td>60 m²</td>\n",
       "      <td>30 m²</td>\n",
       "      <td>200.0</td>\n",
       "      <td>60</td>\n",
       "      <td>30</td>\n",
       "    </tr>\n",
       "  </tbody>\n",
       "</table>\n",
       "</div>"
      ],
      "text/plain": [
       "            price                                           nav-link  \\\n",
       "0  Rp 1,79 Miliar  https://www.rumah123.com/properti/sleman/hos17...   \n",
       "1     Rp 170 Juta  https://www.rumah123.com/properti/sleman/hos17...   \n",
       "2     Rp 695 Juta  https://www.rumah123.com/properti/sleman/hos17...   \n",
       "3     Rp 560 Juta  https://www.rumah123.com/properti/sleman/hos17...   \n",
       "4     Rp 200 Juta  https://www.rumah123.com/properti/sleman/hos17...   \n",
       "\n",
       "                                         description   listing-location  bed  \\\n",
       "0  Rumah 2 Lantai Baru  di jalan Palagan Sleman Y...    Ngaglik, Sleman  3.0   \n",
       "1                  RUMAH BARU DEKAT AL AZHAR DAN UGM     Jombor, Sleman  3.0   \n",
       "2  RUMAH ASRI DAN SEJUK DI BERBAH SLEMAN DEKAT PA...     Berbah, Sleman  2.0   \n",
       "3  Rumah Murah 5 Menit Dari Candi Prambanan Tersi...  Prambanan, Sleman  3.0   \n",
       "4          Rumah Murah Cicilan 1jt Di Moyudan Sleman    Moyudan, Sleman  2.0   \n",
       "\n",
       "   bath  carport surface_area building_area  harga_juta luas_tanah  \\\n",
       "0   3.0      2.0       120 m²        110 m²      1790.0        120   \n",
       "1   2.0      1.0       102 m²        126 m²       170.0        102   \n",
       "2   2.0      1.0       100 m²        100 m²       695.0        100   \n",
       "3   1.0      1.0       109 m²         67 m²       560.0        109   \n",
       "4   1.0      1.0        60 m²         30 m²       200.0         60   \n",
       "\n",
       "  luas_bangunan  \n",
       "0           110  \n",
       "1           126  \n",
       "2           100  \n",
       "3            67  \n",
       "4            30  "
      ]
     },
     "execution_count": 14,
     "metadata": {},
     "output_type": "execute_result"
    }
   ],
   "source": [
    "df['luas_tanah'] = df['surface_area'].apply(hapus_meter_persegi)\n",
    "df['luas_bangunan'] = df['building_area'].apply(hapus_meter_persegi)\n",
    "df.head()"
   ]
  },
  {
   "cell_type": "code",
   "execution_count": 15,
   "id": "629cf364-7ca4-4711-8cd8-adc65dd1000f",
   "metadata": {},
   "outputs": [
    {
     "name": "stdout",
     "output_type": "stream",
     "text": [
      "<class 'pandas.core.frame.DataFrame'>\n",
      "RangeIndex: 2020 entries, 0 to 2019\n",
      "Data columns (total 12 columns):\n",
      " #   Column            Non-Null Count  Dtype  \n",
      "---  ------            --------------  -----  \n",
      " 0   price             2020 non-null   object \n",
      " 1   nav-link          2020 non-null   object \n",
      " 2   description       2020 non-null   object \n",
      " 3   listing-location  2020 non-null   object \n",
      " 4   bed               2001 non-null   float64\n",
      " 5   bath              1999 non-null   float64\n",
      " 6   carport           1713 non-null   float64\n",
      " 7   surface_area      2019 non-null   object \n",
      " 8   building_area     2019 non-null   object \n",
      " 9   harga_juta        2020 non-null   float64\n",
      " 10  luas_tanah        2019 non-null   object \n",
      " 11  luas_bangunan     2019 non-null   object \n",
      "dtypes: float64(4), object(8)\n",
      "memory usage: 189.5+ KB\n"
     ]
    }
   ],
   "source": [
    "# cek tipe data per kolom\n",
    "df.info()"
   ]
  },
  {
   "cell_type": "markdown",
   "id": "dbf0a78e-2526-4b90-b21c-d2eb34452406",
   "metadata": {},
   "source": [
    "### Menghapus kolom\n",
    "menghapus kolom `price`, `surface_area`, `building_area`"
   ]
  },
  {
   "cell_type": "code",
   "execution_count": 16,
   "id": "31d26aa9-01e0-4a5a-ab80-1df85fa066cd",
   "metadata": {},
   "outputs": [
    {
     "data": {
      "text/html": [
       "<div>\n",
       "<style scoped>\n",
       "    .dataframe tbody tr th:only-of-type {\n",
       "        vertical-align: middle;\n",
       "    }\n",
       "\n",
       "    .dataframe tbody tr th {\n",
       "        vertical-align: top;\n",
       "    }\n",
       "\n",
       "    .dataframe thead th {\n",
       "        text-align: right;\n",
       "    }\n",
       "</style>\n",
       "<table border=\"1\" class=\"dataframe\">\n",
       "  <thead>\n",
       "    <tr style=\"text-align: right;\">\n",
       "      <th></th>\n",
       "      <th>nav-link</th>\n",
       "      <th>description</th>\n",
       "      <th>listing-location</th>\n",
       "      <th>bed</th>\n",
       "      <th>bath</th>\n",
       "      <th>carport</th>\n",
       "      <th>harga_juta</th>\n",
       "      <th>luas_tanah</th>\n",
       "      <th>luas_bangunan</th>\n",
       "    </tr>\n",
       "  </thead>\n",
       "  <tbody>\n",
       "    <tr>\n",
       "      <th>0</th>\n",
       "      <td>https://www.rumah123.com/properti/sleman/hos17...</td>\n",
       "      <td>Rumah 2 Lantai Baru  di jalan Palagan Sleman Y...</td>\n",
       "      <td>Ngaglik, Sleman</td>\n",
       "      <td>3.0</td>\n",
       "      <td>3.0</td>\n",
       "      <td>2.0</td>\n",
       "      <td>1790.0</td>\n",
       "      <td>120</td>\n",
       "      <td>110</td>\n",
       "    </tr>\n",
       "    <tr>\n",
       "      <th>1</th>\n",
       "      <td>https://www.rumah123.com/properti/sleman/hos17...</td>\n",
       "      <td>RUMAH BARU DEKAT AL AZHAR DAN UGM</td>\n",
       "      <td>Jombor, Sleman</td>\n",
       "      <td>3.0</td>\n",
       "      <td>2.0</td>\n",
       "      <td>1.0</td>\n",
       "      <td>170.0</td>\n",
       "      <td>102</td>\n",
       "      <td>126</td>\n",
       "    </tr>\n",
       "    <tr>\n",
       "      <th>2</th>\n",
       "      <td>https://www.rumah123.com/properti/sleman/hos17...</td>\n",
       "      <td>RUMAH ASRI DAN SEJUK DI BERBAH SLEMAN DEKAT PA...</td>\n",
       "      <td>Berbah, Sleman</td>\n",
       "      <td>2.0</td>\n",
       "      <td>2.0</td>\n",
       "      <td>1.0</td>\n",
       "      <td>695.0</td>\n",
       "      <td>100</td>\n",
       "      <td>100</td>\n",
       "    </tr>\n",
       "    <tr>\n",
       "      <th>3</th>\n",
       "      <td>https://www.rumah123.com/properti/sleman/hos17...</td>\n",
       "      <td>Rumah Murah 5 Menit Dari Candi Prambanan Tersi...</td>\n",
       "      <td>Prambanan, Sleman</td>\n",
       "      <td>3.0</td>\n",
       "      <td>1.0</td>\n",
       "      <td>1.0</td>\n",
       "      <td>560.0</td>\n",
       "      <td>109</td>\n",
       "      <td>67</td>\n",
       "    </tr>\n",
       "    <tr>\n",
       "      <th>4</th>\n",
       "      <td>https://www.rumah123.com/properti/sleman/hos17...</td>\n",
       "      <td>Rumah Murah Cicilan 1jt Di Moyudan Sleman</td>\n",
       "      <td>Moyudan, Sleman</td>\n",
       "      <td>2.0</td>\n",
       "      <td>1.0</td>\n",
       "      <td>1.0</td>\n",
       "      <td>200.0</td>\n",
       "      <td>60</td>\n",
       "      <td>30</td>\n",
       "    </tr>\n",
       "  </tbody>\n",
       "</table>\n",
       "</div>"
      ],
      "text/plain": [
       "                                            nav-link  \\\n",
       "0  https://www.rumah123.com/properti/sleman/hos17...   \n",
       "1  https://www.rumah123.com/properti/sleman/hos17...   \n",
       "2  https://www.rumah123.com/properti/sleman/hos17...   \n",
       "3  https://www.rumah123.com/properti/sleman/hos17...   \n",
       "4  https://www.rumah123.com/properti/sleman/hos17...   \n",
       "\n",
       "                                         description   listing-location  bed  \\\n",
       "0  Rumah 2 Lantai Baru  di jalan Palagan Sleman Y...    Ngaglik, Sleman  3.0   \n",
       "1                  RUMAH BARU DEKAT AL AZHAR DAN UGM     Jombor, Sleman  3.0   \n",
       "2  RUMAH ASRI DAN SEJUK DI BERBAH SLEMAN DEKAT PA...     Berbah, Sleman  2.0   \n",
       "3  Rumah Murah 5 Menit Dari Candi Prambanan Tersi...  Prambanan, Sleman  3.0   \n",
       "4          Rumah Murah Cicilan 1jt Di Moyudan Sleman    Moyudan, Sleman  2.0   \n",
       "\n",
       "   bath  carport  harga_juta luas_tanah luas_bangunan  \n",
       "0   3.0      2.0      1790.0        120           110  \n",
       "1   2.0      1.0       170.0        102           126  \n",
       "2   2.0      1.0       695.0        100           100  \n",
       "3   1.0      1.0       560.0        109            67  \n",
       "4   1.0      1.0       200.0         60            30  "
      ]
     },
     "execution_count": 16,
     "metadata": {},
     "output_type": "execute_result"
    }
   ],
   "source": [
    "df.drop(columns=['price','surface_area','building_area'],inplace=True)\n",
    "df.head()"
   ]
  },
  {
   "cell_type": "markdown",
   "id": "eddf121e-68e2-4b90-a948-1881262c3b7c",
   "metadata": {},
   "source": [
    "### Mengatur ulang urutan kolom"
   ]
  },
  {
   "cell_type": "code",
   "execution_count": 17,
   "id": "ebb6d9db-0647-4260-b2c9-2dd4cb6b10d2",
   "metadata": {},
   "outputs": [
    {
     "data": {
      "text/html": [
       "<div>\n",
       "<style scoped>\n",
       "    .dataframe tbody tr th:only-of-type {\n",
       "        vertical-align: middle;\n",
       "    }\n",
       "\n",
       "    .dataframe tbody tr th {\n",
       "        vertical-align: top;\n",
       "    }\n",
       "\n",
       "    .dataframe thead th {\n",
       "        text-align: right;\n",
       "    }\n",
       "</style>\n",
       "<table border=\"1\" class=\"dataframe\">\n",
       "  <thead>\n",
       "    <tr style=\"text-align: right;\">\n",
       "      <th></th>\n",
       "      <th>nav-link</th>\n",
       "      <th>description</th>\n",
       "      <th>listing-location</th>\n",
       "      <th>harga_juta</th>\n",
       "      <th>luas_tanah</th>\n",
       "      <th>luas_bangunan</th>\n",
       "      <th>bed</th>\n",
       "      <th>bath</th>\n",
       "      <th>carport</th>\n",
       "    </tr>\n",
       "  </thead>\n",
       "  <tbody>\n",
       "    <tr>\n",
       "      <th>0</th>\n",
       "      <td>https://www.rumah123.com/properti/sleman/hos17...</td>\n",
       "      <td>Rumah 2 Lantai Baru  di jalan Palagan Sleman Y...</td>\n",
       "      <td>Ngaglik, Sleman</td>\n",
       "      <td>1790.0</td>\n",
       "      <td>120</td>\n",
       "      <td>110</td>\n",
       "      <td>3.0</td>\n",
       "      <td>3.0</td>\n",
       "      <td>2.0</td>\n",
       "    </tr>\n",
       "    <tr>\n",
       "      <th>1</th>\n",
       "      <td>https://www.rumah123.com/properti/sleman/hos17...</td>\n",
       "      <td>RUMAH BARU DEKAT AL AZHAR DAN UGM</td>\n",
       "      <td>Jombor, Sleman</td>\n",
       "      <td>170.0</td>\n",
       "      <td>102</td>\n",
       "      <td>126</td>\n",
       "      <td>3.0</td>\n",
       "      <td>2.0</td>\n",
       "      <td>1.0</td>\n",
       "    </tr>\n",
       "    <tr>\n",
       "      <th>2</th>\n",
       "      <td>https://www.rumah123.com/properti/sleman/hos17...</td>\n",
       "      <td>RUMAH ASRI DAN SEJUK DI BERBAH SLEMAN DEKAT PA...</td>\n",
       "      <td>Berbah, Sleman</td>\n",
       "      <td>695.0</td>\n",
       "      <td>100</td>\n",
       "      <td>100</td>\n",
       "      <td>2.0</td>\n",
       "      <td>2.0</td>\n",
       "      <td>1.0</td>\n",
       "    </tr>\n",
       "    <tr>\n",
       "      <th>3</th>\n",
       "      <td>https://www.rumah123.com/properti/sleman/hos17...</td>\n",
       "      <td>Rumah Murah 5 Menit Dari Candi Prambanan Tersi...</td>\n",
       "      <td>Prambanan, Sleman</td>\n",
       "      <td>560.0</td>\n",
       "      <td>109</td>\n",
       "      <td>67</td>\n",
       "      <td>3.0</td>\n",
       "      <td>1.0</td>\n",
       "      <td>1.0</td>\n",
       "    </tr>\n",
       "    <tr>\n",
       "      <th>4</th>\n",
       "      <td>https://www.rumah123.com/properti/sleman/hos17...</td>\n",
       "      <td>Rumah Murah Cicilan 1jt Di Moyudan Sleman</td>\n",
       "      <td>Moyudan, Sleman</td>\n",
       "      <td>200.0</td>\n",
       "      <td>60</td>\n",
       "      <td>30</td>\n",
       "      <td>2.0</td>\n",
       "      <td>1.0</td>\n",
       "      <td>1.0</td>\n",
       "    </tr>\n",
       "  </tbody>\n",
       "</table>\n",
       "</div>"
      ],
      "text/plain": [
       "                                            nav-link  \\\n",
       "0  https://www.rumah123.com/properti/sleman/hos17...   \n",
       "1  https://www.rumah123.com/properti/sleman/hos17...   \n",
       "2  https://www.rumah123.com/properti/sleman/hos17...   \n",
       "3  https://www.rumah123.com/properti/sleman/hos17...   \n",
       "4  https://www.rumah123.com/properti/sleman/hos17...   \n",
       "\n",
       "                                         description   listing-location  \\\n",
       "0  Rumah 2 Lantai Baru  di jalan Palagan Sleman Y...    Ngaglik, Sleman   \n",
       "1                  RUMAH BARU DEKAT AL AZHAR DAN UGM     Jombor, Sleman   \n",
       "2  RUMAH ASRI DAN SEJUK DI BERBAH SLEMAN DEKAT PA...     Berbah, Sleman   \n",
       "3  Rumah Murah 5 Menit Dari Candi Prambanan Tersi...  Prambanan, Sleman   \n",
       "4          Rumah Murah Cicilan 1jt Di Moyudan Sleman    Moyudan, Sleman   \n",
       "\n",
       "   harga_juta luas_tanah luas_bangunan  bed  bath  carport  \n",
       "0      1790.0        120           110  3.0   3.0      2.0  \n",
       "1       170.0        102           126  3.0   2.0      1.0  \n",
       "2       695.0        100           100  2.0   2.0      1.0  \n",
       "3       560.0        109            67  3.0   1.0      1.0  \n",
       "4       200.0         60            30  2.0   1.0      1.0  "
      ]
     },
     "execution_count": 17,
     "metadata": {},
     "output_type": "execute_result"
    }
   ],
   "source": [
    "urutan_baru = ['nav-link','description','listing-location','harga_juta','luas_tanah','luas_bangunan','bed','bath','carport']\n",
    "df = df[urutan_baru]\n",
    "df.head()"
   ]
  },
  {
   "cell_type": "markdown",
   "id": "6df357aa-8812-4b40-8bc4-d3ccf33a841a",
   "metadata": {},
   "source": [
    "### Mengganti tipe data kolom"
   ]
  },
  {
   "cell_type": "code",
   "execution_count": 18,
   "id": "52601291-34b0-4103-a092-10b22212f867",
   "metadata": {},
   "outputs": [
    {
     "name": "stdout",
     "output_type": "stream",
     "text": [
      "<class 'pandas.core.frame.DataFrame'>\n",
      "RangeIndex: 2020 entries, 0 to 2019\n",
      "Data columns (total 9 columns):\n",
      " #   Column            Non-Null Count  Dtype  \n",
      "---  ------            --------------  -----  \n",
      " 0   nav-link          2020 non-null   object \n",
      " 1   description       2020 non-null   object \n",
      " 2   listing-location  2020 non-null   object \n",
      " 3   harga_juta        2020 non-null   float64\n",
      " 4   luas_tanah        2019 non-null   object \n",
      " 5   luas_bangunan     2019 non-null   object \n",
      " 6   bed               2001 non-null   float64\n",
      " 7   bath              1999 non-null   float64\n",
      " 8   carport           1713 non-null   float64\n",
      "dtypes: float64(4), object(5)\n",
      "memory usage: 142.2+ KB\n"
     ]
    }
   ],
   "source": [
    "df.info()"
   ]
  },
  {
   "cell_type": "markdown",
   "id": "5a3b1ee1-c8ef-414f-b735-550eb1ebd023",
   "metadata": {},
   "source": [
    "menggantikan tipe data `luas_tanah` dan `luas_bangunan` menjadi float"
   ]
  },
  {
   "cell_type": "code",
   "execution_count": 19,
   "id": "d49a9560-c9f9-4a9c-b4ad-0c670604130c",
   "metadata": {},
   "outputs": [
    {
     "name": "stdout",
     "output_type": "stream",
     "text": [
      "<class 'pandas.core.frame.DataFrame'>\n",
      "RangeIndex: 2020 entries, 0 to 2019\n",
      "Data columns (total 9 columns):\n",
      " #   Column            Non-Null Count  Dtype  \n",
      "---  ------            --------------  -----  \n",
      " 0   nav-link          2020 non-null   object \n",
      " 1   description       2020 non-null   object \n",
      " 2   listing-location  2020 non-null   object \n",
      " 3   harga_juta        2020 non-null   float64\n",
      " 4   luas_tanah        2019 non-null   float64\n",
      " 5   luas_bangunan     2019 non-null   float64\n",
      " 6   bed               2001 non-null   float64\n",
      " 7   bath              1999 non-null   float64\n",
      " 8   carport           1713 non-null   float64\n",
      "dtypes: float64(6), object(3)\n",
      "memory usage: 142.2+ KB\n"
     ]
    }
   ],
   "source": [
    "df['luas_tanah'] = pd.to_numeric(df['luas_tanah'], errors='coerce')\n",
    "df['luas_bangunan'] = pd.to_numeric(df['luas_bangunan'], errors='coerce')\n",
    "df.info()"
   ]
  },
  {
   "cell_type": "code",
   "execution_count": 20,
   "id": "28b0c092-e126-4e52-8342-de0134f18e17",
   "metadata": {},
   "outputs": [
    {
     "data": {
      "text/html": [
       "<div>\n",
       "<style scoped>\n",
       "    .dataframe tbody tr th:only-of-type {\n",
       "        vertical-align: middle;\n",
       "    }\n",
       "\n",
       "    .dataframe tbody tr th {\n",
       "        vertical-align: top;\n",
       "    }\n",
       "\n",
       "    .dataframe thead th {\n",
       "        text-align: right;\n",
       "    }\n",
       "</style>\n",
       "<table border=\"1\" class=\"dataframe\">\n",
       "  <thead>\n",
       "    <tr style=\"text-align: right;\">\n",
       "      <th></th>\n",
       "      <th>nav-link</th>\n",
       "      <th>description</th>\n",
       "      <th>listing-location</th>\n",
       "      <th>harga_juta</th>\n",
       "      <th>luas_tanah</th>\n",
       "      <th>luas_bangunan</th>\n",
       "      <th>bed</th>\n",
       "      <th>bath</th>\n",
       "      <th>carport</th>\n",
       "    </tr>\n",
       "  </thead>\n",
       "  <tbody>\n",
       "    <tr>\n",
       "      <th>0</th>\n",
       "      <td>https://www.rumah123.com/properti/sleman/hos17...</td>\n",
       "      <td>Rumah 2 Lantai Baru  di jalan Palagan Sleman Y...</td>\n",
       "      <td>Ngaglik, Sleman</td>\n",
       "      <td>1790.0</td>\n",
       "      <td>120.0</td>\n",
       "      <td>110.0</td>\n",
       "      <td>3.0</td>\n",
       "      <td>3.0</td>\n",
       "      <td>2.0</td>\n",
       "    </tr>\n",
       "    <tr>\n",
       "      <th>1</th>\n",
       "      <td>https://www.rumah123.com/properti/sleman/hos17...</td>\n",
       "      <td>RUMAH BARU DEKAT AL AZHAR DAN UGM</td>\n",
       "      <td>Jombor, Sleman</td>\n",
       "      <td>170.0</td>\n",
       "      <td>102.0</td>\n",
       "      <td>126.0</td>\n",
       "      <td>3.0</td>\n",
       "      <td>2.0</td>\n",
       "      <td>1.0</td>\n",
       "    </tr>\n",
       "    <tr>\n",
       "      <th>2</th>\n",
       "      <td>https://www.rumah123.com/properti/sleman/hos17...</td>\n",
       "      <td>RUMAH ASRI DAN SEJUK DI BERBAH SLEMAN DEKAT PA...</td>\n",
       "      <td>Berbah, Sleman</td>\n",
       "      <td>695.0</td>\n",
       "      <td>100.0</td>\n",
       "      <td>100.0</td>\n",
       "      <td>2.0</td>\n",
       "      <td>2.0</td>\n",
       "      <td>1.0</td>\n",
       "    </tr>\n",
       "    <tr>\n",
       "      <th>3</th>\n",
       "      <td>https://www.rumah123.com/properti/sleman/hos17...</td>\n",
       "      <td>Rumah Murah 5 Menit Dari Candi Prambanan Tersi...</td>\n",
       "      <td>Prambanan, Sleman</td>\n",
       "      <td>560.0</td>\n",
       "      <td>109.0</td>\n",
       "      <td>67.0</td>\n",
       "      <td>3.0</td>\n",
       "      <td>1.0</td>\n",
       "      <td>1.0</td>\n",
       "    </tr>\n",
       "    <tr>\n",
       "      <th>4</th>\n",
       "      <td>https://www.rumah123.com/properti/sleman/hos17...</td>\n",
       "      <td>Rumah Murah Cicilan 1jt Di Moyudan Sleman</td>\n",
       "      <td>Moyudan, Sleman</td>\n",
       "      <td>200.0</td>\n",
       "      <td>60.0</td>\n",
       "      <td>30.0</td>\n",
       "      <td>2.0</td>\n",
       "      <td>1.0</td>\n",
       "      <td>1.0</td>\n",
       "    </tr>\n",
       "  </tbody>\n",
       "</table>\n",
       "</div>"
      ],
      "text/plain": [
       "                                            nav-link  \\\n",
       "0  https://www.rumah123.com/properti/sleman/hos17...   \n",
       "1  https://www.rumah123.com/properti/sleman/hos17...   \n",
       "2  https://www.rumah123.com/properti/sleman/hos17...   \n",
       "3  https://www.rumah123.com/properti/sleman/hos17...   \n",
       "4  https://www.rumah123.com/properti/sleman/hos17...   \n",
       "\n",
       "                                         description   listing-location  \\\n",
       "0  Rumah 2 Lantai Baru  di jalan Palagan Sleman Y...    Ngaglik, Sleman   \n",
       "1                  RUMAH BARU DEKAT AL AZHAR DAN UGM     Jombor, Sleman   \n",
       "2  RUMAH ASRI DAN SEJUK DI BERBAH SLEMAN DEKAT PA...     Berbah, Sleman   \n",
       "3  Rumah Murah 5 Menit Dari Candi Prambanan Tersi...  Prambanan, Sleman   \n",
       "4          Rumah Murah Cicilan 1jt Di Moyudan Sleman    Moyudan, Sleman   \n",
       "\n",
       "   harga_juta  luas_tanah  luas_bangunan  bed  bath  carport  \n",
       "0      1790.0       120.0          110.0  3.0   3.0      2.0  \n",
       "1       170.0       102.0          126.0  3.0   2.0      1.0  \n",
       "2       695.0       100.0          100.0  2.0   2.0      1.0  \n",
       "3       560.0       109.0           67.0  3.0   1.0      1.0  \n",
       "4       200.0        60.0           30.0  2.0   1.0      1.0  "
      ]
     },
     "execution_count": 20,
     "metadata": {},
     "output_type": "execute_result"
    }
   ],
   "source": [
    "df.head()"
   ]
  },
  {
   "cell_type": "markdown",
   "id": "b75c035c-617b-4199-97b1-27aedca25980",
   "metadata": {},
   "source": [
    "### Mengisikan missing value\n",
    "mengsisikan missing value dengan imputasi KNN"
   ]
  },
  {
   "cell_type": "code",
   "execution_count": 21,
   "id": "7eafde04-82ad-42ac-9c8e-0e2cd7c272a1",
   "metadata": {},
   "outputs": [
    {
     "data": {
      "text/plain": [
       "nav-link              0\n",
       "description           0\n",
       "listing-location      0\n",
       "harga_juta            0\n",
       "luas_tanah            1\n",
       "luas_bangunan         1\n",
       "bed                  19\n",
       "bath                 21\n",
       "carport             307\n",
       "dtype: int64"
      ]
     },
     "execution_count": 21,
     "metadata": {},
     "output_type": "execute_result"
    }
   ],
   "source": [
    "df.isna().sum()"
   ]
  },
  {
   "cell_type": "code",
   "execution_count": 22,
   "id": "95cf0ba2-210a-4a20-a5b1-7e701f3ae256",
   "metadata": {},
   "outputs": [],
   "source": [
    "from sklearn.impute import KNNImputer"
   ]
  },
  {
   "cell_type": "code",
   "execution_count": 23,
   "id": "aab81080-0338-4a1d-8a62-3739846568ba",
   "metadata": {},
   "outputs": [],
   "source": [
    "imputasi = KNNImputer(n_neighbors=5)"
   ]
  },
  {
   "cell_type": "code",
   "execution_count": 24,
   "id": "4becbb28-e893-4195-9ba9-9e32e62f3055",
   "metadata": {},
   "outputs": [
    {
     "data": {
      "text/plain": [
       "nav-link            0\n",
       "description         0\n",
       "listing-location    0\n",
       "harga_juta          0\n",
       "luas_tanah          0\n",
       "luas_bangunan       0\n",
       "bed                 0\n",
       "bath                0\n",
       "carport             0\n",
       "dtype: int64"
      ]
     },
     "execution_count": 24,
     "metadata": {},
     "output_type": "execute_result"
    }
   ],
   "source": [
    "kolom_imputasi = ['luas_tanah', 'luas_bangunan', 'bed', 'bath', 'carport']\n",
    "df[kolom_imputasi] = imputasi.fit_transform(df[kolom_imputasi])\n",
    "df.isna().sum()"
   ]
  },
  {
   "cell_type": "code",
   "execution_count": 25,
   "id": "605c572b-9efe-47e1-9186-f86e9144d7dc",
   "metadata": {},
   "outputs": [],
   "source": [
    "# pembulatan ke bawah untuk kolom bed, bath, carport\n",
    "df['bed'] = np.floor(df['bed'])\n",
    "df['bath'] = np.floor(df['bath'])\n",
    "df['carport'] = np.floor(df['carport'])"
   ]
  },
  {
   "cell_type": "markdown",
   "id": "c4b23282-74e1-471c-8e44-a45c4988685b",
   "metadata": {},
   "source": [
    "### Mengecek Outlier\n",
    "mengecek outlier dengan boxplot"
   ]
  },
  {
   "cell_type": "code",
   "execution_count": 26,
   "id": "b030eaaf-2e2b-462f-a04d-6abe8fe3e0e0",
   "metadata": {},
   "outputs": [
    {
     "data": {
      "image/png": "[encoded data removed]",
      "text/plain": [
       "<Figure size 2000x200 with 1 Axes>"
      ]
     },
     "metadata": {},
     "output_type": "display_data"
    },
    {
     "data": {
      "image/png": "[encoded data removed]",
      "text/plain": [
       "<Figure size 2000x200 with 1 Axes>"
      ]
     },
     "metadata": {},
     "output_type": "display_data"
    },
    {
     "data": {
      "image/png": "[encoded data removed]",
      "text/plain": [
       "<Figure size 2000x200 with 1 Axes>"
      ]
     },
     "metadata": {},
     "output_type": "display_data"
    },
    {
     "data": {
      "image/png": "[encoded data removed]",
      "text/plain": [
       "<Figure size 2000x200 with 1 Axes>"
      ]
     },
     "metadata": {},
     "output_type": "display_data"
    },
    {
     "data": {
      "image/png": "[encoded data removed]",
      "text/plain": [
       "<Figure size 2000x200 with 1 Axes>"
      ]
     },
     "metadata": {},
     "output_type": "display_data"
    },
    {
     "data": {
      "image/png": "[encoded data removed]",
      "text/plain": [
       "<Figure size 2000x200 with 1 Axes>"
      ]
     },
     "metadata": {},
     "output_type": "display_data"
    }
   ],
   "source": [
    "df_outlier = df.select_dtypes(exclude=['object'])\n",
    "for column in df_outlier:\n",
    "        plt.figure(figsize=(20,2))\n",
    "        sns.boxplot(data=df_outlier, x=column)"
   ]
  },
  {
   "cell_type": "markdown",
   "id": "4dc73bca-0c48-48eb-b2f4-7ecdd5b0e961",
   "metadata": {},
   "source": [
    "pada luas bangunan terdapat nilai yang sangan tinggi"
   ]
  },
  {
   "cell_type": "code",
   "execution_count": 27,
   "id": "10d2c2bb-0e5e-4512-9838-f94ad783b5c7",
   "metadata": {},
   "outputs": [
    {
     "data": {
      "text/plain": [
       "2408150000.0"
      ]
     },
     "execution_count": 27,
     "metadata": {},
     "output_type": "execute_result"
    }
   ],
   "source": [
    "# cek nilai luas bangunan yang sangat tinggi\n",
    "df['luas_bangunan'].max()"
   ]
  },
  {
   "cell_type": "code",
   "execution_count": 28,
   "id": "409d535a-456c-489c-a1cc-8808a1cf42e6",
   "metadata": {},
   "outputs": [
    {
     "name": "stdout",
     "output_type": "stream",
     "text": [
      "index ke: 1090\n"
     ]
    },
    {
     "data": {
      "text/plain": [
       "(nav-link            https://www.rumah123.com/properti/sleman/hos17...\n",
       " description             Dijual Rumah Mewah Bonus 1 Rumah Sleman Jogja\n",
       " listing-location                                       Sleman, Sleman\n",
       " harga_juta                                                     2400.0\n",
       " luas_tanah                                                      182.0\n",
       " luas_bangunan                                            2408150000.0\n",
       " bed                                                               4.0\n",
       " bath                                                              3.0\n",
       " carport                                                           1.0\n",
       " Name: 1090, dtype: object,\n",
       " None)"
      ]
     },
     "execution_count": 28,
     "metadata": {},
     "output_type": "execute_result"
    }
   ],
   "source": [
    "max_index = df['luas_bangunan'].idxmax()\n",
    "df.loc[max_index], print(f'index ke: {max_index}')"
   ]
  },
  {
   "cell_type": "markdown",
   "id": "fcfb7da5-4c66-426e-8d4d-6cc8d3959f87",
   "metadata": {},
   "source": [
    "terdapat luas bangunan yang lebih besar dibandingkan luas tanah, ini tidak masuk akal. saya akan menghapus ini"
   ]
  },
  {
   "cell_type": "code",
   "execution_count": 29,
   "id": "cccb3819-d8b9-4007-bdbf-83665d2df217",
   "metadata": {},
   "outputs": [
    {
     "name": "stdout",
     "output_type": "stream",
     "text": [
      "index ke: 1276\n"
     ]
    },
    {
     "data": {
      "text/plain": [
       "(nav-link            https://www.rumah123.com/properti/sleman/hos17...\n",
       " description         Rumah Baru Di Jakal Km 13 Dalam Lingkungan Per...\n",
       " listing-location                                      Ngaglik, Sleman\n",
       " harga_juta                                                      875.0\n",
       " luas_tanah                                                      107.0\n",
       " luas_bangunan                                                  5070.0\n",
       " bed                                                               3.0\n",
       " bath                                                              2.0\n",
       " carport                                                           1.0\n",
       " Name: 1276, dtype: object,\n",
       " None)"
      ]
     },
     "execution_count": 29,
     "metadata": {},
     "output_type": "execute_result"
    }
   ],
   "source": [
    "# menghapus index ke 1090\n",
    "df.drop(index=1090, inplace=True)\n",
    "\n",
    "# mengecek luas bangunan yang maksimal sekarang\n",
    "max_index = df['luas_bangunan'].idxmax()\n",
    "df.loc[max_index], print(f'index ke: {max_index}')"
   ]
  },
  {
   "cell_type": "markdown",
   "id": "6293ebd6-e022-45a7-81f7-e171063d6c89",
   "metadata": {},
   "source": [
    "berdasarkan pengamatan data sudah masuk akal"
   ]
  },
  {
   "cell_type": "markdown",
   "id": "b658e9ad-d98d-4d52-b792-4aa0340ffbdd",
   "metadata": {},
   "source": [
    "cek outlier lagi"
   ]
  },
  {
   "cell_type": "code",
   "execution_count": 30,
   "id": "05d65eaa-2ef3-4043-b005-d395c70913a1",
   "metadata": {},
   "outputs": [
    {
     "data": {
      "image/png": "[encoded data removed]",
      "text/plain": [
       "<Figure size 2000x200 with 1 Axes>"
      ]
     },
     "metadata": {},
     "output_type": "display_data"
    },
    {
     "data": {
      "image/png": "[encoded data removed]",
      "text/plain": [
       "<Figure size 2000x200 with 1 Axes>"
      ]
     },
     "metadata": {},
     "output_type": "display_data"
    },
    {
     "data": {
      "image/png": "[encoded data removed]",
      "text/plain": [
       "<Figure size 2000x200 with 1 Axes>"
      ]
     },
     "metadata": {},
     "output_type": "display_data"
    },
    {
     "data": {
      "image/png": "[encoded data removed]",
      "text/plain": [
       "<Figure size 2000x200 with 1 Axes>"
      ]
     },
     "metadata": {},
     "output_type": "display_data"
    },
    {
     "data": {
      "image/png": "[encoded data removed]",
      "text/plain": [
       "<Figure size 2000x200 with 1 Axes>"
      ]
     },
     "metadata": {},
     "output_type": "display_data"
    },
    {
     "data": {
      "image/png": "[encoded data removed]",
      "text/plain": [
       "<Figure size 2000x200 with 1 Axes>"
      ]
     },
     "metadata": {},
     "output_type": "display_data"
    }
   ],
   "source": [
    "df_outlier = df.select_dtypes(exclude=['object'])\n",
    "for column in df_outlier:\n",
    "        plt.figure(figsize=(20,2))\n",
    "        sns.boxplot(data=df_outlier, x=column)"
   ]
  },
  {
   "cell_type": "markdown",
   "id": "56224011-b9d2-49a8-9d12-f2ceec43e32a",
   "metadata": {},
   "source": [
    "### Mengatasi Outlier\n",
    "mengatasi outlier dengan teknik winsorization"
   ]
  },
  {
   "cell_type": "code",
   "execution_count": 31,
   "id": "dc921623-8f1a-4334-8871-3c27c9de8143",
   "metadata": {},
   "outputs": [],
   "source": [
    "from scipy.stats.mstats import winsorize"
   ]
  },
  {
   "cell_type": "code",
   "execution_count": 32,
   "id": "18a53131-a91e-4c2a-9f3e-c8ff488b0dcc",
   "metadata": {},
   "outputs": [],
   "source": [
    "for column in df_outlier.columns:\n",
    "    df_outlier[column] = winsorize(df_outlier[column], limits=[0.1, 0.1])\n",
    "\n",
    "df = df_outlier"
   ]
  },
  {
   "cell_type": "code",
   "execution_count": 33,
   "id": "0c84ab53-1e6c-4eaf-b9f3-5034aac83602",
   "metadata": {},
   "outputs": [
    {
     "data": {
      "image/png": "[encoded data removed]",
      "text/plain": [
       "<Figure size 2000x200 with 1 Axes>"
      ]
     },
     "metadata": {},
     "output_type": "display_data"
    },
    {
     "data": {
      "image/png": "[encoded data removed]",
      "text/plain": [
       "<Figure size 2000x200 with 1 Axes>"
      ]
     },
     "metadata": {},
     "output_type": "display_data"
    },
    {
     "data": {
      "image/png": "[encoded data removed]",
      "text/plain": [
       "<Figure size 2000x200 with 1 Axes>"
      ]
     },
     "metadata": {},
     "output_type": "display_data"
    },
    {
     "data": {
      "image/png": "[encoded data removed]",
      "text/plain": [
       "<Figure size 2000x200 with 1 Axes>"
      ]
     },
     "metadata": {},
     "output_type": "display_data"
    },
    {
     "data": {
      "image/png": "[encoded data removed]",
      "text/plain": [
       "<Figure size 2000x200 with 1 Axes>"
      ]
     },
     "metadata": {},
     "output_type": "display_data"
    },
    {
     "data": {
      "image/png": "[encoded data removed]",
      "text/plain": [
       "<Figure size 2000x200 with 1 Axes>"
      ]
     },
     "metadata": {},
     "output_type": "display_data"
    }
   ],
   "source": [
    "for column in df:\n",
    "        plt.figure(figsize=(20,2))\n",
    "        sns.boxplot(data=df, x=column)"
   ]
  },
  {
   "cell_type": "markdown",
   "id": "305796d0-a686-419d-91c0-e6477ce4631b",
   "metadata": {},
   "source": [
    "masih ada sisa outlier di luas tanah setelah winsorization, dan coba di trim"
   ]
  },
  {
   "cell_type": "code",
   "execution_count": 34,
   "id": "25ce6616-2f59-4dcd-8c37-933d2ca062c2",
   "metadata": {},
   "outputs": [
    {
     "name": "stderr",
     "output_type": "stream",
     "text": [
      "/usr/local/lib/python3.10/dist-packages/numpy/lib/function_base.py:4737: UserWarning: Warning: 'partition' will ignore the 'mask' of the MaskedArray.\n",
      "  arr.partition(\n",
      "/usr/local/lib/python3.10/dist-packages/numpy/lib/function_base.py:4737: UserWarning: Warning: 'partition' will ignore the 'mask' of the MaskedArray.\n",
      "  arr.partition(\n"
     ]
    },
    {
     "data": {
      "text/plain": [
       "harga_juta       1485.0\n",
       "luas_tanah         81.0\n",
       "luas_bangunan     105.0\n",
       "bed                 2.0\n",
       "bath                2.0\n",
       "carport             1.0\n",
       "dtype: float64"
      ]
     },
     "execution_count": 34,
     "metadata": {},
     "output_type": "execute_result"
    }
   ],
   "source": [
    "# membuat kuartil 1 dan 3, dengan mengeluarkan tipe data objek dan menunjuk kuantil 0.25 untuk Q1 dan kuantil 0.75 untuk Q3\n",
    "q1 = df.select_dtypes(exclude=['object']).quantile (0.25)\n",
    "q3 = df.select_dtypes(exclude=['object']).quantile (0.75)\n",
    "iqr = q3-q1\n",
    "iqr"
   ]
  },
  {
   "cell_type": "code",
   "execution_count": 35,
   "id": "994b3424-e76d-42f7-8068-e6f56170025e",
   "metadata": {},
   "outputs": [
    {
     "data": {
      "text/html": [
       "<div>\n",
       "<style scoped>\n",
       "    .dataframe tbody tr th:only-of-type {\n",
       "        vertical-align: middle;\n",
       "    }\n",
       "\n",
       "    .dataframe tbody tr th {\n",
       "        vertical-align: top;\n",
       "    }\n",
       "\n",
       "    .dataframe thead th {\n",
       "        text-align: right;\n",
       "    }\n",
       "</style>\n",
       "<table border=\"1\" class=\"dataframe\">\n",
       "  <thead>\n",
       "    <tr style=\"text-align: right;\">\n",
       "      <th></th>\n",
       "      <th>harga_juta</th>\n",
       "      <th>luas_tanah</th>\n",
       "      <th>luas_bangunan</th>\n",
       "      <th>bed</th>\n",
       "      <th>bath</th>\n",
       "      <th>carport</th>\n",
       "    </tr>\n",
       "  </thead>\n",
       "  <tbody>\n",
       "    <tr>\n",
       "      <th>0</th>\n",
       "      <td>False</td>\n",
       "      <td>False</td>\n",
       "      <td>False</td>\n",
       "      <td>False</td>\n",
       "      <td>False</td>\n",
       "      <td>False</td>\n",
       "    </tr>\n",
       "    <tr>\n",
       "      <th>1</th>\n",
       "      <td>False</td>\n",
       "      <td>False</td>\n",
       "      <td>False</td>\n",
       "      <td>False</td>\n",
       "      <td>False</td>\n",
       "      <td>False</td>\n",
       "    </tr>\n",
       "    <tr>\n",
       "      <th>2</th>\n",
       "      <td>False</td>\n",
       "      <td>False</td>\n",
       "      <td>False</td>\n",
       "      <td>False</td>\n",
       "      <td>False</td>\n",
       "      <td>False</td>\n",
       "    </tr>\n",
       "    <tr>\n",
       "      <th>3</th>\n",
       "      <td>False</td>\n",
       "      <td>False</td>\n",
       "      <td>False</td>\n",
       "      <td>False</td>\n",
       "      <td>False</td>\n",
       "      <td>False</td>\n",
       "    </tr>\n",
       "    <tr>\n",
       "      <th>4</th>\n",
       "      <td>False</td>\n",
       "      <td>False</td>\n",
       "      <td>False</td>\n",
       "      <td>False</td>\n",
       "      <td>False</td>\n",
       "      <td>False</td>\n",
       "    </tr>\n",
       "    <tr>\n",
       "      <th>...</th>\n",
       "      <td>...</td>\n",
       "      <td>...</td>\n",
       "      <td>...</td>\n",
       "      <td>...</td>\n",
       "      <td>...</td>\n",
       "      <td>...</td>\n",
       "    </tr>\n",
       "    <tr>\n",
       "      <th>2015</th>\n",
       "      <td>False</td>\n",
       "      <td>False</td>\n",
       "      <td>False</td>\n",
       "      <td>False</td>\n",
       "      <td>False</td>\n",
       "      <td>False</td>\n",
       "    </tr>\n",
       "    <tr>\n",
       "      <th>2016</th>\n",
       "      <td>False</td>\n",
       "      <td>False</td>\n",
       "      <td>False</td>\n",
       "      <td>False</td>\n",
       "      <td>False</td>\n",
       "      <td>False</td>\n",
       "    </tr>\n",
       "    <tr>\n",
       "      <th>2017</th>\n",
       "      <td>False</td>\n",
       "      <td>False</td>\n",
       "      <td>False</td>\n",
       "      <td>False</td>\n",
       "      <td>False</td>\n",
       "      <td>False</td>\n",
       "    </tr>\n",
       "    <tr>\n",
       "      <th>2018</th>\n",
       "      <td>False</td>\n",
       "      <td>False</td>\n",
       "      <td>False</td>\n",
       "      <td>False</td>\n",
       "      <td>False</td>\n",
       "      <td>False</td>\n",
       "    </tr>\n",
       "    <tr>\n",
       "      <th>2019</th>\n",
       "      <td>False</td>\n",
       "      <td>False</td>\n",
       "      <td>False</td>\n",
       "      <td>False</td>\n",
       "      <td>False</td>\n",
       "      <td>False</td>\n",
       "    </tr>\n",
       "  </tbody>\n",
       "</table>\n",
       "<p>2019 rows × 6 columns</p>\n",
       "</div>"
      ],
      "text/plain": [
       "      harga_juta  luas_tanah  luas_bangunan    bed   bath  carport\n",
       "0          False       False          False  False  False    False\n",
       "1          False       False          False  False  False    False\n",
       "2          False       False          False  False  False    False\n",
       "3          False       False          False  False  False    False\n",
       "4          False       False          False  False  False    False\n",
       "...          ...         ...            ...    ...    ...      ...\n",
       "2015       False       False          False  False  False    False\n",
       "2016       False       False          False  False  False    False\n",
       "2017       False       False          False  False  False    False\n",
       "2018       False       False          False  False  False    False\n",
       "2019       False       False          False  False  False    False\n",
       "\n",
       "[2019 rows x 6 columns]"
      ]
     },
     "execution_count": 35,
     "metadata": {},
     "output_type": "execute_result"
    }
   ],
   "source": [
    "# Filter outlier pada dataset\n",
    "outlier_filter = (df.select_dtypes(exclude=['object']) < q1 - 1.5 * iqr) | (df.select_dtypes(exclude=['object']) > q3 + 1.5 * iqr)\n",
    "outlier_filter"
   ]
  },
  {
   "cell_type": "code",
   "execution_count": 36,
   "id": "5930a43f-a7f9-4296-a3a2-ef29653e42f9",
   "metadata": {},
   "outputs": [
    {
     "name": "stdout",
     "output_type": "stream",
     "text": [
      "Nama Kolom: harga_juta\n",
      "harga_juta\n",
      "False    2019\n",
      "Name: count, dtype: int64\n",
      "-------------------\n",
      "Nama Kolom: luas_tanah\n",
      "luas_tanah\n",
      "False    1779\n",
      "True      240\n",
      "Name: count, dtype: int64\n",
      "-------------------\n",
      "Nama Kolom: luas_bangunan\n",
      "luas_bangunan\n",
      "False    2019\n",
      "Name: count, dtype: int64\n",
      "-------------------\n",
      "Nama Kolom: bed\n",
      "bed\n",
      "False    2019\n",
      "Name: count, dtype: int64\n",
      "-------------------\n",
      "Nama Kolom: bath\n",
      "bath\n",
      "False    2019\n",
      "Name: count, dtype: int64\n",
      "-------------------\n",
      "Nama Kolom: carport\n",
      "carport\n",
      "False    2019\n",
      "Name: count, dtype: int64\n",
      "-------------------\n"
     ]
    }
   ],
   "source": [
    "# Menghitung Jumlah Outlier Pada Data\n",
    "# hanya kolom length yang punya outlier\n",
    "for col in outlier_filter.columns :\n",
    "    if df[col].dtype != object :\n",
    "        print('Nama Kolom:',col)\n",
    "        print(outlier_filter[col].value_counts())\n",
    "        print('-------------------')"
   ]
  },
  {
   "cell_type": "code",
   "execution_count": 37,
   "id": "3371968c-51f6-4e65-8f05-aed7b45ce121",
   "metadata": {},
   "outputs": [],
   "source": [
    "df['luas_tanah'] = winsorize(df['luas_tanah'], limits=[0, 0.12])"
   ]
  },
  {
   "cell_type": "code",
   "execution_count": 38,
   "id": "354a325b-b261-4896-8202-c26a8b63089c",
   "metadata": {},
   "outputs": [
    {
     "data": {
      "text/plain": [
       "<Axes: xlabel='luas_tanah'>"
      ]
     },
     "execution_count": 38,
     "metadata": {},
     "output_type": "execute_result"
    },
    {
     "data": {
      "image/png": "[encoded data removed]",
      "text/plain": [
       "<Figure size 2000x200 with 1 Axes>"
      ]
     },
     "metadata": {},
     "output_type": "display_data"
    }
   ],
   "source": [
    "# Mencari Outliers - Boxplot\n",
    "plt.figure(figsize=(20,2))\n",
    "sns.boxplot(data=df, x=df['luas_tanah'])"
   ]
  },
  {
   "cell_type": "markdown",
   "id": "5958b678-9229-4606-aa99-6b7d514904ca",
   "metadata": {},
   "source": [
    "### Cek Heatmap"
   ]
  },
  {
   "cell_type": "code",
   "execution_count": 39,
   "id": "3e8e3237-dc36-4792-9261-3164471276ff",
   "metadata": {},
   "outputs": [
    {
     "data": {
      "image/png": "[encoded data removed]",
      "text/plain": [
       "<Figure size 1000x800 with 2 Axes>"
      ]
     },
     "metadata": {},
     "output_type": "display_data"
    }
   ],
   "source": [
    "# Menghitung korelasi antar kolom numerik\n",
    "correlation_matrix = df.corr()\n",
    "\n",
    "# Membuat correlation heatmap menggunakan seaborn\n",
    "plt.figure(figsize=(10,8))  # Ukuran plot\n",
    "sns.heatmap(correlation_matrix, annot=True, cmap='coolwarm', fmt='.2f', linewidths=0.5)\n",
    "plt.title('Correlation Heatmap')\n",
    "plt.show()"
   ]
  },
  {
   "cell_type": "markdown",
   "id": "d003cbe8-769a-4485-8883-d27117e1114b",
   "metadata": {},
   "source": [
    "## Modeling"
   ]
  },
  {
   "cell_type": "code",
   "execution_count": 40,
   "id": "11d98e81-e5f5-4270-966b-42568b0ba9d6",
   "metadata": {},
   "outputs": [],
   "source": [
    "from sklearn import preprocessing\n",
    "from sklearn.model_selection import train_test_split\n",
    "from sklearn.linear_model import LinearRegression\n",
    "from sklearn.metrics import mean_squared_error, r2_score\n",
    "import matplotlib.pyplot as plt"
   ]
  },
  {
   "cell_type": "code",
   "execution_count": 41,
   "id": "8212a73a-3d64-448a-b3d1-c3c6f3d22b1d",
   "metadata": {},
   "outputs": [
    {
     "data": {
      "text/html": [
       "<div>\n",
       "<style scoped>\n",
       "    .dataframe tbody tr th:only-of-type {\n",
       "        vertical-align: middle;\n",
       "    }\n",
       "\n",
       "    .dataframe tbody tr th {\n",
       "        vertical-align: top;\n",
       "    }\n",
       "\n",
       "    .dataframe thead th {\n",
       "        text-align: right;\n",
       "    }\n",
       "</style>\n",
       "<table border=\"1\" class=\"dataframe\">\n",
       "  <thead>\n",
       "    <tr style=\"text-align: right;\">\n",
       "      <th></th>\n",
       "      <th>harga_juta</th>\n",
       "      <th>luas_tanah</th>\n",
       "      <th>luas_bangunan</th>\n",
       "      <th>bed</th>\n",
       "      <th>bath</th>\n",
       "      <th>carport</th>\n",
       "    </tr>\n",
       "  </thead>\n",
       "  <tbody>\n",
       "    <tr>\n",
       "      <th>0</th>\n",
       "      <td>1790.0</td>\n",
       "      <td>120.0</td>\n",
       "      <td>110.0</td>\n",
       "      <td>3.0</td>\n",
       "      <td>3.0</td>\n",
       "      <td>2.0</td>\n",
       "    </tr>\n",
       "    <tr>\n",
       "      <th>1</th>\n",
       "      <td>399.0</td>\n",
       "      <td>102.0</td>\n",
       "      <td>126.0</td>\n",
       "      <td>3.0</td>\n",
       "      <td>2.0</td>\n",
       "      <td>1.0</td>\n",
       "    </tr>\n",
       "    <tr>\n",
       "      <th>2</th>\n",
       "      <td>695.0</td>\n",
       "      <td>100.0</td>\n",
       "      <td>100.0</td>\n",
       "      <td>2.0</td>\n",
       "      <td>2.0</td>\n",
       "      <td>1.0</td>\n",
       "    </tr>\n",
       "    <tr>\n",
       "      <th>3</th>\n",
       "      <td>560.0</td>\n",
       "      <td>109.0</td>\n",
       "      <td>67.0</td>\n",
       "      <td>3.0</td>\n",
       "      <td>1.0</td>\n",
       "      <td>1.0</td>\n",
       "    </tr>\n",
       "    <tr>\n",
       "      <th>4</th>\n",
       "      <td>399.0</td>\n",
       "      <td>80.0</td>\n",
       "      <td>45.0</td>\n",
       "      <td>2.0</td>\n",
       "      <td>1.0</td>\n",
       "      <td>1.0</td>\n",
       "    </tr>\n",
       "  </tbody>\n",
       "</table>\n",
       "</div>"
      ],
      "text/plain": [
       "   harga_juta  luas_tanah  luas_bangunan  bed  bath  carport\n",
       "0      1790.0       120.0          110.0  3.0   3.0      2.0\n",
       "1       399.0       102.0          126.0  3.0   2.0      1.0\n",
       "2       695.0       100.0          100.0  2.0   2.0      1.0\n",
       "3       560.0       109.0           67.0  3.0   1.0      1.0\n",
       "4       399.0        80.0           45.0  2.0   1.0      1.0"
      ]
     },
     "execution_count": 41,
     "metadata": {},
     "output_type": "execute_result"
    }
   ],
   "source": [
    "df.head()"
   ]
  },
  {
   "cell_type": "markdown",
   "id": "bcd43a6c-e5e9-4c6b-ac2f-9cafeb3de5bf",
   "metadata": {},
   "source": [
    "### Modelling Linear Regression 1"
   ]
  },
  {
   "cell_type": "code",
   "execution_count": 42,
   "id": "ccae07c9-7d95-4391-b9f3-d46bd83d9256",
   "metadata": {},
   "outputs": [],
   "source": [
    "X = df[['luas_tanah', 'luas_bangunan', 'bed', 'bath', 'carport']]\n",
    "y = df['harga_juta']"
   ]
  },
  {
   "cell_type": "code",
   "execution_count": 43,
   "id": "c4e0420a-91db-421f-b207-111d8c8428b1",
   "metadata": {},
   "outputs": [],
   "source": [
    "X_train, X_test, y_train, y_test = train_test_split(X,y,test_size=0.2, random_state=42)"
   ]
  },
  {
   "cell_type": "code",
   "execution_count": 44,
   "id": "1b8d3d20-4c4f-4605-afec-c36ce9a002dc",
   "metadata": {},
   "outputs": [
    {
     "data": {
      "text/html": [
       "<style>#sk-container-id-1 {\n",
       "  /* Definition of color scheme common for light and dark mode */\n",
       "  --sklearn-color-text: black;\n",
       "  --sklearn-color-line: gray;\n",
       "  /* Definition of color scheme for unfitted estimators */\n",
       "  --sklearn-color-unfitted-level-0: #fff5e6;\n",
       "  --sklearn-color-unfitted-level-1: #f6e4d2;\n",
       "  --sklearn-color-unfitted-level-2: #ffe0b3;\n",
       "  --sklearn-color-unfitted-level-3: chocolate;\n",
       "  /* Definition of color scheme for fitted estimators */\n",
       "  --sklearn-color-fitted-level-0: #f0f8ff;\n",
       "  --sklearn-color-fitted-level-1: #d4ebff;\n",
       "  --sklearn-color-fitted-level-2: #b3dbfd;\n",
       "  --sklearn-color-fitted-level-3: cornflowerblue;\n",
       "\n",
       "  /* Specific color for light theme */\n",
       "  --sklearn-color-text-on-default-background: var(--sg-text-color, var(--theme-code-foreground, var(--jp-content-font-color1, black)));\n",
       "  --sklearn-color-background: var(--sg-background-color, var(--theme-background, var(--jp-layout-color0, white)));\n",
       "  --sklearn-color-border-box: var(--sg-text-color, var(--theme-code-foreground, var(--jp-content-font-color1, black)));\n",
       "  --sklearn-color-icon: #696969;\n",
       "\n",
       "  @media (prefers-color-scheme: dark) {\n",
       "    /* Redefinition of color scheme for dark theme */\n",
       "    --sklearn-color-text-on-default-background: var(--sg-text-color, var(--theme-code-foreground, var(--jp-content-font-color1, white)));\n",
       "    --sklearn-color-background: var(--sg-background-color, var(--theme-background, var(--jp-layout-color0, #111)));\n",
       "    --sklearn-color-border-box: var(--sg-text-color, var(--theme-code-foreground, var(--jp-content-font-color1, white)));\n",
       "    --sklearn-color-icon: #878787;\n",
       "  }\n",
       "}\n",
       "\n",
       "#sk-container-id-1 {\n",
       "  color: var(--sklearn-color-text);\n",
       "}\n",
       "\n",
       "#sk-container-id-1 pre {\n",
       "  padding: 0;\n",
       "}\n",
       "\n",
       "#sk-container-id-1 input.sk-hidden--visually {\n",
       "  border: 0;\n",
       "  clip: rect(1px 1px 1px 1px);\n",
       "  clip: rect(1px, 1px, 1px, 1px);\n",
       "  height: 1px;\n",
       "  margin: -1px;\n",
       "  overflow: hidden;\n",
       "  padding: 0;\n",
       "  position: absolute;\n",
       "  width: 1px;\n",
       "}\n",
       "\n",
       "#sk-container-id-1 div.sk-dashed-wrapped {\n",
       "  border: 1px dashed var(--sklearn-color-line);\n",
       "  margin: 0 0.4em 0.5em 0.4em;\n",
       "  box-sizing: border-box;\n",
       "  padding-bottom: 0.4em;\n",
       "  background-color: var(--sklearn-color-background);\n",
       "}\n",
       "\n",
       "#sk-container-id-1 div.sk-container {\n",
       "  /* jupyter's `normalize.less` sets `[hidden] { display: none; }`\n",
       "     but bootstrap.min.css set `[hidden] { display: none !important; }`\n",
       "     so we also need the `!important` here to be able to override the\n",
       "     default hidden behavior on the sphinx rendered scikit-learn.org.\n",
       "     See: https://github.com/scikit-learn/scikit-learn/issues/21755 */\n",
       "  display: inline-block !important;\n",
       "  position: relative;\n",
       "}\n",
       "\n",
       "#sk-container-id-1 div.sk-text-repr-fallback {\n",
       "  display: none;\n",
       "}\n",
       "\n",
       "div.sk-parallel-item,\n",
       "div.sk-serial,\n",
       "div.sk-item {\n",
       "  /* draw centered vertical line to link estimators */\n",
       "  background-image: linear-gradient(var(--sklearn-color-text-on-default-background), var(--sklearn-color-text-on-default-background));\n",
       "  background-size: 2px 100%;\n",
       "  background-repeat: no-repeat;\n",
       "  background-position: center center;\n",
       "}\n",
       "\n",
       "/* Parallel-specific style estimator block */\n",
       "\n",
       "#sk-container-id-1 div.sk-parallel-item::after {\n",
       "  content: \"\";\n",
       "  width: 100%;\n",
       "  border-bottom: 2px solid var(--sklearn-color-text-on-default-background);\n",
       "  flex-grow: 1;\n",
       "}\n",
       "\n",
       "#sk-container-id-1 div.sk-parallel {\n",
       "  display: flex;\n",
       "  align-items: stretch;\n",
       "  justify-content: center;\n",
       "  background-color: var(--sklearn-color-background);\n",
       "  position: relative;\n",
       "}\n",
       "\n",
       "#sk-container-id-1 div.sk-parallel-item {\n",
       "  display: flex;\n",
       "  flex-direction: column;\n",
       "}\n",
       "\n",
       "#sk-container-id-1 div.sk-parallel-item:first-child::after {\n",
       "  align-self: flex-end;\n",
       "  width: 50%;\n",
       "}\n",
       "\n",
       "#sk-container-id-1 div.sk-parallel-item:last-child::after {\n",
       "  align-self: flex-start;\n",
       "  width: 50%;\n",
       "}\n",
       "\n",
       "#sk-container-id-1 div.sk-parallel-item:only-child::after {\n",
       "  width: 0;\n",
       "}\n",
       "\n",
       "/* Serial-specific style estimator block */\n",
       "\n",
       "#sk-container-id-1 div.sk-serial {\n",
       "  display: flex;\n",
       "  flex-direction: column;\n",
       "  align-items: center;\n",
       "  background-color: var(--sklearn-color-background);\n",
       "  padding-right: 1em;\n",
       "  padding-left: 1em;\n",
       "}\n",
       "\n",
       "\n",
       "/* Toggleable style: style used for estimator/Pipeline/ColumnTransformer box that is\n",
       "clickable and can be expanded/collapsed.\n",
       "- Pipeline and ColumnTransformer use this feature and define the default style\n",
       "- Estimators will overwrite some part of the style using the `sk-estimator` class\n",
       "*/\n",
       "\n",
       "/* Pipeline and ColumnTransformer style (default) */\n",
       "\n",
       "#sk-container-id-1 div.sk-toggleable {\n",
       "  /* Default theme specific background. It is overwritten whether we have a\n",
       "  specific estimator or a Pipeline/ColumnTransformer */\n",
       "  background-color: var(--sklearn-color-background);\n",
       "}\n",
       "\n",
       "/* Toggleable label */\n",
       "#sk-container-id-1 label.sk-toggleable__label {\n",
       "  cursor: pointer;\n",
       "  display: block;\n",
       "  width: 100%;\n",
       "  margin-bottom: 0;\n",
       "  padding: 0.5em;\n",
       "  box-sizing: border-box;\n",
       "  text-align: center;\n",
       "}\n",
       "\n",
       "#sk-container-id-1 label.sk-toggleable__label-arrow:before {\n",
       "  /* Arrow on the left of the label */\n",
       "  content: \"▸\";\n",
       "  float: left;\n",
       "  margin-right: 0.25em;\n",
       "  color: var(--sklearn-color-icon);\n",
       "}\n",
       "\n",
       "#sk-container-id-1 label.sk-toggleable__label-arrow:hover:before {\n",
       "  color: var(--sklearn-color-text);\n",
       "}\n",
       "\n",
       "/* Toggleable content - dropdown */\n",
       "\n",
       "#sk-container-id-1 div.sk-toggleable__content {\n",
       "  max-height: 0;\n",
       "  max-width: 0;\n",
       "  overflow: hidden;\n",
       "  text-align: left;\n",
       "  /* unfitted */\n",
       "  background-color: var(--sklearn-color-unfitted-level-0);\n",
       "}\n",
       "\n",
       "#sk-container-id-1 div.sk-toggleable__content.fitted {\n",
       "  /* fitted */\n",
       "  background-color: var(--sklearn-color-fitted-level-0);\n",
       "}\n",
       "\n",
       "#sk-container-id-1 div.sk-toggleable__content pre {\n",
       "  margin: 0.2em;\n",
       "  border-radius: 0.25em;\n",
       "  color: var(--sklearn-color-text);\n",
       "  /* unfitted */\n",
       "  background-color: var(--sklearn-color-unfitted-level-0);\n",
       "}\n",
       "\n",
       "#sk-container-id-1 div.sk-toggleable__content.fitted pre {\n",
       "  /* unfitted */\n",
       "  background-color: var(--sklearn-color-fitted-level-0);\n",
       "}\n",
       "\n",
       "#sk-container-id-1 input.sk-toggleable__control:checked~div.sk-toggleable__content {\n",
       "  /* Expand drop-down */\n",
       "  max-height: 200px;\n",
       "  max-width: 100%;\n",
       "  overflow: auto;\n",
       "}\n",
       "\n",
       "#sk-container-id-1 input.sk-toggleable__control:checked~label.sk-toggleable__label-arrow:before {\n",
       "  content: \"▾\";\n",
       "}\n",
       "\n",
       "/* Pipeline/ColumnTransformer-specific style */\n",
       "\n",
       "#sk-container-id-1 div.sk-label input.sk-toggleable__control:checked~label.sk-toggleable__label {\n",
       "  color: var(--sklearn-color-text);\n",
       "  background-color: var(--sklearn-color-unfitted-level-2);\n",
       "}\n",
       "\n",
       "#sk-container-id-1 div.sk-label.fitted input.sk-toggleable__control:checked~label.sk-toggleable__label {\n",
       "  background-color: var(--sklearn-color-fitted-level-2);\n",
       "}\n",
       "\n",
       "/* Estimator-specific style */\n",
       "\n",
       "/* Colorize estimator box */\n",
       "#sk-container-id-1 div.sk-estimator input.sk-toggleable__control:checked~label.sk-toggleable__label {\n",
       "  /* unfitted */\n",
       "  background-color: var(--sklearn-color-unfitted-level-2);\n",
       "}\n",
       "\n",
       "#sk-container-id-1 div.sk-estimator.fitted input.sk-toggleable__control:checked~label.sk-toggleable__label {\n",
       "  /* fitted */\n",
       "  background-color: var(--sklearn-color-fitted-level-2);\n",
       "}\n",
       "\n",
       "#sk-container-id-1 div.sk-label label.sk-toggleable__label,\n",
       "#sk-container-id-1 div.sk-label label {\n",
       "  /* The background is the default theme color */\n",
       "  color: var(--sklearn-color-text-on-default-background);\n",
       "}\n",
       "\n",
       "/* On hover, darken the color of the background */\n",
       "#sk-container-id-1 div.sk-label:hover label.sk-toggleable__label {\n",
       "  color: var(--sklearn-color-text);\n",
       "  background-color: var(--sklearn-color-unfitted-level-2);\n",
       "}\n",
       "\n",
       "/* Label box, darken color on hover, fitted */\n",
       "#sk-container-id-1 div.sk-label.fitted:hover label.sk-toggleable__label.fitted {\n",
       "  color: var(--sklearn-color-text);\n",
       "  background-color: var(--sklearn-color-fitted-level-2);\n",
       "}\n",
       "\n",
       "/* Estimator label */\n",
       "\n",
       "#sk-container-id-1 div.sk-label label {\n",
       "  font-family: monospace;\n",
       "  font-weight: bold;\n",
       "  display: inline-block;\n",
       "  line-height: 1.2em;\n",
       "}\n",
       "\n",
       "#sk-container-id-1 div.sk-label-container {\n",
       "  text-align: center;\n",
       "}\n",
       "\n",
       "/* Estimator-specific */\n",
       "#sk-container-id-1 div.sk-estimator {\n",
       "  font-family: monospace;\n",
       "  border: 1px dotted var(--sklearn-color-border-box);\n",
       "  border-radius: 0.25em;\n",
       "  box-sizing: border-box;\n",
       "  margin-bottom: 0.5em;\n",
       "  /* unfitted */\n",
       "  background-color: var(--sklearn-color-unfitted-level-0);\n",
       "}\n",
       "\n",
       "#sk-container-id-1 div.sk-estimator.fitted {\n",
       "  /* fitted */\n",
       "  background-color: var(--sklearn-color-fitted-level-0);\n",
       "}\n",
       "\n",
       "/* on hover */\n",
       "#sk-container-id-1 div.sk-estimator:hover {\n",
       "  /* unfitted */\n",
       "  background-color: var(--sklearn-color-unfitted-level-2);\n",
       "}\n",
       "\n",
       "#sk-container-id-1 div.sk-estimator.fitted:hover {\n",
       "  /* fitted */\n",
       "  background-color: var(--sklearn-color-fitted-level-2);\n",
       "}\n",
       "\n",
       "/* Specification for estimator info (e.g. \"i\" and \"?\") */\n",
       "\n",
       "/* Common style for \"i\" and \"?\" */\n",
       "\n",
       ".sk-estimator-doc-link,\n",
       "a:link.sk-estimator-doc-link,\n",
       "a:visited.sk-estimator-doc-link {\n",
       "  float: right;\n",
       "  font-size: smaller;\n",
       "  line-height: 1em;\n",
       "  font-family: monospace;\n",
       "  background-color: var(--sklearn-color-background);\n",
       "  border-radius: 1em;\n",
       "  height: 1em;\n",
       "  width: 1em;\n",
       "  text-decoration: none !important;\n",
       "  margin-left: 1ex;\n",
       "  /* unfitted */\n",
       "  border: var(--sklearn-color-unfitted-level-1) 1pt solid;\n",
       "  color: var(--sklearn-color-unfitted-level-1);\n",
       "}\n",
       "\n",
       ".sk-estimator-doc-link.fitted,\n",
       "a:link.sk-estimator-doc-link.fitted,\n",
       "a:visited.sk-estimator-doc-link.fitted {\n",
       "  /* fitted */\n",
       "  border: var(--sklearn-color-fitted-level-1) 1pt solid;\n",
       "  color: var(--sklearn-color-fitted-level-1);\n",
       "}\n",
       "\n",
       "/* On hover */\n",
       "div.sk-estimator:hover .sk-estimator-doc-link:hover,\n",
       ".sk-estimator-doc-link:hover,\n",
       "div.sk-label-container:hover .sk-estimator-doc-link:hover,\n",
       ".sk-estimator-doc-link:hover {\n",
       "  /* unfitted */\n",
       "  background-color: var(--sklearn-color-unfitted-level-3);\n",
       "  color: var(--sklearn-color-background);\n",
       "  text-decoration: none;\n",
       "}\n",
       "\n",
       "div.sk-estimator.fitted:hover .sk-estimator-doc-link.fitted:hover,\n",
       ".sk-estimator-doc-link.fitted:hover,\n",
       "div.sk-label-container:hover .sk-estimator-doc-link.fitted:hover,\n",
       ".sk-estimator-doc-link.fitted:hover {\n",
       "  /* fitted */\n",
       "  background-color: var(--sklearn-color-fitted-level-3);\n",
       "  color: var(--sklearn-color-background);\n",
       "  text-decoration: none;\n",
       "}\n",
       "\n",
       "/* Span, style for the box shown on hovering the info icon */\n",
       ".sk-estimator-doc-link span {\n",
       "  display: none;\n",
       "  z-index: 9999;\n",
       "  position: relative;\n",
       "  font-weight: normal;\n",
       "  right: .2ex;\n",
       "  padding: .5ex;\n",
       "  margin: .5ex;\n",
       "  width: min-content;\n",
       "  min-width: 20ex;\n",
       "  max-width: 50ex;\n",
       "  color: var(--sklearn-color-text);\n",
       "  box-shadow: 2pt 2pt 4pt #999;\n",
       "  /* unfitted */\n",
       "  background: var(--sklearn-color-unfitted-level-0);\n",
       "  border: .5pt solid var(--sklearn-color-unfitted-level-3);\n",
       "}\n",
       "\n",
       ".sk-estimator-doc-link.fitted span {\n",
       "  /* fitted */\n",
       "  background: var(--sklearn-color-fitted-level-0);\n",
       "  border: var(--sklearn-color-fitted-level-3);\n",
       "}\n",
       "\n",
       ".sk-estimator-doc-link:hover span {\n",
       "  display: block;\n",
       "}\n",
       "\n",
       "/* \"?\"-specific style due to the `<a>` HTML tag */\n",
       "\n",
       "#sk-container-id-1 a.estimator_doc_link {\n",
       "  float: right;\n",
       "  font-size: 1rem;\n",
       "  line-height: 1em;\n",
       "  font-family: monospace;\n",
       "  background-color: var(--sklearn-color-background);\n",
       "  border-radius: 1rem;\n",
       "  height: 1rem;\n",
       "  width: 1rem;\n",
       "  text-decoration: none;\n",
       "  /* unfitted */\n",
       "  color: var(--sklearn-color-unfitted-level-1);\n",
       "  border: var(--sklearn-color-unfitted-level-1) 1pt solid;\n",
       "}\n",
       "\n",
       "#sk-container-id-1 a.estimator_doc_link.fitted {\n",
       "  /* fitted */\n",
       "  border: var(--sklearn-color-fitted-level-1) 1pt solid;\n",
       "  color: var(--sklearn-color-fitted-level-1);\n",
       "}\n",
       "\n",
       "/* On hover */\n",
       "#sk-container-id-1 a.estimator_doc_link:hover {\n",
       "  /* unfitted */\n",
       "  background-color: var(--sklearn-color-unfitted-level-3);\n",
       "  color: var(--sklearn-color-background);\n",
       "  text-decoration: none;\n",
       "}\n",
       "\n",
       "#sk-container-id-1 a.estimator_doc_link.fitted:hover {\n",
       "  /* fitted */\n",
       "  background-color: var(--sklearn-color-fitted-level-3);\n",
       "}\n",
       "</style><div id=\"sk-container-id-1\" class=\"sk-top-container\"><div class=\"sk-text-repr-fallback\"><pre>LinearRegression()</pre><b>In a Jupyter environment, please rerun this cell to show the HTML representation or trust the notebook. <br />On GitHub, the HTML representation is unable to render, please try loading this page with nbviewer.org.</b></div><div class=\"sk-container\" hidden><div class=\"sk-item\"><div class=\"sk-estimator fitted sk-toggleable\"><input class=\"sk-toggleable__control sk-hidden--visually\" id=\"sk-estimator-id-1\" type=\"checkbox\" checked><label for=\"sk-estimator-id-1\" class=\"sk-toggleable__label fitted sk-toggleable__label-arrow fitted\">&nbsp;&nbsp;LinearRegression<a class=\"sk-estimator-doc-link fitted\" rel=\"noreferrer\" target=\"_blank\" href=\"https://scikit-learn.org/1.4/modules/generated/sklearn.linear_model.LinearRegression.html\">?<span>Documentation for LinearRegression</span></a><span class=\"sk-estimator-doc-link fitted\">i<span>Fitted</span></span></label><div class=\"sk-toggleable__content fitted\"><pre>LinearRegression()</pre></div> </div></div></div></div>"
      ],
      "text/plain": [
       "LinearRegression()"
      ]
     },
     "execution_count": 44,
     "metadata": {},
     "output_type": "execute_result"
    }
   ],
   "source": [
    "# Memanggil objek LinearRegression ke dalam variabel mlr\n",
    "lr = LinearRegression()\n",
    "\n",
    "# Melatih model\n",
    "lr.fit(X_train, y_train)"
   ]
  },
  {
   "cell_type": "code",
   "execution_count": 45,
   "id": "de6e3e39-f012-46ca-9fc5-59fb83505bcf",
   "metadata": {},
   "outputs": [
    {
     "name": "stdout",
     "output_type": "stream",
     "text": [
      "Prediction for test set: [1803.33114884 2784.27769647 1543.62839137  417.5774528  1023.86181478\n",
      " 1810.61895122 1992.49227506 1044.16422282 1909.59490088 1226.03754666\n",
      "  928.96683099  600.55728171  655.53289387  357.95726457  457.50759951\n",
      " 1796.58655843 1084.31925932 3078.17270519 2082.51319035 2367.56578638\n",
      " 1871.15496814  453.16700802 1028.39972903 3510.42165313  938.74714493\n",
      "  724.27326957 2078.75660727 2148.33167313  985.84429989  772.11681459\n",
      "  862.12831203  465.58358476 1080.46543227  477.58511776  417.5774528\n",
      " 1641.42151262 2920.905396   1071.14431576 1704.29614175 1282.19138458\n",
      " 2504.29894605 1430.52301024  736.49969235  774.30309253 1466.5000422\n",
      " 1399.16021589  779.18657888  693.6127116   505.51373147  844.28859948\n",
      " 1181.53454458  766.83230499 1023.86181478 1771.34809614 1263.38039219\n",
      " 1720.74147732 1089.95991081 3420.79763242 2809.10692658 1263.66298217\n",
      " 3705.82543288 3604.88396639  579.59814818  724.27326957  978.15579137\n",
      " 1131.87561171 1806.46851369  936.37531568 2784.27769647  792.13203\n",
      " 1324.39427812 2090.47994764  457.50759951 1430.52301024 3096.90941074\n",
      "  447.58128528 2865.46938474  870.14199444 1458.58664388  563.60876461\n",
      "  417.5774528  1783.20927162  663.60887912 2638.75831153 2675.81788779\n",
      "  704.68351215  796.47262148  512.53473944 3241.54959101  844.28859948\n",
      " 1132.39711198 1297.14975161 1082.01915077  724.27326957  523.70618492\n",
      "  417.5774528   465.58358476 1865.33410294  903.88122069  846.96540969\n",
      "  773.18581239 1738.51888702 2373.56655288  972.67652514  657.60811263\n",
      " 2357.84641806 1986.78811905  738.87152159  501.58818374 1326.99099715\n",
      " 1080.96417347 2406.30232961 2976.8069824   757.48362145  824.43597102\n",
      "  784.28093453  798.35768628 3186.53343145 3180.69525189  445.50606652\n",
      " 2433.10906053  902.51765616 1140.83321224 1028.39972903 1321.83433866\n",
      "  703.83563632  485.82368995 1367.83492881 3119.79059393  417.5774528\n",
      "  541.68091739 3153.18785435 3694.89546383 3694.89546383  505.51373147\n",
      "  511.51449797  417.5774528   417.5774528   568.39196687  533.44234519\n",
      "  724.79220369 1914.55403131  574.61762316 3197.76613965  719.40380371\n",
      "  950.22717765  568.39196687  824.43597102 1355.83339582 1341.00287991\n",
      "  417.5774528  1818.47004668 1772.97096918 1016.01071931 2531.32114892\n",
      " 3144.75552191  657.67983332 1266.81436753 2219.55352303 1966.87062159\n",
      " 1178.91302997  417.5774528   573.89399217 1992.49227506  590.73485785\n",
      " 1448.95437398  820.2855335  1430.52301024  417.5774528   875.98017399\n",
      "  579.59814818  417.5774528  1208.52938572 3694.89546383 1317.97109377\n",
      " 2010.28762864  600.55728171 3694.89546383 1720.74147732 1899.11852298\n",
      " 1263.38039219 3390.27486582 1568.74481411 2180.48244507  568.39196687\n",
      "  477.58511776  796.28246752  465.58358476 1168.10510047 1297.3097724\n",
      "  620.2123821   629.45460912 1295.13683569  944.00152136 3538.57892446\n",
      "  884.28104904  895.22760474 2832.13442716 1140.83321224  589.52446241\n",
      "  489.74923769 1878.38684539 3694.89546383 3694.89546383 1317.97109377\n",
      "  907.79939433 1738.51888702  477.58511776 1356.43838823  417.5774528\n",
      "  849.12312422 1702.83689578  870.14199444 2394.69187962 1400.24276021\n",
      "  417.5774528   903.88122069  697.99745676 3364.85330656 1869.45780826\n",
      "  912.28138345  417.5774528  3401.53000875 2047.61253029  417.5774528\n",
      " 1430.52301024 1772.53196468  932.52148864  942.15119239  820.2855335\n",
      " 2407.93033494 1672.60132181 1558.19928166  687.61194511 2728.50416648\n",
      " 2585.80262253 1331.30145546  465.58358476 2076.55893113 1443.62827685\n",
      " 1442.55927906 3468.22252742  730.93416253  687.54964226  581.6110641\n",
      "  681.90778909 2270.88141923  507.58895023 1136.93246008 1080.96417347\n",
      " 1959.29134103 1494.06854091 1566.66274365  798.35768628 3281.2923552\n",
      "  955.80552629 1411.63548921 2709.15284537 1962.78505306 1377.75386894\n",
      " 2915.08044586 1084.31925932 1084.92445703 1073.31317222 1825.486452\n",
      "  908.44670196 3647.47056883 1430.52301024 1110.46926475  417.5774528\n",
      "  417.5774528   447.58128528 3784.51948454  441.58051878  798.35768628\n",
      "  614.10515909 1545.85902827 1648.41751971  591.1499016   629.45460912\n",
      " 1134.95427999  894.14506042 1805.4063676  3078.17270519  489.74923769\n",
      " 3694.89546383 1941.51136518  792.13203    3241.54959101  922.87619462\n",
      "  687.3523195   873.84265239  657.60811263 1161.87944418  417.5774528\n",
      "  712.07420851  936.37531568  687.54964226 1815.49526877  573.89399217\n",
      " 1390.43007129 3478.86786998  465.58358476 3091.72110497 3694.89546383\n",
      " 1899.30161995  417.5774528   959.76601515  999.8587488  1878.38684539\n",
      " 2314.58609289  999.8587488  1084.31925932 1582.20234765 1226.53168521\n",
      "  571.38353673 2685.19413835  814.28476701 3694.89546383 1556.1240629\n",
      "  595.52522891  447.16624152 1738.51888702 1143.76608553 1815.49526877\n",
      "  579.31095555 3694.89546383  627.37939036  465.58358476 1118.93016059\n",
      " 2092.08696897 1738.51888702 3133.12352178  650.21621458 2638.37523215\n",
      " 3174.85707234  767.13628957  534.2724327   417.5774528  3241.54959101\n",
      " 3241.54959101 3091.72110497 3694.89546383 2527.08199346 1560.34622112\n",
      " 1621.18857623  505.51373147 1374.44068772 1295.13683569  417.5774528\n",
      " 1990.848892   1823.79614382 1484.44003884 2223.52599588 3136.52756924\n",
      " 1657.10230896  465.58358476 3300.65084511 1657.58065194 2784.27769647\n",
      " 1589.50641957  493.51219848  826.2863     3694.89546383 2873.90171717\n",
      " 1448.36251749 1292.43345485 1073.31317222  876.14276094  694.26943709\n",
      "  962.22871064  477.58511776 1157.79130951  525.75383666 2077.97527609\n",
      " 3172.8287787  1308.98869766 1023.86181478 3784.51948454  732.98181427\n",
      " 1200.22851068 3454.864804   3217.05619805  585.59891468 1453.61689393\n",
      " 1140.83321224 1725.87124806 1878.38684539 1714.08398534 1172.91226348\n",
      " 1588.72461441  870.14199444 1430.52301024 1922.99269772 1738.51888702\n",
      " 1344.99329663 1728.93589585  417.5774528   441.58051878 1956.39680984\n",
      "  663.60887912  887.72187608 2909.07967937  740.94674035]\n"
     ]
    }
   ],
   "source": [
    "# Memprediksi model\n",
    "y_pred_lr = lr.predict(X_test)\n",
    "# Nilai prediksi\n",
    "print(\"Prediction for test set: {}\".format(y_pred_lr))"
   ]
  },
  {
   "cell_type": "code",
   "execution_count": 46,
   "id": "b43f03b4-898c-4832-bf20-6e92691a674a",
   "metadata": {},
   "outputs": [
    {
     "name": "stdout",
     "output_type": "stream",
     "text": [
      "Mean Squared Error (MSE): 302124.06757338485\n"
     ]
    }
   ],
   "source": [
    "# evaluasi model\n",
    "mse = mean_squared_error(y_test, y_pred_lr)\n",
    "print(f\"Mean Squared Error (MSE): {mse}\")"
   ]
  },
  {
   "cell_type": "code",
   "execution_count": 47,
   "id": "1245bb0a-37fd-4681-89d9-5f1abc0015b7",
   "metadata": {},
   "outputs": [
    {
     "data": {
      "text/html": [
       "<div>\n",
       "<style scoped>\n",
       "    .dataframe tbody tr th:only-of-type {\n",
       "        vertical-align: middle;\n",
       "    }\n",
       "\n",
       "    .dataframe tbody tr th {\n",
       "        vertical-align: top;\n",
       "    }\n",
       "\n",
       "    .dataframe thead th {\n",
       "        text-align: right;\n",
       "    }\n",
       "</style>\n",
       "<table border=\"1\" class=\"dataframe\">\n",
       "  <thead>\n",
       "    <tr style=\"text-align: right;\">\n",
       "      <th></th>\n",
       "      <th>Actual value</th>\n",
       "      <th>Predicted value</th>\n",
       "    </tr>\n",
       "  </thead>\n",
       "  <tbody>\n",
       "    <tr>\n",
       "      <th>1557</th>\n",
       "      <td>2100.0</td>\n",
       "      <td>1803.331149</td>\n",
       "    </tr>\n",
       "    <tr>\n",
       "      <th>526</th>\n",
       "      <td>3800.0</td>\n",
       "      <td>2784.277696</td>\n",
       "    </tr>\n",
       "    <tr>\n",
       "      <th>393</th>\n",
       "      <td>950.0</td>\n",
       "      <td>1543.628391</td>\n",
       "    </tr>\n",
       "    <tr>\n",
       "      <th>1790</th>\n",
       "      <td>500.0</td>\n",
       "      <td>417.577453</td>\n",
       "    </tr>\n",
       "    <tr>\n",
       "      <th>433</th>\n",
       "      <td>1380.0</td>\n",
       "      <td>1023.861815</td>\n",
       "    </tr>\n",
       "  </tbody>\n",
       "</table>\n",
       "</div>"
      ],
      "text/plain": [
       "      Actual value  Predicted value\n",
       "1557        2100.0      1803.331149\n",
       "526         3800.0      2784.277696\n",
       "393          950.0      1543.628391\n",
       "1790         500.0       417.577453\n",
       "433         1380.0      1023.861815"
      ]
     },
     "execution_count": 47,
     "metadata": {},
     "output_type": "execute_result"
    }
   ],
   "source": [
    "# Membandingkan nilai sebenarnya dengan nilai prediksi menggunakan linear regression\n",
    "lr_diff = pd.DataFrame({'Actual value': y_test, 'Predicted value': y_pred_lr})\n",
    "lr_diff.head()"
   ]
  },
  {
   "cell_type": "code",
   "execution_count": 48,
   "id": "f8a64bb3-fddc-4ee5-9dc2-6dc0c8121dd0",
   "metadata": {},
   "outputs": [],
   "source": [
    "# Menerapkan threshold pada variabel y_pred_lr ke dalam variabel y_predict_class\n",
    "y_predict_class = [1 if prob > 0.6 else 0 for prob in y_pred_lr]"
   ]
  },
  {
   "cell_type": "markdown",
   "id": "5f604883-918e-4b04-bb83-d53b5a5deb9a",
   "metadata": {},
   "source": [
    "### Menggunakan Tensorflow"
   ]
  },
  {
   "cell_type": "code",
   "execution_count": 50,
   "id": "dbc3ec40-fcb0-484a-bf7a-ec75ede206ce",
   "metadata": {},
   "outputs": [],
   "source": [
    "# Standardize the feature data\n",
    "scaler = preprocessing.StandardScaler()\n",
    "X_train_scaled = scaler.fit_transform(X_train)\n",
    "X_test_scaled = scaler.transform(X_test)"
   ]
  },
  {
   "cell_type": "code",
   "execution_count": 51,
   "id": "1c19a082-3ce0-460d-85ff-65980e71f4cd",
   "metadata": {},
   "outputs": [
    {
     "name": "stderr",
     "output_type": "stream",
     "text": [
      "2024-09-29 14:59:49.633482: I tensorflow/core/platform/cpu_feature_guard.cc:211] This TensorFlow binary is optimized to use available CPU instructions in performance-critical operations.\n",
      "To enable the following instructions: SSE3 SSE4.1 SSE4.2 AVX, in other operations, rebuild TensorFlow with the appropriate compiler flags.\n"
     ]
    }
   ],
   "source": [
    "import tensorflow as tf"
   ]
  },
  {
   "cell_type": "code",
   "execution_count": 52,
   "id": "d5d33014-1585-4b93-8fd3-0a41f77fc542",
   "metadata": {},
   "outputs": [
    {
     "data": {
      "text/plain": [
       "(1615, 5)"
      ]
     },
     "execution_count": 52,
     "metadata": {},
     "output_type": "execute_result"
    }
   ],
   "source": [
    "X_train_scaled.shape"
   ]
  },
  {
   "cell_type": "code",
   "execution_count": 53,
   "id": "48def57f-f70f-40a8-b5b9-396f519f8716",
   "metadata": {},
   "outputs": [],
   "source": [
    "y_train_scaled = y_train.values.reshape(-1, 1)\n",
    "y_test_scaled = y_test.values.reshape(-1, 1)"
   ]
  },
  {
   "cell_type": "code",
   "execution_count": 54,
   "id": "1ab36582-e0c4-4d6c-aa4e-7a3b43e7ed65",
   "metadata": {},
   "outputs": [],
   "source": [
    "target_scaler = preprocessing.StandardScaler()\n",
    "y_train_scaled = target_scaler.fit_transform(y_train_scaled)\n",
    "y_test_scaled = target_scaler.transform(y_test_scaled)"
   ]
  },
  {
   "cell_type": "code",
   "execution_count": 55,
   "id": "ee7f013b-dd0e-4f92-a71a-e53d528ec894",
   "metadata": {
    "scrolled": true
   },
   "outputs": [
    {
     "name": "stderr",
     "output_type": "stream",
     "text": [
      "2024-09-29 14:59:54.031894: I tensorflow/core/common_runtime/gpu/gpu_device.cc:1928] Created device /job:localhost/replica:0/task:0/device:GPU:0 with 17050 MB memory:  -> device: 0, name: NVIDIA A100-SXM4-40GB MIG 3g.20gb, pci bus id: 0000:bd:00.0, compute capability: 8.0\n"
     ]
    }
   ],
   "source": [
    "model = tf.keras.Sequential([\n",
    "    tf.keras.layers.Input(shape=(X_train_scaled.shape[1],)),\n",
    "    tf.keras.layers.Dense(64, activation='relu'),\n",
    "    tf.keras.layers.Dense(32, activation='relu'),\n",
    "    tf.keras.layers.Dense(1)\n",
    "])\n",
    "\n",
    "optimizer = tf.keras.optimizers.Adam(learning_rate=0.001)\n",
    "model.compile(optimizer=optimizer, loss='mean_squared_error')"
   ]
  },
  {
   "cell_type": "code",
   "execution_count": 56,
   "id": "f6ba0d89-45b3-4d5c-8f09-b13441fc221b",
   "metadata": {},
   "outputs": [
    {
     "data": {
      "text/html": [
       "<pre style=\"white-space:pre;overflow-x:auto;line-height:normal;font-family:Menlo,'DejaVu Sans Mono',consolas,'Courier New',monospace\"><span style=\"font-weight: bold\">Model: \"sequential\"</span>\n",
       "</pre>\n"
      ],
      "text/plain": [
       "\u001b[1mModel: \"sequential\"\u001b[0m\n"
      ]
     },
     "metadata": {},
     "output_type": "display_data"
    },
    {
     "data": {
      "text/html": [
       "<pre style=\"white-space:pre;overflow-x:auto;line-height:normal;font-family:Menlo,'DejaVu Sans Mono',consolas,'Courier New',monospace\">┏━━━━━━━━━━━━━━━━━━━━━━━━━━━━━━━━━┳━━━━━━━━━━━━━━━━━━━━━━━━┳━━━━━━━━━━━━━━━┓\n",
       "┃<span style=\"font-weight: bold\"> Layer (type)                    </span>┃<span style=\"font-weight: bold\"> Output Shape           </span>┃<span style=\"font-weight: bold\">       Param # </span>┃\n",
       "┡━━━━━━━━━━━━━━━━━━━━━━━━━━━━━━━━━╇━━━━━━━━━━━━━━━━━━━━━━━━╇━━━━━━━━━━━━━━━┩\n",
       "│ dense (<span style=\"color: #0087ff; text-decoration-color: #0087ff\">Dense</span>)                   │ (<span style=\"color: #00d7ff; text-decoration-color: #00d7ff\">None</span>, <span style=\"color: #00af00; text-decoration-color: #00af00\">64</span>)             │           <span style=\"color: #00af00; text-decoration-color: #00af00\">384</span> │\n",
       "├─────────────────────────────────┼────────────────────────┼───────────────┤\n",
       "│ dense_1 (<span style=\"color: #0087ff; text-decoration-color: #0087ff\">Dense</span>)                 │ (<span style=\"color: #00d7ff; text-decoration-color: #00d7ff\">None</span>, <span style=\"color: #00af00; text-decoration-color: #00af00\">32</span>)             │         <span style=\"color: #00af00; text-decoration-color: #00af00\">2,080</span> │\n",
       "├─────────────────────────────────┼────────────────────────┼───────────────┤\n",
       "│ dense_2 (<span style=\"color: #0087ff; text-decoration-color: #0087ff\">Dense</span>)                 │ (<span style=\"color: #00d7ff; text-decoration-color: #00d7ff\">None</span>, <span style=\"color: #00af00; text-decoration-color: #00af00\">1</span>)              │            <span style=\"color: #00af00; text-decoration-color: #00af00\">33</span> │\n",
       "└─────────────────────────────────┴────────────────────────┴───────────────┘\n",
       "</pre>\n"
      ],
      "text/plain": [
       "┏━━━━━━━━━━━━━━━━━━━━━━━━━━━━━━━━━┳━━━━━━━━━━━━━━━━━━━━━━━━┳━━━━━━━━━━━━━━━┓\n",
       "┃\u001b[1m \u001b[0m\u001b[1mLayer (type)                   \u001b[0m\u001b[1m \u001b[0m┃\u001b[1m \u001b[0m\u001b[1mOutput Shape          \u001b[0m\u001b[1m \u001b[0m┃\u001b[1m \u001b[0m\u001b[1m      Param #\u001b[0m\u001b[1m \u001b[0m┃\n",
       "┡━━━━━━━━━━━━━━━━━━━━━━━━━━━━━━━━━╇━━━━━━━━━━━━━━━━━━━━━━━━╇━━━━━━━━━━━━━━━┩\n",
       "│ dense (\u001b[38;5;33mDense\u001b[0m)                   │ (\u001b[38;5;45mNone\u001b[0m, \u001b[38;5;34m64\u001b[0m)             │           \u001b[38;5;34m384\u001b[0m │\n",
       "├─────────────────────────────────┼────────────────────────┼───────────────┤\n",
       "│ dense_1 (\u001b[38;5;33mDense\u001b[0m)                 │ (\u001b[38;5;45mNone\u001b[0m, \u001b[38;5;34m32\u001b[0m)             │         \u001b[38;5;34m2,080\u001b[0m │\n",
       "├─────────────────────────────────┼────────────────────────┼───────────────┤\n",
       "│ dense_2 (\u001b[38;5;33mDense\u001b[0m)                 │ (\u001b[38;5;45mNone\u001b[0m, \u001b[38;5;34m1\u001b[0m)              │            \u001b[38;5;34m33\u001b[0m │\n",
       "└─────────────────────────────────┴────────────────────────┴───────────────┘\n"
      ]
     },
     "metadata": {},
     "output_type": "display_data"
    },
    {
     "data": {
      "text/html": [
       "<pre style=\"white-space:pre;overflow-x:auto;line-height:normal;font-family:Menlo,'DejaVu Sans Mono',consolas,'Courier New',monospace\"><span style=\"font-weight: bold\"> Total params: </span><span style=\"color: #00af00; text-decoration-color: #00af00\">2,497</span> (9.75 KB)\n",
       "</pre>\n"
      ],
      "text/plain": [
       "\u001b[1m Total params: \u001b[0m\u001b[38;5;34m2,497\u001b[0m (9.75 KB)\n"
      ]
     },
     "metadata": {},
     "output_type": "display_data"
    },
    {
     "data": {
      "text/html": [
       "<pre style=\"white-space:pre;overflow-x:auto;line-height:normal;font-family:Menlo,'DejaVu Sans Mono',consolas,'Courier New',monospace\"><span style=\"font-weight: bold\"> Trainable params: </span><span style=\"color: #00af00; text-decoration-color: #00af00\">2,497</span> (9.75 KB)\n",
       "</pre>\n"
      ],
      "text/plain": [
       "\u001b[1m Trainable params: \u001b[0m\u001b[38;5;34m2,497\u001b[0m (9.75 KB)\n"
      ]
     },
     "metadata": {},
     "output_type": "display_data"
    },
    {
     "data": {
      "text/html": [
       "<pre style=\"white-space:pre;overflow-x:auto;line-height:normal;font-family:Menlo,'DejaVu Sans Mono',consolas,'Courier New',monospace\"><span style=\"font-weight: bold\"> Non-trainable params: </span><span style=\"color: #00af00; text-decoration-color: #00af00\">0</span> (0.00 B)\n",
       "</pre>\n"
      ],
      "text/plain": [
       "\u001b[1m Non-trainable params: \u001b[0m\u001b[38;5;34m0\u001b[0m (0.00 B)\n"
      ]
     },
     "metadata": {},
     "output_type": "display_data"
    }
   ],
   "source": [
    "model.summary()"
   ]
  },
  {
   "cell_type": "code",
   "execution_count": 57,
   "id": "55e223b9-4f4b-4912-ad37-861400752001",
   "metadata": {},
   "outputs": [],
   "source": [
    "early_stopping = tf.keras.callbacks.EarlyStopping(monitor='val_loss', patience=10)"
   ]
  },
  {
   "cell_type": "code",
   "execution_count": 58,
   "id": "1ed6a46a-1be0-4f6b-805e-64cbf0fe53bf",
   "metadata": {
    "scrolled": true
   },
   "outputs": [
    {
     "name": "stdout",
     "output_type": "stream",
     "text": [
      "Epoch 1/1000\n"
     ]
    },
    {
     "name": "stderr",
     "output_type": "stream",
     "text": [
      "WARNING: All log messages before absl::InitializeLog() is called are written to STDERR\n",
      "I0000 00:00:1727621998.501837  513721 service.cc:145] XLA service 0x7f30c0007ef0 initialized for platform CUDA (this does not guarantee that XLA will be used). Devices:\n",
      "I0000 00:00:1727621998.501880  513721 service.cc:153]   StreamExecutor device (0): NVIDIA A100-SXM4-40GB MIG 3g.20gb, Compute Capability 8.0\n",
      "2024-09-29 14:59:58.522591: I tensorflow/compiler/mlir/tensorflow/utils/dump_mlir_util.cc:268] disabling MLIR crash reproducer, set env var `MLIR_CRASH_REPRODUCER_DIRECTORY` to enable.\n",
      "2024-09-29 14:59:58.590004: I external/local_xla/xla/stream_executor/cuda/cuda_dnn.cc:465] Loaded cuDNN version 90300\n"
     ]
    },
    {
     "name": "stdout",
     "output_type": "stream",
     "text": [
      "\u001b[1m 1/41\u001b[0m \u001b[37m━━━━━━━━━━━━━━━━━━━━\u001b[0m \u001b[1m1:07\u001b[0m 2s/step - loss: 0.8976"
     ]
    },
    {
     "name": "stderr",
     "output_type": "stream",
     "text": [
      "I0000 00:00:1727621999.216649  513721 device_compiler.h:188] Compiled cluster using XLA!  This line is logged at most once for the lifetime of the process.\n"
     ]
    },
    {
     "name": "stdout",
     "output_type": "stream",
     "text": [
      "\u001b[1m41/41\u001b[0m \u001b[32m━━━━━━━━━━━━━━━━━━━━\u001b[0m\u001b[37m\u001b[0m \u001b[1m3s\u001b[0m 29ms/step - loss: 0.8299 - val_loss: 0.2414\n",
      "Epoch 2/1000\n",
      "\u001b[1m41/41\u001b[0m \u001b[32m━━━━━━━━━━━━━━━━━━━━\u001b[0m\u001b[37m\u001b[0m \u001b[1m0s\u001b[0m 3ms/step - loss: 0.2510 - val_loss: 0.1947\n",
      "Epoch 3/1000\n",
      "\u001b[1m41/41\u001b[0m \u001b[32m━━━━━━━━━━━━━━━━━━━━\u001b[0m\u001b[37m\u001b[0m \u001b[1m0s\u001b[0m 3ms/step - loss: 0.2302 - val_loss: 0.1932\n",
      "Epoch 4/1000\n",
      "\u001b[1m41/41\u001b[0m \u001b[32m━━━━━━━━━━━━━━━━━━━━\u001b[0m\u001b[37m\u001b[0m \u001b[1m0s\u001b[0m 3ms/step - loss: 0.2207 - val_loss: 0.1907\n",
      "Epoch 5/1000\n",
      "\u001b[1m41/41\u001b[0m \u001b[32m━━━━━━━━━━━━━━━━━━━━\u001b[0m\u001b[37m\u001b[0m \u001b[1m0s\u001b[0m 3ms/step - loss: 0.2087 - val_loss: 0.1847\n",
      "Epoch 6/1000\n",
      "\u001b[1m41/41\u001b[0m \u001b[32m━━━━━━━━━━━━━━━━━━━━\u001b[0m\u001b[37m\u001b[0m \u001b[1m0s\u001b[0m 3ms/step - loss: 0.1898 - val_loss: 0.1855\n",
      "Epoch 7/1000\n",
      "\u001b[1m41/41\u001b[0m \u001b[32m━━━━━━━━━━━━━━━━━━━━\u001b[0m\u001b[37m\u001b[0m \u001b[1m0s\u001b[0m 3ms/step - loss: 0.1928 - val_loss: 0.1822\n",
      "Epoch 8/1000\n",
      "\u001b[1m41/41\u001b[0m \u001b[32m━━━━━━━━━━━━━━━━━━━━\u001b[0m\u001b[37m\u001b[0m \u001b[1m0s\u001b[0m 3ms/step - loss: 0.1897 - val_loss: 0.1917\n",
      "Epoch 9/1000\n",
      "\u001b[1m41/41\u001b[0m \u001b[32m━━━━━━━━━━━━━━━━━━━━\u001b[0m\u001b[37m\u001b[0m \u001b[1m0s\u001b[0m 3ms/step - loss: 0.1889 - val_loss: 0.1967\n",
      "Epoch 10/1000\n",
      "\u001b[1m41/41\u001b[0m \u001b[32m━━━━━━━━━━━━━━━━━━━━\u001b[0m\u001b[37m\u001b[0m \u001b[1m0s\u001b[0m 2ms/step - loss: 0.2150 - val_loss: 0.1779\n",
      "Epoch 11/1000\n",
      "\u001b[1m41/41\u001b[0m \u001b[32m━━━━━━━━━━━━━━━━━━━━\u001b[0m\u001b[37m\u001b[0m \u001b[1m0s\u001b[0m 2ms/step - loss: 0.1820 - val_loss: 0.1802\n",
      "Epoch 12/1000\n",
      "\u001b[1m41/41\u001b[0m \u001b[32m━━━━━━━━━━━━━━━━━━━━\u001b[0m\u001b[37m\u001b[0m \u001b[1m0s\u001b[0m 3ms/step - loss: 0.1848 - val_loss: 0.1763\n",
      "Epoch 13/1000\n",
      "\u001b[1m41/41\u001b[0m \u001b[32m━━━━━━━━━━━━━━━━━━━━\u001b[0m\u001b[37m\u001b[0m \u001b[1m0s\u001b[0m 3ms/step - loss: 0.2004 - val_loss: 0.1788\n",
      "Epoch 14/1000\n",
      "\u001b[1m41/41\u001b[0m \u001b[32m━━━━━━━━━━━━━━━━━━━━\u001b[0m\u001b[37m\u001b[0m \u001b[1m0s\u001b[0m 2ms/step - loss: 0.1613 - val_loss: 0.1793\n",
      "Epoch 15/1000\n",
      "\u001b[1m41/41\u001b[0m \u001b[32m━━━━━━━━━━━━━━━━━━━━\u001b[0m\u001b[37m\u001b[0m \u001b[1m0s\u001b[0m 3ms/step - loss: 0.1807 - val_loss: 0.1765\n",
      "Epoch 16/1000\n",
      "\u001b[1m41/41\u001b[0m \u001b[32m━━━━━━━━━━━━━━━━━━━━\u001b[0m\u001b[37m\u001b[0m \u001b[1m0s\u001b[0m 3ms/step - loss: 0.1768 - val_loss: 0.1741\n",
      "Epoch 17/1000\n",
      "\u001b[1m41/41\u001b[0m \u001b[32m━━━━━━━━━━━━━━━━━━━━\u001b[0m\u001b[37m\u001b[0m \u001b[1m0s\u001b[0m 2ms/step - loss: 0.1663 - val_loss: 0.1773\n",
      "Epoch 18/1000\n",
      "\u001b[1m41/41\u001b[0m \u001b[32m━━━━━━━━━━━━━━━━━━━━\u001b[0m\u001b[37m\u001b[0m \u001b[1m0s\u001b[0m 3ms/step - loss: 0.1720 - val_loss: 0.1883\n",
      "Epoch 19/1000\n",
      "\u001b[1m41/41\u001b[0m \u001b[32m━━━━━━━━━━━━━━━━━━━━\u001b[0m\u001b[37m\u001b[0m \u001b[1m0s\u001b[0m 3ms/step - loss: 0.1820 - val_loss: 0.1784\n",
      "Epoch 20/1000\n",
      "\u001b[1m41/41\u001b[0m \u001b[32m━━━━━━━━━━━━━━━━━━━━\u001b[0m\u001b[37m\u001b[0m \u001b[1m0s\u001b[0m 3ms/step - loss: 0.1797 - val_loss: 0.1753\n",
      "Epoch 21/1000\n",
      "\u001b[1m41/41\u001b[0m \u001b[32m━━━━━━━━━━━━━━━━━━━━\u001b[0m\u001b[37m\u001b[0m \u001b[1m0s\u001b[0m 3ms/step - loss: 0.1806 - val_loss: 0.1788\n",
      "Epoch 22/1000\n",
      "\u001b[1m41/41\u001b[0m \u001b[32m━━━━━━━━━━━━━━━━━━━━\u001b[0m\u001b[37m\u001b[0m \u001b[1m0s\u001b[0m 3ms/step - loss: 0.1756 - val_loss: 0.1747\n",
      "Epoch 23/1000\n",
      "\u001b[1m41/41\u001b[0m \u001b[32m━━━━━━━━━━━━━━━━━━━━\u001b[0m\u001b[37m\u001b[0m \u001b[1m0s\u001b[0m 3ms/step - loss: 0.1727 - val_loss: 0.1760\n",
      "Epoch 24/1000\n",
      "\u001b[1m41/41\u001b[0m \u001b[32m━━━━━━━━━━━━━━━━━━━━\u001b[0m\u001b[37m\u001b[0m \u001b[1m0s\u001b[0m 3ms/step - loss: 0.1686 - val_loss: 0.1754\n",
      "Epoch 25/1000\n",
      "\u001b[1m41/41\u001b[0m \u001b[32m━━━━━━━━━━━━━━━━━━━━\u001b[0m\u001b[37m\u001b[0m \u001b[1m0s\u001b[0m 3ms/step - loss: 0.1784 - val_loss: 0.1764\n",
      "Epoch 26/1000\n",
      "\u001b[1m41/41\u001b[0m \u001b[32m━━━━━━━━━━━━━━━━━━━━\u001b[0m\u001b[37m\u001b[0m \u001b[1m0s\u001b[0m 3ms/step - loss: 0.1704 - val_loss: 0.1787\n"
     ]
    }
   ],
   "source": [
    "history = model.fit(\n",
    "    X_train_scaled, y_train_scaled,\n",
    "    epochs=1000,\n",
    "    validation_split=0.2,\n",
    "    callbacks=[early_stopping],\n",
    "    verbose=1\n",
    ")"
   ]
  },
  {
   "cell_type": "code",
   "execution_count": 59,
   "id": "13e02000-8264-4149-81f7-317e5647664e",
   "metadata": {},
   "outputs": [
    {
     "name": "stdout",
     "output_type": "stream",
     "text": [
      "\u001b[1m13/13\u001b[0m \u001b[32m━━━━━━━━━━━━━━━━━━━━\u001b[0m\u001b[37m\u001b[0m \u001b[1m1s\u001b[0m 28ms/step\n"
     ]
    }
   ],
   "source": [
    "# Predict and inverse transform\n",
    "y_pred_scaled = model.predict(X_test_scaled)\n",
    "y_pred = target_scaler.inverse_transform(y_pred_scaled)\n",
    "y_test_original = y_test.values"
   ]
  },
  {
   "cell_type": "code",
   "execution_count": 60,
   "id": "294b2919-cc8a-4620-b40d-dd3df854c5b0",
   "metadata": {},
   "outputs": [
    {
     "name": "stdout",
     "output_type": "stream",
     "text": [
      "Mean Squared Error (MSE): 246569.4826811255\n"
     ]
    }
   ],
   "source": [
    "mse = mean_squared_error(y_test_original, y_pred)\n",
    "print(f\"Mean Squared Error (MSE): {mse}\")"
   ]
  },
  {
   "cell_type": "code",
   "execution_count": 63,
   "id": "64cac5bf-5328-4376-98ab-e8f6f30053d2",
   "metadata": {},
   "outputs": [
    {
     "data": {
      "image/png": "[encoded data removed]",
      "text/plain": [
       "<Figure size 640x480 with 1 Axes>"
      ]
     },
     "metadata": {},
     "output_type": "display_data"
    }
   ],
   "source": [
    "# Plot actual vs predicted prices\n",
    "# Create the scatter plot for actual prices and predicted prices with different colors\n",
    "plt.scatter(y_test_original, y_test_original, label=\"Actual Prices\", color='green', alpha=0.6)\n",
    "plt.scatter(y_test_original, y_pred, label=\"Predicted Prices\", color='blue', alpha=0.6)\n",
    "\n",
    "# Set the x-label and y-label with different colors\n",
    "plt.xlabel(\"Actual Prices\")  # Green for x-label\n",
    "plt.ylabel(\"Predicted Prices\")  # Blue for y-label\n",
    "\n",
    "# Add title\n",
    "plt.title(\"Actual vs Predicted Prices\")\n",
    "\n",
    "# Display the legend\n",
    "plt.legend()\n",
    "\n",
    "# Show the plot\n",
    "plt.show()"
   ]
  },
  {
   "cell_type": "markdown",
   "id": "6d85556a-5d3d-4e23-805c-0cec07b2e0c5",
   "metadata": {},
   "source": [
    "### Random Forest"
   ]
  },
  {
   "cell_type": "code",
   "execution_count": 64,
   "id": "645ace2e-c5ca-4611-bef7-b926b3e0ac53",
   "metadata": {},
   "outputs": [],
   "source": [
    "from sklearn.model_selection import train_test_split\n",
    "from sklearn.ensemble import RandomForestRegressor\n",
    "from sklearn.metrics import mean_squared_error, r2_score"
   ]
  },
  {
   "cell_type": "code",
   "execution_count": 66,
   "id": "a64660af-46b5-47b8-b1d9-a2f6cafb6c78",
   "metadata": {},
   "outputs": [],
   "source": [
    "# Fitur (X) dan Target (y)\n",
    "X1 = df[['luas_tanah', 'luas_bangunan', 'bed', 'bath', 'carport']]\n",
    "y1 = df['harga_juta']"
   ]
  },
  {
   "cell_type": "code",
   "execution_count": 67,
   "id": "1015a2f7-9f20-4399-b4a5-b46beca4994f",
   "metadata": {},
   "outputs": [],
   "source": [
    "X_train1, X_test1, y_train1, y_test1 = train_test_split(X, y, test_size=0.2, random_state=42)"
   ]
  },
  {
   "cell_type": "code",
   "execution_count": 68,
   "id": "c63d6440-a95a-4649-8f35-ba9676d5b119",
   "metadata": {},
   "outputs": [
    {
     "data": {
      "text/html": [
       "<style>#sk-container-id-2 {\n",
       "  /* Definition of color scheme common for light and dark mode */\n",
       "  --sklearn-color-text: black;\n",
       "  --sklearn-color-line: gray;\n",
       "  /* Definition of color scheme for unfitted estimators */\n",
       "  --sklearn-color-unfitted-level-0: #fff5e6;\n",
       "  --sklearn-color-unfitted-level-1: #f6e4d2;\n",
       "  --sklearn-color-unfitted-level-2: #ffe0b3;\n",
       "  --sklearn-color-unfitted-level-3: chocolate;\n",
       "  /* Definition of color scheme for fitted estimators */\n",
       "  --sklearn-color-fitted-level-0: #f0f8ff;\n",
       "  --sklearn-color-fitted-level-1: #d4ebff;\n",
       "  --sklearn-color-fitted-level-2: #b3dbfd;\n",
       "  --sklearn-color-fitted-level-3: cornflowerblue;\n",
       "\n",
       "  /* Specific color for light theme */\n",
       "  --sklearn-color-text-on-default-background: var(--sg-text-color, var(--theme-code-foreground, var(--jp-content-font-color1, black)));\n",
       "  --sklearn-color-background: var(--sg-background-color, var(--theme-background, var(--jp-layout-color0, white)));\n",
       "  --sklearn-color-border-box: var(--sg-text-color, var(--theme-code-foreground, var(--jp-content-font-color1, black)));\n",
       "  --sklearn-color-icon: #696969;\n",
       "\n",
       "  @media (prefers-color-scheme: dark) {\n",
       "    /* Redefinition of color scheme for dark theme */\n",
       "    --sklearn-color-text-on-default-background: var(--sg-text-color, var(--theme-code-foreground, var(--jp-content-font-color1, white)));\n",
       "    --sklearn-color-background: var(--sg-background-color, var(--theme-background, var(--jp-layout-color0, #111)));\n",
       "    --sklearn-color-border-box: var(--sg-text-color, var(--theme-code-foreground, var(--jp-content-font-color1, white)));\n",
       "    --sklearn-color-icon: #878787;\n",
       "  }\n",
       "}\n",
       "\n",
       "#sk-container-id-2 {\n",
       "  color: var(--sklearn-color-text);\n",
       "}\n",
       "\n",
       "#sk-container-id-2 pre {\n",
       "  padding: 0;\n",
       "}\n",
       "\n",
       "#sk-container-id-2 input.sk-hidden--visually {\n",
       "  border: 0;\n",
       "  clip: rect(1px 1px 1px 1px);\n",
       "  clip: rect(1px, 1px, 1px, 1px);\n",
       "  height: 1px;\n",
       "  margin: -1px;\n",
       "  overflow: hidden;\n",
       "  padding: 0;\n",
       "  position: absolute;\n",
       "  width: 1px;\n",
       "}\n",
       "\n",
       "#sk-container-id-2 div.sk-dashed-wrapped {\n",
       "  border: 1px dashed var(--sklearn-color-line);\n",
       "  margin: 0 0.4em 0.5em 0.4em;\n",
       "  box-sizing: border-box;\n",
       "  padding-bottom: 0.4em;\n",
       "  background-color: var(--sklearn-color-background);\n",
       "}\n",
       "\n",
       "#sk-container-id-2 div.sk-container {\n",
       "  /* jupyter's `normalize.less` sets `[hidden] { display: none; }`\n",
       "     but bootstrap.min.css set `[hidden] { display: none !important; }`\n",
       "     so we also need the `!important` here to be able to override the\n",
       "     default hidden behavior on the sphinx rendered scikit-learn.org.\n",
       "     See: https://github.com/scikit-learn/scikit-learn/issues/21755 */\n",
       "  display: inline-block !important;\n",
       "  position: relative;\n",
       "}\n",
       "\n",
       "#sk-container-id-2 div.sk-text-repr-fallback {\n",
       "  display: none;\n",
       "}\n",
       "\n",
       "div.sk-parallel-item,\n",
       "div.sk-serial,\n",
       "div.sk-item {\n",
       "  /* draw centered vertical line to link estimators */\n",
       "  background-image: linear-gradient(var(--sklearn-color-text-on-default-background), var(--sklearn-color-text-on-default-background));\n",
       "  background-size: 2px 100%;\n",
       "  background-repeat: no-repeat;\n",
       "  background-position: center center;\n",
       "}\n",
       "\n",
       "/* Parallel-specific style estimator block */\n",
       "\n",
       "#sk-container-id-2 div.sk-parallel-item::after {\n",
       "  content: \"\";\n",
       "  width: 100%;\n",
       "  border-bottom: 2px solid var(--sklearn-color-text-on-default-background);\n",
       "  flex-grow: 1;\n",
       "}\n",
       "\n",
       "#sk-container-id-2 div.sk-parallel {\n",
       "  display: flex;\n",
       "  align-items: stretch;\n",
       "  justify-content: center;\n",
       "  background-color: var(--sklearn-color-background);\n",
       "  position: relative;\n",
       "}\n",
       "\n",
       "#sk-container-id-2 div.sk-parallel-item {\n",
       "  display: flex;\n",
       "  flex-direction: column;\n",
       "}\n",
       "\n",
       "#sk-container-id-2 div.sk-parallel-item:first-child::after {\n",
       "  align-self: flex-end;\n",
       "  width: 50%;\n",
       "}\n",
       "\n",
       "#sk-container-id-2 div.sk-parallel-item:last-child::after {\n",
       "  align-self: flex-start;\n",
       "  width: 50%;\n",
       "}\n",
       "\n",
       "#sk-container-id-2 div.sk-parallel-item:only-child::after {\n",
       "  width: 0;\n",
       "}\n",
       "\n",
       "/* Serial-specific style estimator block */\n",
       "\n",
       "#sk-container-id-2 div.sk-serial {\n",
       "  display: flex;\n",
       "  flex-direction: column;\n",
       "  align-items: center;\n",
       "  background-color: var(--sklearn-color-background);\n",
       "  padding-right: 1em;\n",
       "  padding-left: 1em;\n",
       "}\n",
       "\n",
       "\n",
       "/* Toggleable style: style used for estimator/Pipeline/ColumnTransformer box that is\n",
       "clickable and can be expanded/collapsed.\n",
       "- Pipeline and ColumnTransformer use this feature and define the default style\n",
       "- Estimators will overwrite some part of the style using the `sk-estimator` class\n",
       "*/\n",
       "\n",
       "/* Pipeline and ColumnTransformer style (default) */\n",
       "\n",
       "#sk-container-id-2 div.sk-toggleable {\n",
       "  /* Default theme specific background. It is overwritten whether we have a\n",
       "  specific estimator or a Pipeline/ColumnTransformer */\n",
       "  background-color: var(--sklearn-color-background);\n",
       "}\n",
       "\n",
       "/* Toggleable label */\n",
       "#sk-container-id-2 label.sk-toggleable__label {\n",
       "  cursor: pointer;\n",
       "  display: block;\n",
       "  width: 100%;\n",
       "  margin-bottom: 0;\n",
       "  padding: 0.5em;\n",
       "  box-sizing: border-box;\n",
       "  text-align: center;\n",
       "}\n",
       "\n",
       "#sk-container-id-2 label.sk-toggleable__label-arrow:before {\n",
       "  /* Arrow on the left of the label */\n",
       "  content: \"▸\";\n",
       "  float: left;\n",
       "  margin-right: 0.25em;\n",
       "  color: var(--sklearn-color-icon);\n",
       "}\n",
       "\n",
       "#sk-container-id-2 label.sk-toggleable__label-arrow:hover:before {\n",
       "  color: var(--sklearn-color-text);\n",
       "}\n",
       "\n",
       "/* Toggleable content - dropdown */\n",
       "\n",
       "#sk-container-id-2 div.sk-toggleable__content {\n",
       "  max-height: 0;\n",
       "  max-width: 0;\n",
       "  overflow: hidden;\n",
       "  text-align: left;\n",
       "  /* unfitted */\n",
       "  background-color: var(--sklearn-color-unfitted-level-0);\n",
       "}\n",
       "\n",
       "#sk-container-id-2 div.sk-toggleable__content.fitted {\n",
       "  /* fitted */\n",
       "  background-color: var(--sklearn-color-fitted-level-0);\n",
       "}\n",
       "\n",
       "#sk-container-id-2 div.sk-toggleable__content pre {\n",
       "  margin: 0.2em;\n",
       "  border-radius: 0.25em;\n",
       "  color: var(--sklearn-color-text);\n",
       "  /* unfitted */\n",
       "  background-color: var(--sklearn-color-unfitted-level-0);\n",
       "}\n",
       "\n",
       "#sk-container-id-2 div.sk-toggleable__content.fitted pre {\n",
       "  /* unfitted */\n",
       "  background-color: var(--sklearn-color-fitted-level-0);\n",
       "}\n",
       "\n",
       "#sk-container-id-2 input.sk-toggleable__control:checked~div.sk-toggleable__content {\n",
       "  /* Expand drop-down */\n",
       "  max-height: 200px;\n",
       "  max-width: 100%;\n",
       "  overflow: auto;\n",
       "}\n",
       "\n",
       "#sk-container-id-2 input.sk-toggleable__control:checked~label.sk-toggleable__label-arrow:before {\n",
       "  content: \"▾\";\n",
       "}\n",
       "\n",
       "/* Pipeline/ColumnTransformer-specific style */\n",
       "\n",
       "#sk-container-id-2 div.sk-label input.sk-toggleable__control:checked~label.sk-toggleable__label {\n",
       "  color: var(--sklearn-color-text);\n",
       "  background-color: var(--sklearn-color-unfitted-level-2);\n",
       "}\n",
       "\n",
       "#sk-container-id-2 div.sk-label.fitted input.sk-toggleable__control:checked~label.sk-toggleable__label {\n",
       "  background-color: var(--sklearn-color-fitted-level-2);\n",
       "}\n",
       "\n",
       "/* Estimator-specific style */\n",
       "\n",
       "/* Colorize estimator box */\n",
       "#sk-container-id-2 div.sk-estimator input.sk-toggleable__control:checked~label.sk-toggleable__label {\n",
       "  /* unfitted */\n",
       "  background-color: var(--sklearn-color-unfitted-level-2);\n",
       "}\n",
       "\n",
       "#sk-container-id-2 div.sk-estimator.fitted input.sk-toggleable__control:checked~label.sk-toggleable__label {\n",
       "  /* fitted */\n",
       "  background-color: var(--sklearn-color-fitted-level-2);\n",
       "}\n",
       "\n",
       "#sk-container-id-2 div.sk-label label.sk-toggleable__label,\n",
       "#sk-container-id-2 div.sk-label label {\n",
       "  /* The background is the default theme color */\n",
       "  color: var(--sklearn-color-text-on-default-background);\n",
       "}\n",
       "\n",
       "/* On hover, darken the color of the background */\n",
       "#sk-container-id-2 div.sk-label:hover label.sk-toggleable__label {\n",
       "  color: var(--sklearn-color-text);\n",
       "  background-color: var(--sklearn-color-unfitted-level-2);\n",
       "}\n",
       "\n",
       "/* Label box, darken color on hover, fitted */\n",
       "#sk-container-id-2 div.sk-label.fitted:hover label.sk-toggleable__label.fitted {\n",
       "  color: var(--sklearn-color-text);\n",
       "  background-color: var(--sklearn-color-fitted-level-2);\n",
       "}\n",
       "\n",
       "/* Estimator label */\n",
       "\n",
       "#sk-container-id-2 div.sk-label label {\n",
       "  font-family: monospace;\n",
       "  font-weight: bold;\n",
       "  display: inline-block;\n",
       "  line-height: 1.2em;\n",
       "}\n",
       "\n",
       "#sk-container-id-2 div.sk-label-container {\n",
       "  text-align: center;\n",
       "}\n",
       "\n",
       "/* Estimator-specific */\n",
       "#sk-container-id-2 div.sk-estimator {\n",
       "  font-family: monospace;\n",
       "  border: 1px dotted var(--sklearn-color-border-box);\n",
       "  border-radius: 0.25em;\n",
       "  box-sizing: border-box;\n",
       "  margin-bottom: 0.5em;\n",
       "  /* unfitted */\n",
       "  background-color: var(--sklearn-color-unfitted-level-0);\n",
       "}\n",
       "\n",
       "#sk-container-id-2 div.sk-estimator.fitted {\n",
       "  /* fitted */\n",
       "  background-color: var(--sklearn-color-fitted-level-0);\n",
       "}\n",
       "\n",
       "/* on hover */\n",
       "#sk-container-id-2 div.sk-estimator:hover {\n",
       "  /* unfitted */\n",
       "  background-color: var(--sklearn-color-unfitted-level-2);\n",
       "}\n",
       "\n",
       "#sk-container-id-2 div.sk-estimator.fitted:hover {\n",
       "  /* fitted */\n",
       "  background-color: var(--sklearn-color-fitted-level-2);\n",
       "}\n",
       "\n",
       "/* Specification for estimator info (e.g. \"i\" and \"?\") */\n",
       "\n",
       "/* Common style for \"i\" and \"?\" */\n",
       "\n",
       ".sk-estimator-doc-link,\n",
       "a:link.sk-estimator-doc-link,\n",
       "a:visited.sk-estimator-doc-link {\n",
       "  float: right;\n",
       "  font-size: smaller;\n",
       "  line-height: 1em;\n",
       "  font-family: monospace;\n",
       "  background-color: var(--sklearn-color-background);\n",
       "  border-radius: 1em;\n",
       "  height: 1em;\n",
       "  width: 1em;\n",
       "  text-decoration: none !important;\n",
       "  margin-left: 1ex;\n",
       "  /* unfitted */\n",
       "  border: var(--sklearn-color-unfitted-level-1) 1pt solid;\n",
       "  color: var(--sklearn-color-unfitted-level-1);\n",
       "}\n",
       "\n",
       ".sk-estimator-doc-link.fitted,\n",
       "a:link.sk-estimator-doc-link.fitted,\n",
       "a:visited.sk-estimator-doc-link.fitted {\n",
       "  /* fitted */\n",
       "  border: var(--sklearn-color-fitted-level-1) 1pt solid;\n",
       "  color: var(--sklearn-color-fitted-level-1);\n",
       "}\n",
       "\n",
       "/* On hover */\n",
       "div.sk-estimator:hover .sk-estimator-doc-link:hover,\n",
       ".sk-estimator-doc-link:hover,\n",
       "div.sk-label-container:hover .sk-estimator-doc-link:hover,\n",
       ".sk-estimator-doc-link:hover {\n",
       "  /* unfitted */\n",
       "  background-color: var(--sklearn-color-unfitted-level-3);\n",
       "  color: var(--sklearn-color-background);\n",
       "  text-decoration: none;\n",
       "}\n",
       "\n",
       "div.sk-estimator.fitted:hover .sk-estimator-doc-link.fitted:hover,\n",
       ".sk-estimator-doc-link.fitted:hover,\n",
       "div.sk-label-container:hover .sk-estimator-doc-link.fitted:hover,\n",
       ".sk-estimator-doc-link.fitted:hover {\n",
       "  /* fitted */\n",
       "  background-color: var(--sklearn-color-fitted-level-3);\n",
       "  color: var(--sklearn-color-background);\n",
       "  text-decoration: none;\n",
       "}\n",
       "\n",
       "/* Span, style for the box shown on hovering the info icon */\n",
       ".sk-estimator-doc-link span {\n",
       "  display: none;\n",
       "  z-index: 9999;\n",
       "  position: relative;\n",
       "  font-weight: normal;\n",
       "  right: .2ex;\n",
       "  padding: .5ex;\n",
       "  margin: .5ex;\n",
       "  width: min-content;\n",
       "  min-width: 20ex;\n",
       "  max-width: 50ex;\n",
       "  color: var(--sklearn-color-text);\n",
       "  box-shadow: 2pt 2pt 4pt #999;\n",
       "  /* unfitted */\n",
       "  background: var(--sklearn-color-unfitted-level-0);\n",
       "  border: .5pt solid var(--sklearn-color-unfitted-level-3);\n",
       "}\n",
       "\n",
       ".sk-estimator-doc-link.fitted span {\n",
       "  /* fitted */\n",
       "  background: var(--sklearn-color-fitted-level-0);\n",
       "  border: var(--sklearn-color-fitted-level-3);\n",
       "}\n",
       "\n",
       ".sk-estimator-doc-link:hover span {\n",
       "  display: block;\n",
       "}\n",
       "\n",
       "/* \"?\"-specific style due to the `<a>` HTML tag */\n",
       "\n",
       "#sk-container-id-2 a.estimator_doc_link {\n",
       "  float: right;\n",
       "  font-size: 1rem;\n",
       "  line-height: 1em;\n",
       "  font-family: monospace;\n",
       "  background-color: var(--sklearn-color-background);\n",
       "  border-radius: 1rem;\n",
       "  height: 1rem;\n",
       "  width: 1rem;\n",
       "  text-decoration: none;\n",
       "  /* unfitted */\n",
       "  color: var(--sklearn-color-unfitted-level-1);\n",
       "  border: var(--sklearn-color-unfitted-level-1) 1pt solid;\n",
       "}\n",
       "\n",
       "#sk-container-id-2 a.estimator_doc_link.fitted {\n",
       "  /* fitted */\n",
       "  border: var(--sklearn-color-fitted-level-1) 1pt solid;\n",
       "  color: var(--sklearn-color-fitted-level-1);\n",
       "}\n",
       "\n",
       "/* On hover */\n",
       "#sk-container-id-2 a.estimator_doc_link:hover {\n",
       "  /* unfitted */\n",
       "  background-color: var(--sklearn-color-unfitted-level-3);\n",
       "  color: var(--sklearn-color-background);\n",
       "  text-decoration: none;\n",
       "}\n",
       "\n",
       "#sk-container-id-2 a.estimator_doc_link.fitted:hover {\n",
       "  /* fitted */\n",
       "  background-color: var(--sklearn-color-fitted-level-3);\n",
       "}\n",
       "</style><div id=\"sk-container-id-2\" class=\"sk-top-container\"><div class=\"sk-text-repr-fallback\"><pre>RandomForestRegressor(random_state=42)</pre><b>In a Jupyter environment, please rerun this cell to show the HTML representation or trust the notebook. <br />On GitHub, the HTML representation is unable to render, please try loading this page with nbviewer.org.</b></div><div class=\"sk-container\" hidden><div class=\"sk-item\"><div class=\"sk-estimator fitted sk-toggleable\"><input class=\"sk-toggleable__control sk-hidden--visually\" id=\"sk-estimator-id-2\" type=\"checkbox\" checked><label for=\"sk-estimator-id-2\" class=\"sk-toggleable__label fitted sk-toggleable__label-arrow fitted\">&nbsp;&nbsp;RandomForestRegressor<a class=\"sk-estimator-doc-link fitted\" rel=\"noreferrer\" target=\"_blank\" href=\"https://scikit-learn.org/1.4/modules/generated/sklearn.ensemble.RandomForestRegressor.html\">?<span>Documentation for RandomForestRegressor</span></a><span class=\"sk-estimator-doc-link fitted\">i<span>Fitted</span></span></label><div class=\"sk-toggleable__content fitted\"><pre>RandomForestRegressor(random_state=42)</pre></div> </div></div></div></div>"
      ],
      "text/plain": [
       "RandomForestRegressor(random_state=42)"
      ]
     },
     "execution_count": 68,
     "metadata": {},
     "output_type": "execute_result"
    }
   ],
   "source": [
    "# Inisialisasi model RandomForestRegressor\n",
    "model = RandomForestRegressor(n_estimators=100, random_state=42)\n",
    "\n",
    "# Latih model\n",
    "model.fit(X_train1, y_train1)"
   ]
  },
  {
   "cell_type": "code",
   "execution_count": 69,
   "id": "cf0a5ce6-ea90-46ff-98f0-45863b34ea35",
   "metadata": {},
   "outputs": [],
   "source": [
    "# Prediksi pada data uji\n",
    "y_pred1 = model.predict(X_test1)"
   ]
  },
  {
   "cell_type": "code",
   "execution_count": 70,
   "id": "24734222-2f3c-433a-a977-dc966ed2cf09",
   "metadata": {},
   "outputs": [
    {
     "name": "stdout",
     "output_type": "stream",
     "text": [
      "Mean Squared Error (MSE): 246569.4826811255\n"
     ]
    }
   ],
   "source": [
    "# Hitung MSE dan R-squared\n",
    "mse1 = mean_squared_error(y_test1, y_pred1)\n",
    "\n",
    "print(f\"Mean Squared Error (MSE): {mse}\")"
   ]
  },
  {
   "cell_type": "code",
   "execution_count": 71,
   "id": "9368c219-9ac4-4997-922d-d13f819177fe",
   "metadata": {},
   "outputs": [
    {
     "data": {
      "image/png": "[encoded data removed]",
      "text/plain": [
       "<Figure size 640x480 with 1 Axes>"
      ]
     },
     "metadata": {},
     "output_type": "display_data"
    }
   ],
   "source": [
    "plt.scatter(y_test, y_pred, color='blue', label=\"Prediksi\")\n",
    "plt.plot([y_test.min(), y_test.max()], [y_test.min(), y_test.max()], 'k--', lw=2, label=\"Actual\")\n",
    "plt.xlabel('Actual Prices')\n",
    "plt.ylabel('Predicted Prices')\n",
    "plt.title('Random Forest: Actual vs Predicted Prices')\n",
    "plt.legend()\n",
    "plt.show()"
   ]
  }
 ],
 "metadata": {
  "kernelspec": {
   "display_name": "Python 3 (ipykernel)",
   "language": "python",
   "name": "python3"
  },
  "language_info": {
   "codemirror_mode": {
    "name": "ipython",
    "version": 3
   },
   "file_extension": ".py",
   "mimetype": "text/x-python",
   "name": "python",
   "nbconvert_exporter": "python",
   "pygments_lexer": "ipython3",
   "version": "3.10.12"
  }
 },
 "nbformat": 4,
 "nbformat_minor": 5
}
